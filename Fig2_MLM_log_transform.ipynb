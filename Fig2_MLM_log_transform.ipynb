{
 "cells": [
  {
   "cell_type": "code",
   "execution_count": 112,
   "metadata": {},
   "outputs": [],
   "source": [
    "import numpy as np\n",
    "import matplotlib.pyplot as plt\n",
    "plt.rc('text', usetex=True)\n",
    "import pickle\n",
    "import os\n",
    "import time\n",
    "import datetime\n",
    "from matplotlib import patches\n",
    "import multi_tracker_analysis as mta\n",
    "import scipy.stats\n",
    "import figurefirst as fifi\n",
    "import pandas\n",
    "import copy\n",
    "import matplotlib.patches as mpatches\n",
    "\n",
    "from numpy import random, histogram2d, diff\n",
    "import matplotlib.pyplot as plt\n",
    "from scipy.interpolate import interp2d\n",
    "from scipy.interpolate import interp1d\n",
    "\n",
    "import statsmodels.api as sm\n",
    "import statsmodels.formula.api as smf\n",
    "\n",
    "import scipy.stats\n",
    "import scipy.optimize\n",
    "\n",
    "import flystat # for bootstrapping 95% conf. intervals"
   ]
  },
  {
   "cell_type": "markdown",
   "metadata": {},
   "source": [
    "# Load and Transform the Data"
   ]
  },
  {
   "cell_type": "code",
   "execution_count": 113,
   "metadata": {
    "code_folding": []
   },
   "outputs": [],
   "source": [
    "def load_data():\n",
    "    df = pandas.read_hdf('data/flydata_20210428_3cam.hdf', 'flydata_20210428_3cam')\n",
    "\n",
    "\n",
    "    minimum_req_visits = 3\n",
    "    flids_okay = []\n",
    "    for flid in df.flid.unique():\n",
    "        dfq = df[df.flid==flid]\n",
    "        if len(dfq) >= minimum_req_visits:\n",
    "            flids_okay.append(flid)\n",
    "    df = df[df.flid.isin(flids_okay)]\n",
    "\n",
    "    df.fraction_of_time_near_odor += 1e-4 # to help with logs\n",
    "\n",
    "    # spatial novelty\n",
    "    new_camera = []\n",
    "    for ix in range(len(df)):\n",
    "        nc = 1\n",
    "        try:\n",
    "            if df.iloc[ix].flid == df.iloc[ix-1].flid:\n",
    "                if df.iloc[ix].camera != df.iloc[ix-1].camera:\n",
    "                    nc = 2\n",
    "            else:\n",
    "                nc = 2\n",
    "        except:\n",
    "            nc = 2 # first one\n",
    "        new_camera.append(nc)\n",
    "    df['new_camera'] = new_camera\n",
    "\n",
    "    # nth visit\n",
    "    nth_visit = [1]\n",
    "    for ix in range(1, len(df)):\n",
    "        if df.iloc[ix].flid == df.iloc[ix-1].flid:\n",
    "            nth_visit.append(nth_visit[-1]+1)\n",
    "        else:\n",
    "            nth_visit.append(1)\n",
    "    df['nth_visit'] = nth_visit\n",
    "    df['log_nth_visit'] = np.log(nth_visit)\n",
    "\n",
    "    df['mean_interval'] = np.nanmean([df['interval'].values, df['interval2'].values], axis=0)\n",
    "    df['approached_odor'] = np.sign(df['fraction_of_time_near_odor']-0.001)\n",
    "\n",
    "    df['camera_num'] = (df['camera'] == 'center_camera')\n",
    "    df['camera_num'] = (df['camera_num'] -1) /2\n",
    "\n",
    "    return df"
   ]
  },
  {
   "cell_type": "code",
   "execution_count": 114,
   "metadata": {},
   "outputs": [],
   "source": [
    "def normalize_data(df):\n",
    "    df_norm = copy.copy(df)\n",
    "    normalization_transform_scale = pandas.DataFrame()\n",
    "    \n",
    "    for key in df.keys():\n",
    "        try:\n",
    "            scale = np.std(df[key])\n",
    "            norm = df[key] / scale\n",
    "            normalization_transform_scale[key] = [scale]\n",
    "        except:\n",
    "            print('Cannot normalize: ' + key)\n",
    "            norm = df[key]\n",
    "            normalization_transform_scale[key] = 1\n",
    "        df_norm[key] = norm\n",
    "        \n",
    "    df_norm['flid'] = df['flid']\n",
    "    return df_norm, normalization_transform_scale"
   ]
  },
  {
   "cell_type": "code",
   "execution_count": 115,
   "metadata": {},
   "outputs": [],
   "source": [
    "df = load_data()\n",
    "df = df[ ~ (df.nth_visit==1) ] # drop the first visits for this analysis\n",
    "df = df[df.interval > 0] # there is one encoutner with a negative interval (and must therefore be mislabelled)"
   ]
  },
  {
   "cell_type": "markdown",
   "metadata": {},
   "source": [
    "##### Log transform most of the data, and scale std dev to be unity"
   ]
  },
  {
   "cell_type": "code",
   "execution_count": 116,
   "metadata": {},
   "outputs": [],
   "source": [
    "trans_df = pandas.DataFrame()\n",
    "trans_df['flid'] = df.flid"
   ]
  },
  {
   "cell_type": "code",
   "execution_count": 117,
   "metadata": {},
   "outputs": [
    {
     "data": {
      "image/png": "[encoded data removed]",
      "text/plain": [
       "<matplotlib.figure.Figure at 0x7f6cf63953d0>"
      ]
     },
     "metadata": {},
     "output_type": "display_data"
    }
   ],
   "source": [
    "output = 'distance_travelled'\n",
    "inputs = ['nth_visit',\n",
    "          'interval',\n",
    "          'relative_epoch_time',\n",
    "          'new_camera',\n",
    "          'fraction_of_time_near_odor', # fraction_of_time_near_odor or approached_odor\n",
    "          'speed'] # or fraction_of_time_stopped\n",
    "\n",
    "keys = np.hstack((inputs, output, 'approached_odor'))\n",
    "\n",
    "fig = plt.figure(figsize=(7.5,5))\n",
    "fig.subplots_adjust(left=None, bottom=None, right=None, top=None, wspace=0.3, hspace=0.4)\n",
    "\n",
    "for i, key in enumerate(keys):\n",
    "    ax = fig.add_subplot(2,np.ceil(len(keys)/2.),i+1)\n",
    "    if key in ['distance_travelled', 'nth_visit', 'interval', 'relative_epoch_time', 'fraction_of_time_near_odor', 'speed']:\n",
    "        trans_df[key] = np.log(df[key])\n",
    "    else:\n",
    "        trans_df[key] = df[key]\n",
    "        \n",
    "    ax.hist(trans_df[key], normed=True)\n",
    "    rv = scipy.stats.norm(np.mean(trans_df[key]), np.std(trans_df[key]))\n",
    "    x = np.linspace(np.min(trans_df[key]),np.max(trans_df[key]),100)\n",
    "    pdf = rv.pdf(x)\n",
    "    ax.plot(x, pdf, color='red')\n",
    "        \n",
    "    ax.set_xlabel( key.replace('_', ' ') )\n",
    "    ax.set_xticks(np.round(np.linspace(ax.get_xticks()[0], ax.get_xticks()[-1], 4), 2))\n",
    "    \n",
    "trans_df_norm, normalization_transform_scale = normalize_data(trans_df)\n",
    "trans_df_norm.reset_index(inplace = True)\n",
    "    \n",
    "fifi.mpl_functions.set_fontsize(ax, 6)\n",
    "fig.savefig('sup_fig_data_log_transform.png', dpi=300)"
   ]
  },
  {
   "cell_type": "markdown",
   "metadata": {},
   "source": [
    "# Linear Mixed Effects Model\n",
    "\n",
    "Different (random) intercept for each fly, to account for potential \"individuality\" of each fly.\n",
    "\n",
    "https://www.statsmodels.org/devel/examples/notebooks/generated/mixed_lm_example.html"
   ]
  },
  {
   "cell_type": "markdown",
   "metadata": {},
   "source": [
    "##### The model"
   ]
  },
  {
   "cell_type": "code",
   "execution_count": 101,
   "metadata": {},
   "outputs": [
    {
     "name": "stdout",
     "output_type": "stream",
     "text": [
      "Model: \n",
      "distance_travelled ~   + nth_visit + interval + relative_epoch_time + new_camera + fraction_of_time_near_odor + speed\n"
     ]
    }
   ],
   "source": [
    "model = 'distance_travelled ~  '\n",
    "for input in inputs: \n",
    "    model += ' + ' + input\n",
    "print('Model: ')\n",
    "print(model)"
   ]
  },
  {
   "cell_type": "markdown",
   "metadata": {},
   "source": [
    "##### Fit the model"
   ]
  },
  {
   "cell_type": "code",
   "execution_count": 102,
   "metadata": {},
   "outputs": [
    {
     "name": "stdout",
     "output_type": "stream",
     "text": [
      "                Mixed Linear Model Regression Results\n",
      "=====================================================================\n",
      "Model:               MixedLM  Dependent Variable:  distance_travelled\n",
      "No. Observations:    162      Method:              REML              \n",
      "No. Groups:          16       Scale:               0.5459            \n",
      "Min. group size:     2        Likelihood:          -197.3254         \n",
      "Max. group size:     26       Converged:           Yes               \n",
      "Mean group size:     10.1                                            \n",
      "---------------------------------------------------------------------\n",
      "                           Coef.  Std.Err.   z    P>|z| [0.025 0.975]\n",
      "---------------------------------------------------------------------\n",
      "Intercept                   7.213    0.608 11.867 0.000  6.022  8.405\n",
      "nth_visit                   0.007    0.105  0.064 0.949 -0.198  0.212\n",
      "interval                    0.227    0.071  3.220 0.001  0.089  0.366\n",
      "relative_epoch_time        -0.188    0.107 -1.755 0.079 -0.397  0.022\n",
      "new_camera                  0.045    0.065  0.695 0.487 -0.082  0.172\n",
      "fraction_of_time_near_odor  0.531    0.061  8.658 0.000  0.411  0.651\n",
      "speed                      -0.032    0.066 -0.483 0.629 -0.161  0.098\n",
      "groups RE                   0.112    0.115                           \n",
      "=====================================================================\n",
      "\n"
     ]
    }
   ],
   "source": [
    "md = smf.mixedlm(model, trans_df_norm, groups=trans_df_norm[\"flid\"])\n",
    "mdf = md.fit()\n",
    "print(mdf.summary())"
   ]
  },
  {
   "cell_type": "markdown",
   "metadata": {},
   "source": [
    "# Variance Explained ($R^2$)\n",
    "\n",
    "Traditional $R^2$ for a (generalized) linear model is defined as the fraction of variance that is explained by the model:\n",
    "$$\n",
    "R^2 = \\frac{\\sum \\big(\\bar{y} - \\hat{y_i}\\big)^2}{\\sum \\big(y_i-\\bar{y}\\big)^2}\n",
    "$$\n",
    "\n",
    "where $y_i$ is an actual individual outcome, $\\hat{y_i}$ is the model-predicted outcome that goes with it, and  $\\bar{y}$ is the average of all the outcomes.\n",
    "\n",
    "\n",
    "But for a mixed effects model, we have both the fixed effects (equivalent to the linear model) and random effects (e.g. random intercepts for each individual). We can define two different $R^2$ values:\n",
    "\n",
    "* Conditional $R^2$: is the proportion of total variance explained through both fixed and random effects.\n",
    "* Marginal $R^2$: is the proportion of total variance explained only by the fixed effects. \n",
    "\n",
    "See: https://www.theanalysisfactor.com/r-squared-for-mixed-effects-models/ and the associated reference mentioned there. "
   ]
  },
  {
   "cell_type": "code",
   "execution_count": 103,
   "metadata": {
    "code_folding": []
   },
   "outputs": [],
   "source": [
    "# Get the predictions from the model\n",
    "# Using either only the fixed effects (one intercept)\n",
    "# OR back out the intercept for each individual\n",
    "\n",
    "def get_intercept_for_individual_fly(df, mdf, flid):\n",
    "    dfq = df.query('flid == ' + str(flid))\n",
    "    \n",
    "    pred = 0\n",
    "    for key in mdf.params.keys():\n",
    "        if key in ['Intercept', 'groups RE']:\n",
    "            continue\n",
    "        else:\n",
    "            pred += mdf.params[key]*dfq[key].values\n",
    "\n",
    "    intercept = -np.mean(pred - (-(mdf.resid.values[dfq.index.values] - dfq.distance_travelled.values)))\n",
    "    \n",
    "    return intercept\n",
    "\n",
    "def get_predictions_global(df, mdf, leave_out_key=''):\n",
    "    predictions = 0\n",
    "    for key in mdf.params.keys():\n",
    "        if key in ['Intercept', 'groups RE', leave_out_key]:\n",
    "            continue\n",
    "        else:\n",
    "            predictions += mdf.params[key]*df[key].values\n",
    "    predictions += mdf.params['Intercept']\n",
    "    return predictions\n",
    "\n",
    "def get_predictions_individual(df, mdf, leave_out_key=''):\n",
    "    predictions = []\n",
    "    \n",
    "    for flid in df.flid.unique():\n",
    "        dfq = df.query('flid == ' + str(flid))\n",
    "        intercept = get_intercept_for_individual_fly(df, mdf, flid)\n",
    "        pred = 0\n",
    "        for key in mdf.params.keys():\n",
    "            if key in ['Intercept', 'groups RE', leave_out_key]:\n",
    "                continue\n",
    "            else:\n",
    "                pred += mdf.params[key]*dfq[key].values\n",
    "        predictions = np.hstack((predictions, pred+ intercept)) \n",
    "    \n",
    "    return predictions"
   ]
  },
  {
   "cell_type": "code",
   "execution_count": 104,
   "metadata": {},
   "outputs": [],
   "source": [
    "# predictions\n",
    "predictions_fixed = get_predictions_global(trans_df_norm, mdf)\n",
    "predictions_fixed_and_random = get_predictions_individual(trans_df_norm, mdf)"
   ]
  },
  {
   "cell_type": "code",
   "execution_count": 105,
   "metadata": {},
   "outputs": [],
   "source": [
    "# residuals\n",
    "standardized_residuals_fixed = (trans_df_norm.distance_travelled.values - predictions_fixed) / np.std(predictions_fixed)\n",
    "standardized_residuals_fixed_and_random = (trans_df_norm.distance_travelled.values - predictions_fixed_and_random) / np.std(predictions_fixed_and_random)"
   ]
  },
  {
   "cell_type": "code",
   "execution_count": 106,
   "metadata": {},
   "outputs": [
    {
     "name": "stdout",
     "output_type": "stream",
     "text": [
      "Marginal R^2 = 0.4116581599624789\n",
      "This takes into account ONLY fixed effects.\n"
     ]
    }
   ],
   "source": [
    "y_bar = np.mean(trans_df_norm.distance_travelled.values)\n",
    "y_i = trans_df_norm.distance_travelled.values\n",
    "y_hat = predictions_fixed\n",
    "\n",
    "rsq = sum((y_bar - y_hat)**2) / sum((y_i-y_bar)**2)\n",
    "\n",
    "print(\"Marginal R^2 = \" + str(rsq))\n",
    "print(\"This takes into account ONLY fixed effects.\")"
   ]
  },
  {
   "cell_type": "code",
   "execution_count": 107,
   "metadata": {},
   "outputs": [
    {
     "name": "stdout",
     "output_type": "stream",
     "text": [
      "Conditional R^2 = 0.44905718933732236\n",
      "This takes into account both the fixed AND random effects.\n"
     ]
    }
   ],
   "source": [
    "y_bar = np.mean(trans_df_norm.distance_travelled.values)\n",
    "y_i = trans_df_norm.distance_travelled.values\n",
    "y_hat = predictions_fixed_and_random\n",
    "\n",
    "rsq = sum((y_bar - y_hat)**2) / sum((y_i-y_bar)**2)\n",
    "\n",
    "print(\"Conditional R^2 = \" + str(rsq))\n",
    "print(\"This takes into account both the fixed AND random effects.\")"
   ]
  },
  {
   "cell_type": "markdown",
   "metadata": {},
   "source": [
    "# Diagnostic plots\n",
    "\n",
    "Let's check that the assumptions of the model have not been violated. Specifically, we look to see:\n",
    "* the residuals are well distributed (standardized residuals vs predicted)\n",
    "* the residuals follow a normal distribution (shapiro-wilks test) since we are using a linear model, not generalized\n",
    "* check the heteroscedasticity (Q-Q plot)\n",
    "* the variance is not a function of the output (observed vs predicted)\n",
    "\n",
    "As with the $R^2$ situation, we will look at predictions and residuals that include the fixed and random effects, or only the fixed, since we are using a mixed effects linear model.\n",
    "\n",
    "Some useful stuff:\n",
    "\n",
    "https://www.qualtrics.com/support/stats-iq/analyses/regression-guides/interpreting-residual-plots-improve-regression/\n",
    "\n"
   ]
  },
  {
   "cell_type": "markdown",
   "metadata": {},
   "source": [
    "##### Actual vs Predicted\n",
    "\n",
    "The scatter data should fall evenly around the red line, without any major patterns."
   ]
  },
  {
   "cell_type": "code",
   "execution_count": 108,
   "metadata": {},
   "outputs": [
    {
     "data": {
      "image/png": "[encoded data removed]",
      "text/plain": [
       "<matplotlib.figure.Figure at 0x7f6cf6cb5fd0>"
      ]
     },
     "metadata": {},
     "output_type": "display_data"
    }
   ],
   "source": [
    "fig = plt.figure(figsize=(6,3))\n",
    "\n",
    "ax = fig.add_subplot(121)\n",
    "s = normalization_transform_scale['distance_travelled'].values[0]\n",
    "ax.plot(predictions_fixed_and_random*s, trans_df_norm.distance_travelled.values*s, '.')\n",
    "ax.set_xlabel('Predicted log(distance travelled)')\n",
    "ax.set_ylabel('Actual log(distance travelled)')\n",
    "x = np.linspace( np.min(predictions_fixed_and_random)*s, np.max(predictions_fixed_and_random)*s, 100)\n",
    "ax.plot(x,x, color='red')\n",
    "ax.set_title('Conditional (fixed and random effects)')\n",
    "\n",
    "ax = fig.add_subplot(122)\n",
    "ax.plot(predictions_fixed*s, trans_df_norm.distance_travelled.values*s, '.')\n",
    "ax.set_xlabel('Predicted log(distance travelled)')\n",
    "ax.set_ylabel('Actual log(distance travelled)')\n",
    "x = np.linspace( np.min(predictions_fixed)*s, np.max(predictions_fixed)*s, 100)\n",
    "ax.plot(x,x, color='red')\n",
    "ax.set_title('Marginal (fixed effects)')\n",
    "\n",
    "fifi.mpl_functions.set_fontsize(ax, 6)\n",
    "fig.savefig('supp_fig_actual_vs_predicted.png', dpi=300)"
   ]
  },
  {
   "cell_type": "markdown",
   "metadata": {},
   "source": [
    "##### Standardized residuals\n",
    "\n",
    "Standardized residuals = (observed - expected) / std_dev(expected)\n",
    "\n",
    "The scatter should be evenly distributed around the red line, without any obvious patterns, like growing or shrinking residuals as a function of predicted value."
   ]
  },
  {
   "cell_type": "code",
   "execution_count": 109,
   "metadata": {},
   "outputs": [
    {
     "data": {
      "image/png": "[encoded data removed]",
      "text/plain": [
       "<matplotlib.figure.Figure at 0x7f6cf605de90>"
      ]
     },
     "metadata": {},
     "output_type": "display_data"
    }
   ],
   "source": [
    "fig = plt.figure(figsize=(6,3))\n",
    "\n",
    "ax = fig.add_subplot(121)\n",
    "standardized_residuals = (trans_df_norm.distance_travelled.values - predictions_fixed_and_random) / np.std(predictions_fixed_and_random)\n",
    "ax.plot(predictions_fixed_and_random*s, standardized_residuals, '.')\n",
    "ax.hlines(0, np.min(predictions_fixed_and_random*s), np.max(predictions_fixed_and_random*s), colors='red')\n",
    "ax.set_xlabel('Predicted log(distance travelled)')\n",
    "ax.set_ylabel('Standardized Residuals')\n",
    "ax.set_title('Conditional (fixed and random effects)')\n",
    "\n",
    "\n",
    "ax = fig.add_subplot(122)\n",
    "standardized_residuals = (trans_df_norm.distance_travelled.values - predictions_fixed) / np.std(predictions_fixed)\n",
    "ax.plot(predictions_fixed*s, standardized_residuals, '.')\n",
    "ax.hlines(0, np.min(predictions_fixed*s), np.max(predictions_fixed*s), colors='red')\n",
    "ax.set_xlabel('Predicted log(distance travelled)')\n",
    "ax.set_ylabel('Standardized Residuals')\n",
    "ax.set_title('Marginal (fixed effects)')\n",
    "\n",
    "fifi.mpl_functions.set_fontsize(ax, 6)\n",
    "fig.savefig('supp_fig_standardized_residuals.png', dpi=300)"
   ]
  },
  {
   "cell_type": "markdown",
   "metadata": {},
   "source": [
    "##### Q-Q plot\n",
    "\n",
    "The scatter should follow the red line, especially in the middle. Looks pretty good here."
   ]
  },
  {
   "cell_type": "code",
   "execution_count": 110,
   "metadata": {},
   "outputs": [
    {
     "data": {
      "image/png": "[encoded data removed]",
      "text/plain": [
       "<matplotlib.figure.Figure at 0x7f6cf6915f10>"
      ]
     },
     "metadata": {},
     "output_type": "display_data"
    }
   ],
   "source": [
    "fig = plt.figure(figsize=(6,3))\n",
    "\n",
    "ax = fig.add_subplot(121)\n",
    "res = scipy.stats.probplot(predictions_fixed_and_random, plot=ax)\n",
    "ax.set_title('Conditional (fixed and random effects)')\n",
    "\n",
    "\n",
    "ax = fig.add_subplot(122)\n",
    "res = scipy.stats.probplot(predictions_fixed, plot=ax)\n",
    "ax.set_title('Marginal (fixed effects)')\n",
    "\n",
    "fifi.mpl_functions.set_fontsize(ax, 6)\n",
    "fig.savefig('supp_fig_qq.png', dpi=300)"
   ]
  },
  {
   "cell_type": "markdown",
   "metadata": {},
   "source": [
    "##### Normality of residuals\n",
    "\n",
    "The residuals should be normally distributed in this case, because we are using a linear model that assumes that the residuals are going to be normally distributed. \n",
    "\n",
    "Not ideal here, there seem to be more small residuals than a normal distribution would predict. "
   ]
  },
  {
   "cell_type": "code",
   "execution_count": 111,
   "metadata": {},
   "outputs": [
    {
     "data": {
      "image/png": "[encoded data removed]",
      "text/plain": [
       "<matplotlib.figure.Figure at 0x7f6cf5ab4fd0>"
      ]
     },
     "metadata": {},
     "output_type": "display_data"
    }
   ],
   "source": [
    "fig = plt.figure(figsize=(6,3))\n",
    "fig.subplots_adjust(left=None, bottom=None, right=None, top=None, wspace=0.3, hspace=0.4)\n",
    "\n",
    "ax = fig.add_subplot(121)\n",
    "standardized_residuals = (trans_df_norm.distance_travelled.values - predictions_fixed_and_random) / np.std(predictions_fixed_and_random)\n",
    "ax.hist(standardized_residuals, normed=True)\n",
    "\n",
    "rv = scipy.stats.norm(0, np.std(standardized_residuals))\n",
    "x = np.linspace(-3,3,100)\n",
    "pdf = rv.pdf(x)\n",
    "ax.plot(x, pdf, color='red')\n",
    "ax.set_xlabel('Standardized Residuals')\n",
    "ax.set_ylabel('Occurences')\n",
    "ax.set_title('Conditional (fixed and random effects)')\n",
    "\n",
    "\n",
    "\n",
    "ax = fig.add_subplot(122)\n",
    "standardized_residuals = (trans_df_norm.distance_travelled.values - predictions_fixed) / np.std(predictions_fixed)\n",
    "ax.hist(standardized_residuals, normed=True)\n",
    "\n",
    "rv = scipy.stats.norm(0, np.std(standardized_residuals))\n",
    "x = np.linspace(-3,3,100)\n",
    "pdf = rv.pdf(x)\n",
    "ax.plot(x, pdf, color='red')\n",
    "ax.set_xlabel('Standardized Residuals')\n",
    "ax.set_ylabel('Occurences')\n",
    "ax.set_title('Marginal (fixed effects)')\n",
    "\n",
    "fifi.mpl_functions.set_fontsize(ax, 6)\n",
    "fig.savefig('supp_fig_normal.png', dpi=300)"
   ]
  },
  {
   "cell_type": "markdown",
   "metadata": {},
   "source": [
    "##### Heteroskedacity: Bresuch-Pagan test"
   ]
  },
  {
   "cell_type": "code",
   "execution_count": 55,
   "metadata": {},
   "outputs": [
    {
     "data": {
      "text/plain": [
       "[('Lagrange multiplier statistic', 20.21769148430009),\n",
       " ('p-value', 0.002532777214750738),\n",
       " ('f-value', 3.6837484790042363),\n",
       " ('f p-value', 0.0018927595101268077)]"
      ]
     },
     "execution_count": 55,
     "metadata": {},
     "output_type": "execute_result"
    }
   ],
   "source": [
    "import statsmodels.stats.api as sms\n",
    "from statsmodels.compat import lzip\n",
    "\n",
    "#perform Bresuch-Pagan test\n",
    "names = ['Lagrange multiplier statistic', 'p-value',\n",
    "        'f-value', 'f p-value']\n",
    "test = sms.het_breuschpagan(mdf.resid, mdf.model.exog)\n",
    "\n",
    "lzip(names, test)"
   ]
  },
  {
   "cell_type": "code",
   "execution_count": 56,
   "metadata": {},
   "outputs": [],
   "source": [
    "def get_predictions_global(df, normalization_transform_scale, \n",
    "                                       mdf, leave_out_key='', \n",
    "                                       confidence_slope='mean', confidence_intercept='mean'):\n",
    "    '''\n",
    "    df -- the original, not transformed/scaled, dataframe\n",
    "    '''\n",
    "    \n",
    "    RHS = 0\n",
    "\n",
    "    inputs = mdf.params.keys()\n",
    "    for input in inputs:\n",
    "        if input in ['Intercept', 'groups RE', leave_out_key]:\n",
    "            continue\n",
    "        else:\n",
    "            std_i = normalization_transform_scale[input].values[0]\n",
    "            RHS += (mdf.params[input]*df[input].values / std_i)\n",
    "    \n",
    "    std_o = normalization_transform_scale[output].values[0]\n",
    "\n",
    "    dpower_pred = copy.copy(RHS*np.std(df.distance_travelled.values))\n",
    "    dpower_pred -= np.mean(dpower_pred)\n",
    "    dpower_pred += np.mean(df.distance_travelled.values)\n",
    "        \n",
    "    d_pred = dpower_pred\n",
    "    \n",
    "    return copy.copy(d_pred)"
   ]
  },
  {
   "cell_type": "markdown",
   "metadata": {},
   "source": [
    "##### Observed vs Predicted in log(original coordinate space)"
   ]
  },
  {
   "cell_type": "code",
   "execution_count": 57,
   "metadata": {},
   "outputs": [
    {
     "data": {
      "image/png": "[encoded data removed]",
      "text/plain": [
       "<matplotlib.figure.Figure at 0x7f6cf0c468d0>"
      ]
     },
     "metadata": {},
     "output_type": "display_data"
    },
    {
     "data": {
      "image/png": "[encoded data removed]",
      "text/plain": [
       "<matplotlib.figure.Figure at 0x7f6cf0c60c50>"
      ]
     },
     "metadata": {},
     "output_type": "display_data"
    },
    {
     "data": {
      "image/png": "[encoded data removed]",
      "text/plain": [
       "<matplotlib.figure.Figure at 0x7f6cf62a2e10>"
      ]
     },
     "metadata": {},
     "output_type": "display_data"
    }
   ],
   "source": [
    "#fig = plt.figure()\n",
    "#ax = fig.add_subplot(111)\n",
    "fififig = 'figures/foraging_fig_2_revision.svg'\n",
    "layout = fifi.svg_to_axes.FigureLayout(fififig, autogenlayers=True, \n",
    "                                       make_mplfigures=True, hide_layers=[])\n",
    "ax = layout.axes[('model', 'model')]\n",
    "    \n",
    "    \n",
    "logd_pred = get_predictions_global(trans_df, normalization_transform_scale, mdf)\n",
    "\n",
    "#ax.plot(logd_pred, np.log(df.distance_travelled.values), '.')\n",
    "\n",
    "ax.scatter(logd_pred, (trans_df.distance_travelled.values), c=trans_df.approached_odor, cmap='bone_r', \n",
    "               s=3, linewidth=0.25,rasterized=True)\n",
    "\n",
    "x = np.linspace( np.min(logd_pred), np.max(logd_pred), 100)\n",
    "ax.plot(x,x, color='red')\n",
    "\n",
    "\n",
    "yticks = [10**1, 10**2, 10**3, 10**4]\n",
    "yticklabels = ['$10^1$', '$10^2$', '$10^3$', '$10^4$']\n",
    "\n",
    "xticks = [10**2, 10**2.3, 10**3, 10**3.3]\n",
    "xticklabels = ['$10^2$', '$10^{2.3}$', '$10^3$', '$10^{3.3}$']\n",
    "\n",
    "\n",
    "fifi.mpl_functions.adjust_spines(ax, ['left', 'bottom'], \n",
    "                                 yticks=np.log(yticks), \n",
    "                                 xticks=np.log(xticks),\n",
    "                                 linewidth=0.5, tick_length=2.5, \n",
    "                                 spine_locations={'left': 2.5, 'bottom': 2.5})\n",
    "ax.set_yticklabels(yticklabels)\n",
    "ax.set_xticklabels(xticklabels)\n",
    "ax.minorticks_off()\n",
    "\n",
    "#ax.set_xlabel('Predicted distance travelled (mm)')\n",
    "#ax.set_ylabel('Observed distance travelled (mm)')\n",
    "\n",
    "fifi.mpl_functions.set_fontsize(ax.figure, 6)\n",
    "layout.append_figure_to_layer(layout.figures['model'], 'model', cleartarget=True)\n",
    "layout.write_svg(fififig)"
   ]
  },
  {
   "cell_type": "markdown",
   "metadata": {},
   "source": [
    "##### Isolating effect of interval\n",
    "\n",
    "First use all the other inputs to calculate predicted distance travelled, then find the residuals, these residuals should be explained by the remining input. "
   ]
  },
  {
   "cell_type": "code",
   "execution_count": 58,
   "metadata": {},
   "outputs": [
    {
     "name": "stdout",
     "output_type": "stream",
     "text": [
      "                            OLS Regression Results                            \n",
      "==============================================================================\n",
      "Dep. Variable:     distance_travelled   R-squared:                       0.104\n",
      "Model:                            OLS   Adj. R-squared:                  0.098\n",
      "Method:                 Least Squares   F-statistic:                     18.55\n",
      "Date:                Mon, 10 May 2021   Prob (F-statistic):           2.88e-05\n",
      "Time:                        12:48:01   Log-Likelihood:                -202.12\n",
      "No. Observations:                 162   AIC:                             408.2\n",
      "Df Residuals:                     160   BIC:                             414.4\n",
      "Df Model:                           1                                         \n",
      "Covariance Type:            nonrobust                                         \n",
      "==============================================================================\n",
      "                 coef    std err          t      P>|t|      [0.025      0.975]\n",
      "------------------------------------------------------------------------------\n",
      "Intercept      5.7643      0.127     45.447      0.000       5.514       6.015\n",
      "interval       0.1041      0.024      4.307      0.000       0.056       0.152\n",
      "==============================================================================\n",
      "Omnibus:                        1.971   Durbin-Watson:                   1.587\n",
      "Prob(Omnibus):                  0.373   Jarque-Bera (JB):                1.604\n",
      "Skew:                          -0.079   Prob(JB):                        0.448\n",
      "Kurtosis:                       2.539   Cond. No.                         10.3\n",
      "==============================================================================\n",
      "\n",
      "Warnings:\n",
      "[1] Standard Errors assume that the covariance matrix of the errors is correctly specified.\n"
     ]
    },
    {
     "data": {
      "text/plain": [
       "2.8778234112488176e-05"
      ]
     },
     "execution_count": 58,
     "metadata": {},
     "output_type": "execute_result"
    },
    {
     "data": {
      "image/png": "[encoded data removed]",
      "text/plain": [
       "<matplotlib.figure.Figure at 0x7f6cf69cd510>"
      ]
     },
     "metadata": {},
     "output_type": "display_data"
    },
    {
     "data": {
      "image/png": "[encoded data removed]",
      "text/plain": [
       "<matplotlib.figure.Figure at 0x7f6cf6802450>"
      ]
     },
     "metadata": {},
     "output_type": "display_data"
    },
    {
     "data": {
      "image/png": "[encoded data removed]",
      "text/plain": [
       "<matplotlib.figure.Figure at 0x7f6cf5ee0150>"
      ]
     },
     "metadata": {},
     "output_type": "display_data"
    }
   ],
   "source": [
    "fififig = 'figures/foraging_fig_2_revision.svg'\n",
    "layout = fifi.svg_to_axes.FigureLayout(fififig, autogenlayers=True, \n",
    "                                       make_mplfigures=True, hide_layers=[])\n",
    "ax = layout.axes[('distance_v_interval', 'distance_v_interval')]\n",
    "\n",
    "# For given input, use full mixed effects model to remove correlations except this one\n",
    "input = 'interval'\n",
    "logd_pred = get_predictions_global(trans_df, normalization_transform_scale, mdf,\n",
    "                                              leave_out_key=input)\n",
    "residuals = (trans_df.distance_travelled.values) - logd_pred\n",
    "md = np.mean(trans_df.distance_travelled.values)\n",
    "residuals += md\n",
    "\n",
    "log_df = pandas.DataFrame()\n",
    "log_df['interval'] = np.log(df.interval.values)\n",
    "log_df['distance_travelled'] = residuals\n",
    "log_df['approached_odor'] = df.approached_odor.values\n",
    "log_df['flid'] = df.flid.values\n",
    "\n",
    "\n",
    "ax.scatter(log_df.interval.values, log_df.distance_travelled.values, c=df.approached_odor, cmap='bone_r', \n",
    "               s=3, linewidth=0.25,rasterized=True)\n",
    "\n",
    "\n",
    "# Rerun and OLS on just this input\n",
    "md = smf.ols('distance_travelled ~ interval', log_df)\n",
    "mdf2 = md.fit()\n",
    "print(mdf2.summary())\n",
    "\n",
    "\n",
    "x = np.linspace(np.min(log_df.interval.values), np.max(log_df.interval.values), 100)\n",
    "y = mdf2.params['interval']*x + mdf2.params['Intercept']\n",
    "ax.plot(x, y, color='blue')\n",
    "\n",
    "\n",
    "if 1:\n",
    "    # show the confidence interval around the slope and mean\n",
    "    conf95 = mdf2.conf_int(alpha=0.05, cols=None)\n",
    "    input_coeff_conf_lo = conf95[0][input]\n",
    "    input_coeff_conf_hi = conf95[1][input]\n",
    "    \n",
    "    intercept_conf_lo = conf95[0]['Intercept']\n",
    "    intercept_conf_hi = conf95[1]['Intercept']\n",
    "    \n",
    "    y_hi_hi = input_coeff_conf_hi*x + intercept_conf_hi\n",
    "    y_hi_lo = input_coeff_conf_hi*x + intercept_conf_lo\n",
    "    y_lo_hi = input_coeff_conf_lo*x + intercept_conf_hi\n",
    "    y_lo_lo = input_coeff_conf_lo*x + intercept_conf_lo\n",
    "    \n",
    "    y = np.vstack([y_hi_hi, y_hi_lo, y_lo_hi, y_lo_lo])\n",
    "    y = np.sort(y, axis=0)\n",
    "    \n",
    "    ax.fill_between(x, y[0,:], y[-1,:], facecolor='blue', edgecolor='none', alpha=0.3)\n",
    "    \n",
    "    \n",
    "    \n",
    "yticks = [10**1, 10**2, 10**3, 10**4]\n",
    "yticklabels = ['$10^1$', '$10^2$', '$10^3$', '$10^4$']\n",
    "\n",
    "xticks = [10**-1, 10**1, 10**3, 10**5]\n",
    "xticklabels = ['$10^{-1}$', '$10^1$', '$10^3$', '$10^5$']\n",
    "\n",
    "fifi.mpl_functions.adjust_spines(ax, ['left', 'bottom'], \n",
    "                                 yticks=np.log(yticks), \n",
    "                                 xticks=np.log(xticks),\n",
    "                                 linewidth=0.5, tick_length=2.5, \n",
    "                                 spine_locations={'left': 2.5, 'bottom': 2.5})\n",
    "ax.set_yticklabels(yticklabels)\n",
    "ax.set_xticklabels(xticklabels)\n",
    "ax.minorticks_off()\n",
    "ax.set_xlim(np.log(10**-2), np.log(10**5))\n",
    "\n",
    "#fifi.mpl_functions.set_fontsize(ax, 8)\n",
    "#ax.set_xlabel('Interval before landing (sec)')\n",
    "#ax.set_ylabel('Observed distance travelled$^{*}$ (mm)')\n",
    "\n",
    "fifi.mpl_functions.set_fontsize(ax.figure, 6)\n",
    "layout.append_figure_to_layer(layout.figures['distance_v_interval'], 'distance_v_interval', cleartarget=True)\n",
    "layout.write_svg(fififig)\n",
    "\n",
    "mdf2.pvalues['interval']\n",
    "\n"
   ]
  },
  {
   "cell_type": "code",
   "execution_count": 59,
   "metadata": {},
   "outputs": [],
   "source": [
    "# Save data for Fig. 4\n",
    "\n",
    "log_df_save = pandas.DataFrame()\n",
    "log_df_save['interval'] = np.log(df.interval.values)\n",
    "log_df_save['distance_travelled'] = np.log(df.distance_travelled.values)\n",
    "log_df_save['distance_travelled_residuals_controlled_for_odor_approach'] = residuals\n",
    "log_df_save['approached_odor'] = df.approached_odor.values\n",
    "log_df_save['flid'] = df.flid.values"
   ]
  },
  {
   "cell_type": "code",
   "execution_count": null,
   "metadata": {},
   "outputs": [],
   "source": []
  },
  {
   "cell_type": "code",
   "execution_count": 61,
   "metadata": {},
   "outputs": [
    {
     "name": "stdout",
     "output_type": "stream",
     "text": [
      "                            OLS Regression Results                            \n",
      "==============================================================================\n",
      "Dep. Variable:     distance_travelled   R-squared:                       0.308\n",
      "Model:                            OLS   Adj. R-squared:                  0.304\n",
      "Method:                 Least Squares   F-statistic:                     71.21\n",
      "Date:                Mon, 10 May 2021   Prob (F-statistic):           1.81e-14\n",
      "Time:                        12:48:20   Log-Likelihood:                -202.28\n",
      "No. Observations:                 162   AIC:                             408.6\n",
      "Df Residuals:                     160   BIC:                             414.7\n",
      "Df Model:                           1                                         \n",
      "Covariance Type:            nonrobust                                         \n",
      "==============================================================================================\n",
      "                                 coef    std err          t      P>|t|      [0.025      0.975]\n",
      "----------------------------------------------------------------------------------------------\n",
      "Intercept                      6.8486      0.099     69.061      0.000       6.653       7.044\n",
      "fraction_of_time_near_odor     0.1592      0.019      8.438      0.000       0.122       0.196\n",
      "==============================================================================\n",
      "Omnibus:                        2.189   Durbin-Watson:                   1.578\n",
      "Prob(Omnibus):                  0.335   Jarque-Bera (JB):                1.783\n",
      "Skew:                          -0.108   Prob(JB):                        0.410\n",
      "Kurtosis:                       2.534   Cond. No.                         7.98\n",
      "==============================================================================\n",
      "\n",
      "Warnings:\n",
      "[1] Standard Errors assume that the covariance matrix of the errors is correctly specified.\n"
     ]
    },
    {
     "data": {
      "text/plain": [
       "1.8137978831602427e-14"
      ]
     },
     "execution_count": 61,
     "metadata": {},
     "output_type": "execute_result"
    },
    {
     "data": {
      "image/png": "[encoded data removed]",
      "text/plain": [
       "<matplotlib.figure.Figure at 0x7f6cf6995150>"
      ]
     },
     "metadata": {},
     "output_type": "display_data"
    },
    {
     "data": {
      "image/png": "[encoded data removed]",
      "text/plain": [
       "<matplotlib.figure.Figure at 0x7f6cf5a98350>"
      ]
     },
     "metadata": {},
     "output_type": "display_data"
    },
    {
     "data": {
      "image/png": "[encoded data removed]",
      "text/plain": [
       "<matplotlib.figure.Figure at 0x7f6cf6897ed0>"
      ]
     },
     "metadata": {},
     "output_type": "display_data"
    }
   ],
   "source": [
    "fififig = 'figures/foraging_fig_2_revision.svg'\n",
    "layout = fifi.svg_to_axes.FigureLayout(fififig, autogenlayers=True, \n",
    "                                       make_mplfigures=True, hide_layers=[])\n",
    "ax = layout.axes[('distance_v_odor', 'distance_v_odor')]\n",
    "\n",
    "# For given input, use full mixed effects model to remove correlations except this one\n",
    "input = 'fraction_of_time_near_odor'\n",
    "logd_pred = get_predictions_global(trans_df, normalization_transform_scale, mdf,\n",
    "                                              leave_out_key=input)\n",
    "residuals = np.log(df.distance_travelled.values) - logd_pred\n",
    "md = np.mean(np.log(df.distance_travelled.values))\n",
    "residuals += md\n",
    "\n",
    "log_df = pandas.DataFrame()\n",
    "log_df[input] = np.log(df[input].values)\n",
    "log_df['distance_travelled'] = residuals\n",
    "\n",
    "\n",
    "ax.scatter(log_df[input].values, log_df.distance_travelled.values, c=df.approached_odor, cmap='bone_r', \n",
    "               s=3, linewidth=0.25,rasterized=True)\n",
    "\n",
    "\n",
    "# Rerun and OLS on just this input\n",
    "md = smf.ols('distance_travelled ~ ' + input, log_df)\n",
    "mdf3 = md.fit()\n",
    "print(mdf3.summary())\n",
    "\n",
    "\n",
    "x = np.linspace(np.min(log_df[input].values), np.max(log_df[input].values), 100)\n",
    "y = mdf3.params[input]*x + mdf3.params['Intercept']\n",
    "ax.plot(x, y, color='blue')\n",
    "\n",
    "\n",
    "if 1:\n",
    "    # show the confidence interval around the slope and mean\n",
    "    conf95 = mdf3.conf_int(alpha=0.05, cols=None)\n",
    "    input_coeff_conf_lo = conf95[0][input]\n",
    "    input_coeff_conf_hi = conf95[1][input]\n",
    "    \n",
    "    intercept_conf_lo = conf95[0]['Intercept']\n",
    "    intercept_conf_hi = conf95[1]['Intercept']\n",
    "    \n",
    "    y_hi_hi = input_coeff_conf_hi*x + intercept_conf_hi\n",
    "    y_hi_lo = input_coeff_conf_hi*x + intercept_conf_lo\n",
    "    y_lo_hi = input_coeff_conf_lo*x + intercept_conf_hi\n",
    "    y_lo_lo = input_coeff_conf_lo*x + intercept_conf_lo\n",
    "    \n",
    "    y = np.vstack([y_hi_hi, y_hi_lo, y_lo_hi, y_lo_lo])\n",
    "    y = np.sort(y, axis=0)\n",
    "    \n",
    "    ax.fill_between(x, y[0,:], y[-1,:], facecolor='blue', edgecolor='none', alpha=0.3)\n",
    "    \n",
    "    \n",
    "yticks = [10**1, 10**2, 10**3, 10**4]\n",
    "yticklabels = ['$10^1$', '$10^2$', '$10^3$', '$10^4$']\n",
    "\n",
    "xticks = [1e-4, 1e-3, 0.01, 0.1, 1]\n",
    "xticklabels = ['$10^{-4}$', '$10^{-3}$', '$10^{-2}$', '$10^{-1}$', '$1$']\n",
    "\n",
    "\n",
    "fifi.mpl_functions.adjust_spines(ax, ['left', 'bottom'], \n",
    "                                 yticks=np.log(yticks), \n",
    "                                 xticks=np.log(xticks),\n",
    "                                 linewidth=0.5, tick_length=2.5, \n",
    "                                 spine_locations={'left': 2.5, 'bottom': 2.5})\n",
    "ax.set_yticklabels(yticklabels)\n",
    "ax.set_xticklabels(xticklabels)\n",
    "ax.minorticks_off()\n",
    "\n",
    "#fifi.mpl_functions.set_fontsize(ax, 8)\n",
    "#ax.set_xlabel('Fraction of time near odor')\n",
    "#ax.set_ylabel('Observed distance travelled$^{*}$ (mm)')\n",
    "\n",
    "fifi.mpl_functions.set_fontsize(ax.figure, 6)\n",
    "layout.append_figure_to_layer(layout.figures['distance_v_odor'], 'distance_v_odor', cleartarget=True)\n",
    "layout.write_svg(fififig)\n",
    "\n",
    "mdf3.pvalues['fraction_of_time_near_odor']"
   ]
  },
  {
   "cell_type": "code",
   "execution_count": 62,
   "metadata": {},
   "outputs": [],
   "source": [
    "log_df_save['distance_travelled_residuals_controlled_for_interval'] = residuals"
   ]
  },
  {
   "cell_type": "code",
   "execution_count": 63,
   "metadata": {},
   "outputs": [],
   "source": [
    "interval_vs_distance_data_and_model = {'log_df': log_df_save,\n",
    "                                       'notes': 'log_df contains distance_travelled data that has had the correlation with fraction of time spend neat odor removed',\n",
    "                                       'distance_travelled_vs_interval': mdf2,\n",
    "                                       'distance_travelled_vs_approach_odor': mdf3}\n",
    "f = open('interval_vs_distance_data_and_model.pickle', 'wb')\n",
    "pickle.dump(interval_vs_distance_data_and_model, f)\n",
    "f.close()"
   ]
  },
  {
   "cell_type": "markdown",
   "metadata": {},
   "source": [
    "# Removing heteroskedacity with box cox"
   ]
  },
  {
   "cell_type": "code",
   "execution_count": 81,
   "metadata": {},
   "outputs": [],
   "source": [
    "df = load_data()\n",
    "df = df[ ~ (df.nth_visit==1) ] # drop the first visits for this analysis\n",
    "df = df[df.interval > 0] # there is one encoutner with a negative interval"
   ]
  },
  {
   "cell_type": "code",
   "execution_count": 82,
   "metadata": {},
   "outputs": [
    {
     "data": {
      "image/png": "[encoded data removed]",
      "text/plain": [
       "<matplotlib.figure.Figure at 0x7f6cf68e8c90>"
      ]
     },
     "metadata": {},
     "output_type": "display_data"
    }
   ],
   "source": [
    "trans_df = pandas.DataFrame()\n",
    "trans_df['flid'] = df.flid\n",
    "\n",
    "output = 'distance_travelled'\n",
    "inputs = ['nth_visit',\n",
    "          'interval',\n",
    "          'relative_epoch_time',\n",
    "          'new_camera',\n",
    "          'approached_odor',#'fraction_of_time_near_odor', # fraction_of_time_near_odor or approached_odor\n",
    "          'speed'] # or fraction_of_time_stopped\n",
    "\n",
    "keys = np.hstack((inputs, output))\n",
    "\n",
    "fig = plt.figure(figsize=(7.5,5))\n",
    "fig.subplots_adjust(left=None, bottom=None, right=None, top=None, wspace=0.3, hspace=0.4)\n",
    "\n",
    "for i, key in enumerate(keys):\n",
    "    ax = fig.add_subplot(2,np.ceil(len(keys)/2.),i+1)\n",
    "    \n",
    "    if 0:\n",
    "        if key in ['distance_travelled', 'nth_visit', 'interval', 'relative_epoch_time', 'fraction_of_time_near_odor', 'speed']:\n",
    "            trans_df[key] = np.log(df[key])\n",
    "        else:\n",
    "            trans_df[key] = df[key]\n",
    "    else:\n",
    "        if key == 'approached_odor':\n",
    "            df[key] += 2\n",
    "        trans_df[key] = scipy.stats.boxcox(df[key].values)[0]\n",
    "        \n",
    "        \n",
    "    ax.hist(trans_df[key], normed=True)\n",
    "    rv = scipy.stats.norm(np.mean(trans_df[key]), np.std(trans_df[key]))\n",
    "    x = np.linspace(np.min(trans_df[key]),np.max(trans_df[key]),100)\n",
    "    pdf = rv.pdf(x)\n",
    "    ax.plot(x, pdf, color='red')\n",
    "        \n",
    "        \n",
    "    ax.set_xlabel( key.replace('_', ' ') )\n",
    "    \n",
    "    ax.set_xticks(np.round(np.linspace(ax.get_xticks()[0], ax.get_xticks()[-1], 4), 2))\n",
    "    \n",
    "    \n",
    "trans_df_norm, normalization_transform_scale = normalize_data(trans_df)\n",
    "trans_df_norm.reset_index(inplace = True)\n",
    "    \n",
    "fifi.mpl_functions.set_fontsize(ax, 6)\n",
    "#fig.savefig('sup_fig_data_log_transform.pdf', dpi=300)"
   ]
  },
  {
   "cell_type": "code",
   "execution_count": 83,
   "metadata": {},
   "outputs": [
    {
     "name": "stdout",
     "output_type": "stream",
     "text": [
      "Model: \n",
      "distance_travelled ~   + nth_visit + interval + relative_epoch_time + new_camera + approached_odor + speed\n",
      "              Mixed Linear Model Regression Results\n",
      "================================================================\n",
      "Model:            MixedLM Dependent Variable: distance_travelled\n",
      "No. Observations: 162     Method:             REML              \n",
      "No. Groups:       16      Scale:              0.5826            \n",
      "Min. group size:  2       Likelihood:         -202.6687         \n",
      "Max. group size:  26      Converged:          Yes               \n",
      "Mean group size:  10.1                                          \n",
      "----------------------------------------------------------------\n",
      "                      Coef.  Std.Err.   z    P>|z| [0.025 0.975]\n",
      "----------------------------------------------------------------\n",
      "Intercept              2.520    0.258  9.782 0.000  2.015  3.024\n",
      "nth_visit             -0.100    0.119 -0.838 0.402 -0.333  0.134\n",
      "interval               0.216    0.074  2.922 0.003  0.071  0.362\n",
      "relative_epoch_time   -0.114    0.128 -0.891 0.373 -0.366  0.137\n",
      "new_camera             0.052    0.067  0.776 0.438 -0.080  0.184\n",
      "approached_odor        0.492    0.063  7.748 0.000  0.367  0.616\n",
      "speed                 -0.038    0.069 -0.546 0.585 -0.172  0.097\n",
      "groups RE              0.132    0.131                           \n",
      "================================================================\n",
      "\n"
     ]
    }
   ],
   "source": [
    "model = 'distance_travelled ~  '\n",
    "for input in inputs: \n",
    "    model += ' + ' + input\n",
    "print('Model: ')\n",
    "print(model)\n",
    "\n",
    "\n",
    "md = smf.mixedlm(model, trans_df_norm, groups=trans_df_norm[\"flid\"])\n",
    "mdf = md.fit()\n",
    "print(mdf.summary())"
   ]
  },
  {
   "cell_type": "code",
   "execution_count": 84,
   "metadata": {},
   "outputs": [
    {
     "data": {
      "text/plain": [
       "[('Lagrange multiplier statistic', 11.34131885871996),\n",
       " ('p-value', 0.07838325992903089),\n",
       " ('f-value', 1.944687609751388),\n",
       " ('f p-value', 0.07695059469136777)]"
      ]
     },
     "execution_count": 84,
     "metadata": {},
     "output_type": "execute_result"
    }
   ],
   "source": [
    "#perform Bresuch-Pagan test\n",
    "names = ['Lagrange multiplier statistic', 'p-value',\n",
    "        'f-value', 'f p-value']\n",
    "test = sms.het_breuschpagan(mdf.resid, mdf.model.exog)\n",
    "\n",
    "lzip(names, test)"
   ]
  }
 ],
 "metadata": {
  "kernelspec": {
   "display_name": "Python 2",
   "language": "python",
   "name": "python2"
  },
  "language_info": {
   "codemirror_mode": {
    "name": "ipython",
    "version": 2
   },
   "file_extension": ".py",
   "mimetype": "text/x-python",
   "name": "python",
   "nbconvert_exporter": "python",
   "pygments_lexer": "ipython2",
   "version": "2.7.12"
  }
 },
 "nbformat": 4,
 "nbformat_minor": 2
}
