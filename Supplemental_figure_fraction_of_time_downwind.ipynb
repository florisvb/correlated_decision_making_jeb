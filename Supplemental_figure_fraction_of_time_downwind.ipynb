{
 "cells": [
  {
   "cell_type": "code",
   "execution_count": 1,
   "metadata": {},
   "outputs": [
    {
     "name": "stderr",
     "output_type": "stream",
     "text": [
      "/home/caveman/.local/lib/python2.7/site-packages/pandas/core/computation/__init__.py:18: UserWarning: The installed version of numexpr 2.4.3 is not supported in pandas and will be not be used\n",
      "The minimum supported version is 2.4.6\n",
      "\n",
      "  ver=ver, min_ver=_MIN_NUMEXPR_VERSION), UserWarning)\n"
     ]
    },
    {
     "name": "stdout",
     "output_type": "stream",
     "text": [
      "1.5.1\n",
      "recommended version: 1.1.1 or greater\n"
     ]
    }
   ],
   "source": [
    "import numpy as np\n",
    "import matplotlib.pyplot as plt\n",
    "plt.rc('text', usetex=True)\n",
    "import pickle\n",
    "import os\n",
    "import time\n",
    "import datetime\n",
    "from matplotlib import patches\n",
    "import multi_tracker_analysis as mta\n",
    "import scipy.stats\n",
    "import figurefirst as fifi\n",
    "import pandas\n",
    "import copy\n",
    "import flystat\n",
    "import fly_plot_lib.plot as fpl\n",
    "import matplotlib.patches as mpatches"
   ]
  },
  {
   "cell_type": "code",
   "execution_count": 2,
   "metadata": {},
   "outputs": [],
   "source": [
    "from numpy import random, histogram2d, diff\n",
    "import matplotlib.pyplot as plt\n",
    "from scipy.interpolate import interp2d\n",
    "from scipy.interpolate import interp1d"
   ]
  },
  {
   "cell_type": "code",
   "execution_count": 3,
   "metadata": {},
   "outputs": [],
   "source": [
    "def load_data():\n",
    "    df = pandas.read_hdf('data/flydata_20210428_3cam.hdf', 'flydata_20210428_3cam')\n",
    "\n",
    "\n",
    "    minimum_req_visits = 3\n",
    "    flids_okay = []\n",
    "    for flid in df.flid.unique():\n",
    "        dfq = df[df.flid==flid]\n",
    "        if len(dfq) >= minimum_req_visits:\n",
    "            flids_okay.append(flid)\n",
    "    df = df[df.flid.isin(flids_okay)]\n",
    "\n",
    "    df.fraction_of_time_near_odor += 1e-4 # to help with logs\n",
    "\n",
    "    # spatial novelty\n",
    "    new_camera = []\n",
    "    for ix in range(len(df)):\n",
    "        nc = 1\n",
    "        try:\n",
    "            if df.iloc[ix].flid == df.iloc[ix-1].flid:\n",
    "                if df.iloc[ix].camera != df.iloc[ix-1].camera:\n",
    "                    nc = 2\n",
    "            else:\n",
    "                nc = 2\n",
    "        except:\n",
    "            nc = 2 # first one\n",
    "        new_camera.append(nc)\n",
    "    df['new_camera'] = new_camera\n",
    "\n",
    "    # nth visit\n",
    "    nth_visit = [1]\n",
    "    for ix in range(1, len(df)):\n",
    "        if df.iloc[ix].flid == df.iloc[ix-1].flid:\n",
    "            nth_visit.append(nth_visit[-1]+1)\n",
    "        else:\n",
    "            nth_visit.append(1)\n",
    "    df['nth_visit'] = nth_visit\n",
    "    df['log_nth_visit'] = np.log(nth_visit)\n",
    "\n",
    "    df['mean_interval'] = np.nanmean([df['interval'].values, df['interval2'].values], axis=0)\n",
    "    df['approached_odor'] = np.sign(df['fraction_of_time_near_odor']-0.01)\n",
    "\n",
    "    df['camera_num'] = (df['camera'] == 'center_camera')\n",
    "    df['camera_num'] = (df['camera_num'] -1) /2\n",
    "\n",
    "    return df"
   ]
  },
  {
   "cell_type": "code",
   "execution_count": 4,
   "metadata": {},
   "outputs": [],
   "source": [
    "df = load_data()\n",
    "df = df[ ~ (df.nth_visit==1) ] # drop the first visits for this analysis\n",
    "df = df[df.interval > 0] # there is one encoutner with a negative interval\n",
    "#df.fraction_of_time_near_odor += 1e-4 # to help with logs"
   ]
  },
  {
   "cell_type": "code",
   "execution_count": 14,
   "metadata": {},
   "outputs": [],
   "source": [
    "#fig = plt.figure()\n",
    "#ax = fig.add_subplot(111)\n",
    "\n",
    "distances_travelled = []\n",
    "angles_of_landing = []\n",
    "approach_stats = []\n",
    "intervals = []\n",
    "fraction_of_time_downwind = []\n",
    "\n",
    "upwind = 0\n",
    "downwind = 0\n",
    "for i in range(len(df)):\n",
    "    try:\n",
    "        data = pandas.read_hdf('data/' + df['all_trajec_ids'][i])\n",
    "        #ax.scatter(data.pos_x_mm[0], -1*data.pos_y_mm[0], c=df['approached_odor'][i], \n",
    "        #           cmap='bone_r', vmin=-1, vmax=1, s=5, linewidth=0.25)\n",
    "    except:\n",
    "        data = None\n",
    "    \n",
    "    if data is not None:\n",
    "        angles_from_downwind = [np.abs( np.arctan2(data.pos_y_mm[f], np.abs(data.pos_x_mm[f]) )*180/np.pi - 90 ) for f in range(len(data.pos_y_mm))] \n",
    "\n",
    "        fraction_of_time_downwind.append( float(sum(np.array(angles_from_downwind) > 45))/len(angles_from_downwind) )\n",
    "\n",
    "        approach_stats.append(df['approached_odor'][i])\n",
    "        distances_travelled.append(df['distance_travelled'][i])\n",
    "        intervals.append(df['interval'][i])\n",
    "\n",
    "\n"
   ]
  },
  {
   "cell_type": "code",
   "execution_count": 23,
   "metadata": {},
   "outputs": [
    {
     "name": "stdout",
     "output_type": "stream",
     "text": [
      "LinregressResult(slope=0.0700648397943746, intercept=6.166257297312838, rvalue=0.02206018712991723, pvalue=0.7951337425895756, stderr=0.2693257266432805)\n"
     ]
    },
    {
     "data": {
      "image/png": "[encoded data removed]",
      "text/plain": [
       "<matplotlib.figure.Figure at 0x7f9e7df35650>"
      ]
     },
     "metadata": {},
     "output_type": "display_data"
    }
   ],
   "source": [
    "fig = plt.figure(figsize=[6,4])\n",
    "ax = fig.add_subplot(111)\n",
    "\n",
    "ax.scatter(fraction_of_time_downwind, np.log(distances_travelled), \n",
    "           c=approach_stats, s=3, linewidth=0.25,rasterized=True, cmap='bone_r')\n",
    "\n",
    "x = np.linspace(np.min(fraction_of_time_downwind), np.max(fraction_of_time_downwind), 100)\n",
    "\n",
    "r = scipy.stats.linregress(fraction_of_time_downwind, np.log(distances_travelled))\n",
    "print(r)\n",
    "y = r.slope*x + r.intercept\n",
    "\n",
    "plt.plot(x,y, color='black')\n",
    "\n",
    "\n",
    "yticks = [10**1, 10**2, 10**3, 10**4]\n",
    "yticklabels = ['$10^1$', '$10^2$', '$10^3$', '$10^4$']\n",
    "\n",
    "xticks = [0, 0.5, 1]\n",
    "xticklabels = [0, 0.5, 1]\n",
    "\n",
    "ax.set_xlim(-0.1, 1.1)\n",
    "\n",
    "fifi.mpl_functions.adjust_spines(ax, ['left', 'bottom'], \n",
    "                                 yticks=np.log(yticks), \n",
    "                                 xticks=xticks,\n",
    "                                 linewidth=0.5, tick_length=2.5, \n",
    "                                 spine_locations={'left': 2.5, 'bottom': 2.5})\n",
    "ax.set_yticklabels(yticklabels)\n",
    "ax.set_xticklabels(xticklabels)\n",
    "ax.minorticks_off()\n",
    "\n",
    "ax.set_xlabel('Fraction of time downwind from odor source')\n",
    "ax.set_ylabel('Distance travelled\\n(mm)')\n",
    "\n",
    "fig.savefig('fraction_of_time_downwind.pdf')"
   ]
  },
  {
   "cell_type": "code",
   "execution_count": 25,
   "metadata": {},
   "outputs": [
    {
     "data": {
      "text/plain": [
       "0.00048399999999999995"
      ]
     },
     "execution_count": 25,
     "metadata": {},
     "output_type": "execute_result"
    }
   ],
   "source": [
    "0.022**2"
   ]
  },
  {
   "cell_type": "code",
   "execution_count": null,
   "metadata": {},
   "outputs": [],
   "source": []
  }
 ],
 "metadata": {
  "kernelspec": {
   "display_name": "Python 2",
   "language": "python",
   "name": "python2"
  },
  "language_info": {
   "codemirror_mode": {
    "name": "ipython",
    "version": 2
   },
   "file_extension": ".py",
   "mimetype": "text/x-python",
   "name": "python",
   "nbconvert_exporter": "python",
   "pygments_lexer": "ipython2",
   "version": "2.7.12"
  }
 },
 "nbformat": 4,
 "nbformat_minor": 2
}
