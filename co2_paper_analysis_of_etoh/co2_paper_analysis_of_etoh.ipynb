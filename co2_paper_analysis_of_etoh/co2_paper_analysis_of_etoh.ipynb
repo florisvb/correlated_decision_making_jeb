{
 "cells": [
  {
   "cell_type": "code",
   "execution_count": 1,
   "metadata": {},
   "outputs": [],
   "source": [
    "import pandas\n",
    "import os\n",
    "import matplotlib.pyplot as plt\n",
    "import numpy as np\n",
    "import scipy.stats"
   ]
  },
  {
   "cell_type": "code",
   "execution_count": 2,
   "metadata": {},
   "outputs": [],
   "source": [
    "import statsmodels.api as sm\n",
    "import statsmodels.formula.api as smf"
   ]
  },
  {
   "cell_type": "code",
   "execution_count": 3,
   "metadata": {
    "code_folding": [
     0
    ]
   },
   "outputs": [],
   "source": [
    "def get_filename(path, contains, does_not_contain=[]):\n",
    "    cmd = 'ls ' + path\n",
    "    ls = os.popen(cmd).read()\n",
    "    all_filelist = ls.split('\\n')\n",
    "    try:\n",
    "        all_filelist.remove('')\n",
    "    except:\n",
    "        pass\n",
    "    filelist = []\n",
    "    for i, filename in enumerate(all_filelist):\n",
    "        if contains in filename:\n",
    "            fileok = True\n",
    "            for nc in does_not_contain:\n",
    "                if nc in filename:\n",
    "                    fileok = False\n",
    "            if fileok:\n",
    "                return os.path.join(path, filename)"
   ]
  },
  {
   "cell_type": "code",
   "execution_count": 4,
   "metadata": {},
   "outputs": [],
   "source": [
    "def get_flies_in_odor_and_speed(data, n):\n",
    "    \n",
    "    dataq = data.query('encounter == ' + str(n))\n",
    "    \n",
    "    tidxodor = np.where( (dataq.t.values[0] > 0)*(dataq.t.values[0] < 600) )\n",
    "    tidxbefore = np.where( (dataq.t.values[0] < 0) )\n",
    "    \n",
    "    \n",
    "    #odor_decay_slope = scipy.stats.linregress(dataq.t.values[0][tidxodor], dataq.n_flies_odor.values[0][tidxodor]).slope * 60 # times 60 fps\n",
    "    n_odor_mean = np.mean(dataq.n_flies_odor.values[0][tidxodor] )\n",
    "    n_odor_mean_normalized =  np.mean(dataq.n_flies_odor.values[0][tidxodor] ) - np.mean(dataq.n_flies_odor.values[0][tidxbefore] )\n",
    "    n_odor_beginning = np.mean(dataq.n_flies_odor.values[0][tidxodor[0][0:120]] ) - np.mean(dataq.n_flies_odor.values[0][tidxbefore] )\n",
    "    n_odor_end = np.mean(dataq.n_flies_odor.values[0][tidxodor[0][-120:]] ) - np.mean(dataq.n_flies_odor.values[0][tidxbefore] )\n",
    "    \n",
    "    odor_decay_slope = n_odor_end - n_odor_beginning\n",
    "    \n",
    "    t = dataq.localtime.values[0]\n",
    "    \n",
    "    speed = np.mean(dataq.speed.values[0][tidxbefore] ) \n",
    "    \n",
    "    return n_odor_mean, n_odor_beginning, odor_decay_slope, speed, t, n_odor_mean_normalized"
   ]
  },
  {
   "cell_type": "code",
   "execution_count": 7,
   "metadata": {},
   "outputs": [],
   "source": [
    "def build_dataframe():\n",
    "    \n",
    "    directories = [ '/media/caveman/CO2_HDF5/CO2_data_notrajecs/low_flow_walking_arena_A/multicat_ethanol_1sccm/',\n",
    "                    '/media/caveman/CO2_HDF5/CO2_data_notrajecs/low_flow_walking_arena_A/multicat_ethanol_1sccm_24hrstarved/']\n",
    "    #directories = [ '/media/caveman/CO2_HDF5/CO2_data_notrajecs/low_flow_walking_arena_A/multicat_ethanol_1sccm_24hrstarved/']\n",
    "    #directories = [ '/media/caveman/CO2_HDF5/CO2_data_notrajecs/low_flow_walking_arena_A/multicat_ethanol_1sccm/']\n",
    "    \n",
    "    df = None\n",
    "    \n",
    "    for directory in directories:\n",
    "        if '24hr' in directory:\n",
    "            days = [1,2,3,4,5,6]\n",
    "        else:\n",
    "            days = [1,2,3,4]\n",
    "        \n",
    "        for day in days:\n",
    "            if '24hr' in directory:\n",
    "                group = day + 5\n",
    "            else:\n",
    "                group = day\n",
    "            data_directory = os.path.join(directory, 'day'+str(day))\n",
    "            data_fname = get_filename(data_directory, 'pd_data.pickle')\n",
    "            data = pandas.read_pickle(data_fname)\n",
    "            \n",
    "            data = data.sort_values('localtime')\n",
    "            data['encounter'] = np.argsort(data.localtime)\n",
    "\n",
    "            for n in data.encounter.unique():\n",
    "                n_odor_mean, n_odor_beginning, odor_decay_slope, speed, t, n_odor_mean_normalized  = get_flies_in_odor_and_speed(data, n)\n",
    "                dfnew = pandas.DataFrame({ 'n': [n],\n",
    "                                           'group': [group],\n",
    "                                           'speed': [speed],\n",
    "                                           'n_odor_beginning': [n_odor_beginning],\n",
    "                                           'odor_decay_slope': [odor_decay_slope],\n",
    "                                           'n_odor_mean': [n_odor_mean],\n",
    "                                           'localtime': [np.abs(t-24)], \n",
    "                                           'n_odor_mean_normalized': [n_odor_mean_normalized]})\n",
    "                if df is None:\n",
    "                    df = dfnew\n",
    "                else:\n",
    "                    df = pandas.concat((df, dfnew), ignore_index=True)\n",
    "        df = df.dropna()\n",
    "\n",
    "    return df"
   ]
  },
  {
   "cell_type": "code",
   "execution_count": 12,
   "metadata": {},
   "outputs": [],
   "source": [
    "try:\n",
    "    df = pandas.read_hdf('CO2_paper_dataframe.hdf', 'CO2_paper_dataframe')\n",
    "except:\n",
    "    print('Building dataframe from raw data')\n",
    "    df = build_dataframe()\n",
    "    df.to_hdf('CO2_paper_dataframe.hdf', 'CO2_paper_dataframe')"
   ]
  },
  {
   "cell_type": "code",
   "execution_count": 13,
   "metadata": {},
   "outputs": [],
   "source": [
    "query = 'n < 18'\n",
    "df = df.query(query)"
   ]
  },
  {
   "cell_type": "code",
   "execution_count": 14,
   "metadata": {},
   "outputs": [
    {
     "data": {
      "text/plain": [
       "LinregressResult(slope=-0.008793608369435721, intercept=2.3316012956818217, rvalue=-0.03027218533235046, pvalue=0.6866488612199293, stderr=0.021762774359471437)"
      ]
     },
     "execution_count": 14,
     "metadata": {},
     "output_type": "execute_result"
    },
    {
     "data": {
      "image/png": "[encoded data removed]",
      "text/plain": [
       "<Figure size 432x288 with 1 Axes>"
      ]
     },
     "metadata": {
      "needs_background": "light"
     },
     "output_type": "display_data"
    }
   ],
   "source": [
    "# at first there appears to be a positive correlation\n",
    "plt.plot(df.n, df.n_odor_mean_normalized, '.')\n",
    "scipy.stats.linregress(df.n, df.n_odor_mean_normalized)"
   ]
  },
  {
   "cell_type": "code",
   "execution_count": 15,
   "metadata": {},
   "outputs": [
    {
     "data": {
      "text/plain": [
       "[<matplotlib.lines.Line2D at 0x7f5d68931d90>]"
      ]
     },
     "execution_count": 15,
     "metadata": {},
     "output_type": "execute_result"
    },
    {
     "data": {
      "image/png": "[encoded data removed]",
      "text/plain": [
       "<Figure size 432x288 with 1 Axes>"
      ]
     },
     "metadata": {
      "needs_background": "light"
     },
     "output_type": "display_data"
    }
   ],
   "source": [
    "# but it is largely explained by the speed of the flies\n",
    "plt.plot(df.n, df.speed, '.')"
   ]
  },
  {
   "cell_type": "code",
   "execution_count": 16,
   "metadata": {},
   "outputs": [
    {
     "name": "stdout",
     "output_type": "stream",
     "text": [
      "               Mixed Linear Model Regression Results\n",
      "====================================================================\n",
      "Model:            MixedLM Dependent Variable: n_odor_mean_normalized\n",
      "No. Observations: 180     Method:             REML                  \n",
      "No. Groups:       10      Scale:              0.9077                \n",
      "Min. group size:  18      Log-Likelihood:     -256.9081             \n",
      "Max. group size:  18      Converged:          Yes                   \n",
      "Mean group size:  18.0                                              \n",
      "-----------------------------------------------------------------------\n",
      "              Coef.     Std.Err.      z       P>|z|    [0.025    0.975]\n",
      "-----------------------------------------------------------------------\n",
      "Intercept      0.553       0.228     2.425    0.015     0.106     0.999\n",
      "speed          1.106       0.126     8.784    0.000     0.859     1.353\n",
      "n             -0.026       0.024    -1.110    0.267    -0.073     0.020\n",
      "speed:n       -0.022       0.013    -1.695    0.090    -0.048     0.003\n",
      "Group Var      0.025       0.038                                       \n",
      "====================================================================\n",
      "\n"
     ]
    }
   ],
   "source": [
    "md = smf.mixedlm(\"n_odor_mean_normalized ~ speed*n\", df, groups=df[\"group\"])\n",
    "mdf = md.fit()\n",
    "print(mdf.summary())"
   ]
  },
  {
   "cell_type": "code",
   "execution_count": 17,
   "metadata": {},
   "outputs": [
    {
     "name": "stdout",
     "output_type": "stream",
     "text": [
      "                              OLS Regression Results                              \n",
      "==================================================================================\n",
      "Dep. Variable:     n_odor_mean_normalized   R-squared:                       0.600\n",
      "Model:                                OLS   Adj. R-squared:                  0.593\n",
      "Method:                     Least Squares   F-statistic:                     87.92\n",
      "Date:                    Tue, 25 May 2021   Prob (F-statistic):           8.28e-35\n",
      "Time:                            11:12:15   Log-Likelihood:                -246.82\n",
      "No. Observations:                     180   AIC:                             501.6\n",
      "Df Residuals:                         176   BIC:                             514.4\n",
      "Df Model:                               3                                         \n",
      "Covariance Type:                nonrobust                                         \n",
      "==============================================================================\n",
      "                 coef    std err          t      P>|t|      [0.025      0.975]\n",
      "------------------------------------------------------------------------------\n",
      "Intercept      0.5516      0.222      2.480      0.014       0.113       0.990\n",
      "speed          1.1063      0.125      8.818      0.000       0.859       1.354\n",
      "n             -0.0265      0.024     -1.114      0.267      -0.073       0.020\n",
      "speed:n       -0.0220      0.013     -1.692      0.092      -0.048       0.004\n",
      "==============================================================================\n",
      "Omnibus:                        1.812   Durbin-Watson:                   1.760\n",
      "Prob(Omnibus):                  0.404   Jarque-Bera (JB):                1.761\n",
      "Skew:                           0.163   Prob(JB):                        0.415\n",
      "Kurtosis:                       2.641   Cond. No.                         91.8\n",
      "==============================================================================\n",
      "\n",
      "Notes:\n",
      "[1] Standard Errors assume that the covariance matrix of the errors is correctly specified.\n"
     ]
    }
   ],
   "source": [
    "md = smf.ols(\"n_odor_mean_normalized ~ speed*n\", df)\n",
    "mdf = md.fit()\n",
    "print(mdf.summary())"
   ]
  },
  {
   "cell_type": "code",
   "execution_count": 18,
   "metadata": {},
   "outputs": [
    {
     "name": "stdout",
     "output_type": "stream",
     "text": [
      "                              OLS Regression Results                              \n",
      "==================================================================================\n",
      "Dep. Variable:     n_odor_mean_normalized   R-squared:                       0.554\n",
      "Model:                                OLS   Adj. R-squared:                  0.552\n",
      "Method:                     Least Squares   F-statistic:                     221.3\n",
      "Date:                    Tue, 25 May 2021   Prob (F-statistic):           4.72e-33\n",
      "Time:                            11:12:19   Log-Likelihood:                -256.53\n",
      "No. Observations:                     180   AIC:                             517.1\n",
      "Df Residuals:                         178   BIC:                             523.4\n",
      "Df Model:                               1                                         \n",
      "Covariance Type:                nonrobust                                         \n",
      "==============================================================================\n",
      "                 coef    std err          t      P>|t|      [0.025      0.975]\n",
      "------------------------------------------------------------------------------\n",
      "Intercept      0.4088      0.145      2.813      0.005       0.122       0.696\n",
      "speed          0.8656      0.058     14.876      0.000       0.751       0.980\n",
      "==============================================================================\n",
      "Omnibus:                        3.722   Durbin-Watson:                   1.625\n",
      "Prob(Omnibus):                  0.156   Jarque-Bera (JB):                3.723\n",
      "Skew:                           0.316   Prob(JB):                        0.155\n",
      "Kurtosis:                       2.688   Cond. No.                         5.40\n",
      "==============================================================================\n",
      "\n",
      "Notes:\n",
      "[1] Standard Errors assume that the covariance matrix of the errors is correctly specified.\n"
     ]
    }
   ],
   "source": [
    "md = smf.ols(\"n_odor_mean_normalized ~ speed\", df)\n",
    "mdf = md.fit()\n",
    "print(mdf.summary())"
   ]
  },
  {
   "cell_type": "code",
   "execution_count": null,
   "metadata": {},
   "outputs": [],
   "source": []
  },
  {
   "cell_type": "code",
   "execution_count": null,
   "metadata": {},
   "outputs": [],
   "source": []
  },
  {
   "cell_type": "code",
   "execution_count": null,
   "metadata": {},
   "outputs": [],
   "source": []
  },
  {
   "cell_type": "code",
   "execution_count": 19,
   "metadata": {},
   "outputs": [],
   "source": [
    "table = sm.stats.anova_lm(mdf, typ=3)"
   ]
  },
  {
   "cell_type": "code",
   "execution_count": 20,
   "metadata": {},
   "outputs": [
    {
     "name": "stdout",
     "output_type": "stream",
     "text": [
      "               sum_sq     df           F        PR(>F)\n",
      "Intercept    8.102482    1.0    7.913661  5.457757e-03\n",
      "speed      226.580755    1.0  221.300505  4.721193e-33\n",
      "Residual   182.247096  178.0         NaN           NaN\n"
     ]
    }
   ],
   "source": [
    "print(table)"
   ]
  },
  {
   "cell_type": "code",
   "execution_count": null,
   "metadata": {},
   "outputs": [],
   "source": []
  },
  {
   "cell_type": "code",
   "execution_count": null,
   "metadata": {},
   "outputs": [],
   "source": []
  }
 ],
 "metadata": {
  "kernelspec": {
   "display_name": "TEST38",
   "language": "python",
   "name": "test38"
  },
  "language_info": {
   "codemirror_mode": {
    "name": "ipython",
    "version": 3
   },
   "file_extension": ".py",
   "mimetype": "text/x-python",
   "name": "python",
   "nbconvert_exporter": "python",
   "pygments_lexer": "ipython3",
   "version": "3.8.6"
  }
 },
 "nbformat": 4,
 "nbformat_minor": 2
}
