{
 "cells": [
  {
   "cell_type": "code",
   "execution_count": 1,
   "metadata": {},
   "outputs": [
    {
     "name": "stderr",
     "output_type": "stream",
     "text": [
      "/home/caveman/.local/lib/python2.7/site-packages/pandas/core/computation/__init__.py:18: UserWarning: The installed version of numexpr 2.4.3 is not supported in pandas and will be not be used\n",
      "The minimum supported version is 2.4.6\n",
      "\n",
      "  ver=ver, min_ver=_MIN_NUMEXPR_VERSION), UserWarning)\n"
     ]
    },
    {
     "name": "stdout",
     "output_type": "stream",
     "text": [
      "1.5.1\n",
      "recommended version: 1.1.1 or greater\n"
     ]
    }
   ],
   "source": [
    "import numpy as np\n",
    "import matplotlib.pyplot as plt\n",
    "plt.rc('text', usetex=True)\n",
    "import pickle\n",
    "import os\n",
    "import time\n",
    "import datetime\n",
    "from matplotlib import patches\n",
    "import multi_tracker_analysis as mta\n",
    "import scipy.stats\n",
    "import figurefirst as fifi\n",
    "import pandas\n",
    "import copy\n",
    "import flystat\n",
    "import fly_plot_lib.plot as fpl\n",
    "import matplotlib.patches as mpatches"
   ]
  },
  {
   "cell_type": "code",
   "execution_count": 2,
   "metadata": {},
   "outputs": [],
   "source": [
    "from numpy import random, histogram2d, diff\n",
    "import matplotlib.pyplot as plt\n",
    "from scipy.interpolate import interp2d\n",
    "from scipy.interpolate import interp1d"
   ]
  },
  {
   "cell_type": "code",
   "execution_count": 3,
   "metadata": {},
   "outputs": [
    {
     "name": "stderr",
     "output_type": "stream",
     "text": [
      "/home/caveman/.local/lib/python2.7/site-packages/statsmodels/compat/pandas.py:56: FutureWarning: The pandas.core.datetools module is deprecated and will be removed in a future version. Please use the pandas.tseries module instead.\n",
      "  from pandas.core import datetools\n"
     ]
    }
   ],
   "source": [
    "import statsmodels.api as sm\n",
    "import statsmodels.formula.api as smf"
   ]
  },
  {
   "cell_type": "code",
   "execution_count": 4,
   "metadata": {},
   "outputs": [],
   "source": [
    "fififig = 'figures/foraging_fig_1.svg'"
   ]
  },
  {
   "cell_type": "code",
   "execution_count": 5,
   "metadata": {},
   "outputs": [
    {
     "name": "stderr",
     "output_type": "stream",
     "text": [
      "load_data.py:70: RuntimeWarning: divide by zero encountered in log\n",
      "  log_df['log_' + col] = np.log(df[col])\n",
      "load_data.py:70: RuntimeWarning: invalid value encountered in log\n",
      "  log_df['log_' + col] = np.log(df[col])\n"
     ]
    }
   ],
   "source": [
    "import load_data\n",
    "log_df = load_data.load_data()"
   ]
  },
  {
   "cell_type": "code",
   "execution_count": 9,
   "metadata": {},
   "outputs": [
    {
     "name": "stdout",
     "output_type": "stream",
     "text": [
      "0: n trajecs where approached odor: 17\n",
      "1: n trajecs where approached odor: 5\n",
      "2: n trajecs where approached odor: 15\n",
      "3: n trajecs where approached odor: 15\n",
      "4: n trajecs where approached odor: 2\n",
      "5: n trajecs where approached odor: 5\n",
      "6: n trajecs where approached odor: 3\n",
      "7: n trajecs where approached odor: 4\n",
      "8: n trajecs where approached odor: 10\n",
      "9: n trajecs where approached odor: 3\n",
      "10: n trajecs where approached odor: 1\n",
      "12: n trajecs where approached odor: 17\n",
      "14: n trajecs where approached odor: 3\n",
      "16: n trajecs where approached odor: 3\n",
      "17: n trajecs where approached odor: 8\n",
      "19: n trajecs where approached odor: 8\n"
     ]
    }
   ],
   "source": [
    "for _, flid in enumerate(log_df.flid.unique()):\n",
    "    dfq = log_df[log_df.flid==flid]\n",
    "    print(str(flid) + ': n trajecs where approached odor: ' + str(len(dfq[dfq.approached_odor==1]) ) )"
   ]
  },
  {
   "cell_type": "code",
   "execution_count": 6,
   "metadata": {},
   "outputs": [],
   "source": [
    "def plot_flid_data(ax, df, flid, n):\n",
    "    dfq = df[df.flid==flid]\n",
    "    try:\n",
    "        fpl.scatter_box(ax, n+0.2, dfq[dfq.approached_odor==1].iloc[1:].distance_travelled.values, \n",
    "                        color='black', xwidth=0.3, markersize=2)\n",
    "    except:\n",
    "        pass\n",
    "    ax.plot(n, dfq[dfq.approached_odor==1].iloc[0].distance_travelled, 'o', color='red', markersize=3)\n",
    "    #ax.plot(n, dfq[dfq.approached_odor==1].iloc[0].distance_travelled, 'o', color='red', markersize=3)\n",
    "    try:\n",
    "        fpl.scatter_box(ax, n+1-0.2, dfq[dfq.approached_odor==-1].distance_travelled.values, \n",
    "                        color='lightgray', edgecolor='black', xwidth=0.3, markersize=2, marker_linewidth=0.25, \n",
    "                        scatter_color='white')\n",
    "    except:\n",
    "        pass"
   ]
  },
  {
   "cell_type": "code",
   "execution_count": 7,
   "metadata": {},
   "outputs": [
    {
     "name": "stderr",
     "output_type": "stream",
     "text": [
      "/usr/local/lib/python2.7/dist-packages/numpy/core/fromnumeric.py:2957: RuntimeWarning: Mean of empty slice.\n",
      "  out=out, **kwargs)\n",
      "/usr/local/lib/python2.7/dist-packages/numpy/core/_methods.py:80: RuntimeWarning: invalid value encountered in double_scalars\n",
      "  ret = ret.dtype.type(ret / rcount)\n"
     ]
    },
    {
     "data": {
      "image/png": "[encoded data removed]",
      "text/plain": [
       "<matplotlib.figure.Figure at 0x7ff3639fb510>"
      ]
     },
     "metadata": {},
     "output_type": "display_data"
    },
    {
     "data": {
      "image/png": "[encoded data removed]",
      "text/plain": [
       "<matplotlib.figure.Figure at 0x7ff3639f1390>"
      ]
     },
     "metadata": {},
     "output_type": "display_data"
    },
    {
     "data": {
      "image/png": "[encoded data removed]",
      "text/plain": [
       "<matplotlib.figure.Figure at 0x7ff30eec2ad0>"
      ]
     },
     "metadata": {},
     "output_type": "display_data"
    },
    {
     "data": {
      "image/png": "[encoded data removed]",
      "text/plain": [
       "<matplotlib.figure.Figure at 0x7ff30ee73a50>"
      ]
     },
     "metadata": {},
     "output_type": "display_data"
    }
   ],
   "source": [
    "fififig = '/home/caveman/Sync/LAB_Private/PAPERS/2020_foraging/foraging_fig_1.svg'\n",
    "layout = fifi.svg_to_axes.FigureLayout(fififig, autogenlayers=True, \n",
    "                                       make_mplfigures=True, hide_layers=[])\n",
    "ax = layout.axes[('first', 'individual')]\n",
    "\n",
    "n = 0\n",
    "for _, flid in enumerate(log_df.flid.unique()):\n",
    "    \n",
    "    plot_flid_data(ax, log_df, flid, n)\n",
    "    n += 2\n",
    "\n",
    "ax.set_yscale('log')\n",
    "yticks = [10**1, 10**2, 10**3, 10**4]\n",
    "yticklabels = ['$10^1$', '$10^2$', '$10^3$', '$10^4$']\n",
    "fifi.mpl_functions.adjust_spines(ax, ['left', 'bottom'], \n",
    "                                 yticks=yticks, \n",
    "                                 xticks = np.arange(0, len(log_df.flid.unique())*2, 2)+0.5,\n",
    "                                 linewidth=0.5, tick_length=2.5, \n",
    "                                 spine_locations={'left': 2.5, 'bottom': 2.5})\n",
    "ax.set_xlim(-0.5, len(log_df.flid.unique())*2+0.5)\n",
    "ax.set_ylim(10, 10**4)\n",
    "ax.set_yticklabels(yticklabels)\n",
    "ax.set_xticklabels([])\n",
    "ax.minorticks_off()\n",
    "\n",
    "#######\n",
    "\n",
    "fifi.mpl_functions.set_fontsize(ax.figure, 8)\n",
    "layout.append_figure_to_layer(layout.figures['first'], 'first', cleartarget=True)\n",
    "layout.write_svg(fififig)"
   ]
  }
 ],
 "metadata": {
  "kernelspec": {
   "display_name": "Python 2",
   "language": "python",
   "name": "python2"
  },
  "language_info": {
   "codemirror_mode": {
    "name": "ipython",
    "version": 2
   },
   "file_extension": ".py",
   "mimetype": "text/x-python",
   "name": "python",
   "nbconvert_exporter": "python",
   "pygments_lexer": "ipython2",
   "version": "2.7.12"
  }
 },
 "nbformat": 4,
 "nbformat_minor": 2
}
