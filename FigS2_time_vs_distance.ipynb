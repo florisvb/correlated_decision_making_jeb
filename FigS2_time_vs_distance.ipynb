{
 "cells": [
  {
   "cell_type": "code",
   "execution_count": 1,
   "metadata": {},
   "outputs": [
    {
     "name": "stderr",
     "output_type": "stream",
     "text": [
      "/home/caveman/.local/lib/python2.7/site-packages/pandas/core/computation/__init__.py:18: UserWarning: The installed version of numexpr 2.4.3 is not supported in pandas and will be not be used\n",
      "The minimum supported version is 2.4.6\n",
      "\n",
      "  ver=ver, min_ver=_MIN_NUMEXPR_VERSION), UserWarning)\n"
     ]
    },
    {
     "name": "stdout",
     "output_type": "stream",
     "text": [
      "1.5.1\n",
      "recommended version: 1.1.1 or greater\n"
     ]
    },
    {
     "name": "stderr",
     "output_type": "stream",
     "text": [
      "/home/caveman/.local/lib/python2.7/site-packages/statsmodels/compat/pandas.py:56: FutureWarning: The pandas.core.datetools module is deprecated and will be removed in a future version. Please use the pandas.tseries module instead.\n",
      "  from pandas.core import datetools\n"
     ]
    }
   ],
   "source": [
    "import numpy as np\n",
    "import matplotlib.pyplot as plt\n",
    "plt.rc('text', usetex=True)\n",
    "import pickle\n",
    "import os\n",
    "import time\n",
    "import datetime\n",
    "from matplotlib import patches\n",
    "import multi_tracker_analysis as mta\n",
    "import scipy.stats\n",
    "import figurefirst as fifi\n",
    "import pandas\n",
    "import copy\n",
    "import matplotlib.patches as mpatches\n",
    "\n",
    "from numpy import random, histogram2d, diff\n",
    "import matplotlib.pyplot as plt\n",
    "from scipy.interpolate import interp2d\n",
    "from scipy.interpolate import interp1d\n",
    "\n",
    "import statsmodels.api as sm\n",
    "import statsmodels.formula.api as smf\n",
    "\n",
    "import scipy.stats\n",
    "import scipy.optimize\n",
    "\n",
    "import flystat # for bootstrapping 95% conf. intervals"
   ]
  },
  {
   "cell_type": "markdown",
   "metadata": {},
   "source": [
    "# Load data"
   ]
  },
  {
   "cell_type": "code",
   "execution_count": 5,
   "metadata": {},
   "outputs": [],
   "source": [
    "def load_data():\n",
    "    df = pandas.read_hdf('data/flydata_20210428_3cam.hdf', 'flydata_20210428_3cam')\n",
    "\n",
    "\n",
    "    minimum_req_visits = 3\n",
    "    flids_okay = []\n",
    "    for flid in df.flid.unique():\n",
    "        dfq = df[df.flid==flid]\n",
    "        if len(dfq) >= minimum_req_visits:\n",
    "            flids_okay.append(flid)\n",
    "    df = df[df.flid.isin(flids_okay)]\n",
    "\n",
    "    df.fraction_of_time_near_odor += 1e-4 # to help with logs\n",
    "\n",
    "    # spatial novelty\n",
    "    new_camera = []\n",
    "    for ix in range(len(df)):\n",
    "        nc = 1\n",
    "        try:\n",
    "            if df.iloc[ix].flid == df.iloc[ix-1].flid:\n",
    "                if df.iloc[ix].camera != df.iloc[ix-1].camera:\n",
    "                    nc = 2\n",
    "            else:\n",
    "                nc = 2\n",
    "        except:\n",
    "            nc = 2 # first one\n",
    "        new_camera.append(nc)\n",
    "    df['new_camera'] = new_camera\n",
    "\n",
    "    # nth visit\n",
    "    nth_visit = [1]\n",
    "    for ix in range(1, len(df)):\n",
    "        if df.iloc[ix].flid == df.iloc[ix-1].flid:\n",
    "            nth_visit.append(nth_visit[-1]+1)\n",
    "        else:\n",
    "            nth_visit.append(1)\n",
    "    df['nth_visit'] = nth_visit\n",
    "    df['log_nth_visit'] = np.log(nth_visit)\n",
    "\n",
    "    df['mean_interval'] = np.nanmean([df['interval'].values, df['interval2'].values], axis=0)\n",
    "    df['approached_odor'] = np.sign(df['fraction_of_time_near_odor']-0.001)\n",
    "\n",
    "    df['camera_num'] = (df['camera'] == 'center_camera')\n",
    "    df['camera_num'] = (df['camera_num'] -1) /2\n",
    "\n",
    "    return df"
   ]
  },
  {
   "cell_type": "code",
   "execution_count": 21,
   "metadata": {},
   "outputs": [],
   "source": [
    "df = load_data()\n",
    "df = df[ ~ (df.nth_visit==1) ] # drop the first visits for this analysis\n",
    "df = df[df.interval > 0] # there is one encoutner with a negative interval (and must therefore be mislabelled)"
   ]
  },
  {
   "cell_type": "code",
   "execution_count": 34,
   "metadata": {},
   "outputs": [],
   "source": [
    "trans_df = pandas.DataFrame()\n",
    "trans_df['flid'] = df.flid"
   ]
  },
  {
   "cell_type": "code",
   "execution_count": 35,
   "metadata": {},
   "outputs": [],
   "source": [
    "trans_df['approached_odor'] = df.approached_odor\n",
    "trans_df['log_search_time'] = np.log(df.search_time)\n",
    "trans_df['log_distance_travelled'] = np.log(df.distance_travelled)"
   ]
  },
  {
   "cell_type": "code",
   "execution_count": 36,
   "metadata": {},
   "outputs": [
    {
     "name": "stdout",
     "output_type": "stream",
     "text": [
      "log_search_time ~ log_distance_travelled\n"
     ]
    }
   ],
   "source": [
    "model = 'log_search_time ~ log_distance_travelled'\n",
    "print(model)"
   ]
  },
  {
   "cell_type": "code",
   "execution_count": 37,
   "metadata": {},
   "outputs": [
    {
     "name": "stdout",
     "output_type": "stream",
     "text": [
      "                            OLS Regression Results                            \n",
      "==============================================================================\n",
      "Dep. Variable:        log_search_time   R-squared:                       0.699\n",
      "Model:                            OLS   Adj. R-squared:                  0.698\n",
      "Method:                 Least Squares   F-statistic:                     372.3\n",
      "Date:                Tue, 11 May 2021   Prob (F-statistic):           1.29e-43\n",
      "Time:                        14:15:08   Log-Likelihood:                -174.42\n",
      "No. Observations:                 162   AIC:                             352.8\n",
      "Df Residuals:                     160   BIC:                             359.0\n",
      "Df Model:                           1                                         \n",
      "Covariance Type:            nonrobust                                         \n",
      "==========================================================================================\n",
      "                             coef    std err          t      P>|t|      [0.025      0.975]\n",
      "------------------------------------------------------------------------------------------\n",
      "Intercept                 -0.1989      0.326     -0.610      0.543      -0.843       0.445\n",
      "log_distance_travelled     0.9952      0.052     19.296      0.000       0.893       1.097\n",
      "==============================================================================\n",
      "Omnibus:                       11.027   Durbin-Watson:                   1.671\n",
      "Prob(Omnibus):                  0.004   Jarque-Bera (JB):               12.130\n",
      "Skew:                           0.520   Prob(JB):                      0.00232\n",
      "Kurtosis:                       3.847   Cond. No.                         37.6\n",
      "==============================================================================\n",
      "\n",
      "Warnings:\n",
      "[1] Standard Errors assume that the covariance matrix of the errors is correctly specified.\n"
     ]
    }
   ],
   "source": [
    "md = smf.ols(model, trans_df)\n",
    "mdf = md.fit()\n",
    "print(mdf.summary())"
   ]
  },
  {
   "cell_type": "code",
   "execution_count": 46,
   "metadata": {},
   "outputs": [
    {
     "data": {
      "text/plain": [
       "Intercept                 5.428136e-01\n",
       "log_distance_travelled    1.289407e-43\n",
       "dtype: float64"
      ]
     },
     "execution_count": 46,
     "metadata": {},
     "output_type": "execute_result"
    }
   ],
   "source": [
    "mdf.pvalues"
   ]
  },
  {
   "cell_type": "code",
   "execution_count": 45,
   "metadata": {},
   "outputs": [
    {
     "data": {
      "image/png": "[encoded data removed]",
      "text/plain": [
       "<matplotlib.figure.Figure at 0x7faec72c8dd0>"
      ]
     },
     "metadata": {},
     "output_type": "display_data"
    },
    {
     "data": {
      "image/png": "[encoded data removed]",
      "text/plain": [
       "<matplotlib.figure.Figure at 0x7faec8512d50>"
      ]
     },
     "metadata": {},
     "output_type": "display_data"
    },
    {
     "data": {
      "image/png": "[encoded data removed]",
      "text/plain": [
       "<matplotlib.figure.Figure at 0x7faf1b351890>"
      ]
     },
     "metadata": {},
     "output_type": "display_data"
    },
    {
     "data": {
      "image/png": "[encoded data removed]",
      "text/plain": [
       "<matplotlib.figure.Figure at 0x7faec81127d0>"
      ]
     },
     "metadata": {},
     "output_type": "display_data"
    },
    {
     "data": {
      "image/png": "[encoded data removed]",
      "text/plain": [
       "<matplotlib.figure.Figure at 0x7faec8dbf6d0>"
      ]
     },
     "metadata": {},
     "output_type": "display_data"
    },
    {
     "data": {
      "image/png": "[encoded data removed]",
      "text/plain": [
       "<matplotlib.figure.Figure at 0x7faec7545e90>"
      ]
     },
     "metadata": {},
     "output_type": "display_data"
    },
    {
     "data": {
      "image/png": "[encoded data removed]",
      "text/plain": [
       "<matplotlib.figure.Figure at 0x7faf1b125c10>"
      ]
     },
     "metadata": {},
     "output_type": "display_data"
    },
    {
     "data": {
      "image/png": "[encoded data removed]",
      "text/plain": [
       "<matplotlib.figure.Figure at 0x7faec5d1fb90>"
      ]
     },
     "metadata": {},
     "output_type": "display_data"
    }
   ],
   "source": [
    "fififig = 'supplemental_figures/foraging_fig_4_revision_supplement.svg'\n",
    "layout = fifi.svg_to_axes.FigureLayout(fififig, autogenlayers=True, \n",
    "                                       make_mplfigures=True, hide_layers=[])\n",
    "ax = layout.axes[('time_vs_distance', 'time_vs_distance')]\n",
    "\n",
    "ax.scatter(trans_df.log_distance_travelled, trans_df.log_search_time, c=trans_df.approached_odor, cmap='bone_r', \n",
    "               s=3, linewidth=0.25,rasterized=True)\n",
    "\n",
    "\n",
    "x = np.linspace(np.min(trans_df.log_distance_travelled.values), np.max(trans_df.log_distance_travelled.values), 100)\n",
    "y = mdf.params['log_distance_travelled']*x + mdf.params['Intercept']\n",
    "ax.plot(x, y, color='blue')\n",
    "\n",
    "\n",
    "if 1:\n",
    "    input = 'log_distance_travelled'\n",
    "    # show the confidence interval around the slope and mean\n",
    "    conf95 = mdf.conf_int(alpha=0.05, cols=None)\n",
    "    input_coeff_conf_lo = conf95[0][input]\n",
    "    input_coeff_conf_hi = conf95[1][input]\n",
    "    \n",
    "    intercept_conf_lo = conf95[0]['Intercept']\n",
    "    intercept_conf_hi = conf95[1]['Intercept']\n",
    "    \n",
    "    y_hi_hi = input_coeff_conf_hi*x + intercept_conf_hi\n",
    "    y_hi_lo = input_coeff_conf_hi*x + intercept_conf_lo\n",
    "    y_lo_hi = input_coeff_conf_lo*x + intercept_conf_hi\n",
    "    y_lo_lo = input_coeff_conf_lo*x + intercept_conf_lo\n",
    "    \n",
    "    y = np.vstack([y_hi_hi, y_hi_lo, y_lo_hi, y_lo_lo])\n",
    "    y = np.sort(y, axis=0)\n",
    "    \n",
    "    ax.fill_between(x, y[0,:], y[-1,:], facecolor='blue', edgecolor='none', alpha=0.3)\n",
    "    \n",
    "    \n",
    "    \n",
    "yticks = [10**1, 10**2, 10**3, 10**4]\n",
    "yticklabels = ['$10^{1}$', '$10^2$', '$10^3$', '$10^4$']\n",
    "\n",
    "xticks = [10**1, 10**2, 10**3, 10**4]\n",
    "xticklabels = ['$10^{1}$', '$10^2$', '$10^3$', '$10^4$']\n",
    "\n",
    "fifi.mpl_functions.adjust_spines(ax, ['left', 'bottom'], \n",
    "                                 yticks=np.log(yticks), \n",
    "                                 xticks=np.log(xticks),\n",
    "                                 linewidth=0.5, tick_length=2.5, \n",
    "                                 spine_locations={'left': 2.5, 'bottom': 2.5})\n",
    "ax.set_yticklabels(yticklabels)\n",
    "ax.set_xticklabels(xticklabels)\n",
    "ax.minorticks_off()\n",
    "#ax.set_xlim(np.log(10**1), np.log(10**4))\n",
    "\n",
    "#fifi.mpl_functions.set_fontsize(ax, 8)\n",
    "#ax.set_xlabel('Interval before landing (sec)')\n",
    "#ax.set_ylabel('Observed distance travelled$^{*}$ (mm)')\n",
    "\n",
    "fifi.mpl_functions.set_fontsize(ax.figure, 6)\n",
    "layout.append_figure_to_layer(layout.figures['time_vs_distance'], 'time_vs_distance', cleartarget=True)\n",
    "layout.write_svg(fififig)\n",
    "\n"
   ]
  },
  {
   "cell_type": "code",
   "execution_count": null,
   "metadata": {},
   "outputs": [],
   "source": []
  }
 ],
 "metadata": {
  "kernelspec": {
   "display_name": "Python 2",
   "language": "python",
   "name": "python2"
  },
  "language_info": {
   "codemirror_mode": {
    "name": "ipython",
    "version": 2
   },
   "file_extension": ".py",
   "mimetype": "text/x-python",
   "name": "python",
   "nbconvert_exporter": "python",
   "pygments_lexer": "ipython2",
   "version": "2.7.12"
  }
 },
 "nbformat": 4,
 "nbformat_minor": 2
}
