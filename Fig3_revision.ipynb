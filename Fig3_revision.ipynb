{
 "cells": [
  {
   "cell_type": "code",
   "execution_count": 1,
   "metadata": {},
   "outputs": [
    {
     "name": "stderr",
     "output_type": "stream",
     "text": [
      "/home/caveman/.local/lib/python2.7/site-packages/pandas/core/computation/__init__.py:18: UserWarning: The installed version of numexpr 2.4.3 is not supported in pandas and will be not be used\n",
      "The minimum supported version is 2.4.6\n",
      "\n",
      "  ver=ver, min_ver=_MIN_NUMEXPR_VERSION), UserWarning)\n"
     ]
    },
    {
     "name": "stdout",
     "output_type": "stream",
     "text": [
      "1.5.1\n",
      "recommended version: 1.1.1 or greater\n"
     ]
    }
   ],
   "source": [
    "import numpy as np\n",
    "import matplotlib.pyplot as plt\n",
    "plt.rc('text', usetex=True)\n",
    "import pickle\n",
    "import os\n",
    "import time\n",
    "import datetime\n",
    "from matplotlib import patches\n",
    "import multi_tracker_analysis as mta\n",
    "import scipy.stats\n",
    "import figurefirst as fifi\n",
    "import pandas\n",
    "import copy\n",
    "import flystat\n",
    "import fly_plot_lib.plot as fpl\n",
    "import matplotlib.patches as mpatches"
   ]
  },
  {
   "cell_type": "code",
   "execution_count": 2,
   "metadata": {},
   "outputs": [],
   "source": [
    "from numpy import random, histogram2d, diff\n",
    "import matplotlib.pyplot as plt\n",
    "from scipy.interpolate import interp2d\n",
    "from scipy.interpolate import interp1d"
   ]
  },
  {
   "cell_type": "code",
   "execution_count": 3,
   "metadata": {},
   "outputs": [
    {
     "name": "stderr",
     "output_type": "stream",
     "text": [
      "/home/caveman/.local/lib/python2.7/site-packages/statsmodels/compat/pandas.py:56: FutureWarning: The pandas.core.datetools module is deprecated and will be removed in a future version. Please use the pandas.tseries module instead.\n",
      "  from pandas.core import datetools\n"
     ]
    }
   ],
   "source": [
    "import statsmodels.api as sm\n",
    "import statsmodels.formula.api as smf"
   ]
  },
  {
   "cell_type": "code",
   "execution_count": 4,
   "metadata": {},
   "outputs": [],
   "source": [
    "fififig = 'figures/foraging_fig_3_revision.svg'"
   ]
  },
  {
   "cell_type": "code",
   "execution_count": 5,
   "metadata": {
    "code_folding": []
   },
   "outputs": [],
   "source": [
    "def load_data():\n",
    "    df = pandas.read_hdf('data/flydata_20210428_3cam.hdf', 'flydata_20210428_3cam')\n",
    "\n",
    "\n",
    "    minimum_req_visits = 3\n",
    "    flids_okay = []\n",
    "    for flid in df.flid.unique():\n",
    "        dfq = df[df.flid==flid]\n",
    "        if len(dfq) >= minimum_req_visits:\n",
    "            flids_okay.append(flid)\n",
    "    df = df[df.flid.isin(flids_okay)]\n",
    "\n",
    "    df.fraction_of_time_near_odor += 1e-4 # to help with logs\n",
    "\n",
    "    # spatial novelty\n",
    "    new_camera = []\n",
    "    for ix in range(len(df)):\n",
    "        nc = 1\n",
    "        try:\n",
    "            if df.iloc[ix].flid == df.iloc[ix-1].flid:\n",
    "                if df.iloc[ix].camera != df.iloc[ix-1].camera:\n",
    "                    nc = 2\n",
    "            else:\n",
    "                nc = 2\n",
    "        except:\n",
    "            nc = 2 # first one\n",
    "        new_camera.append(nc)\n",
    "    df['new_camera'] = new_camera\n",
    "\n",
    "    # nth visit\n",
    "    nth_visit = [1]\n",
    "    for ix in range(1, len(df)):\n",
    "        if df.iloc[ix].flid == df.iloc[ix-1].flid:\n",
    "            nth_visit.append(nth_visit[-1]+1)\n",
    "        else:\n",
    "            nth_visit.append(1)\n",
    "    df['nth_visit'] = nth_visit\n",
    "    df['log_nth_visit'] = np.log(nth_visit)\n",
    "\n",
    "    df['mean_interval'] = np.nanmean([df['interval'].values, df['interval2'].values], axis=0)\n",
    "    df['approached_odor'] = np.sign(df['fraction_of_time_near_odor']-0.01)\n",
    "\n",
    "    df['camera_num'] = (df['camera'] == 'center_camera')\n",
    "    df['camera_num'] = (df['camera_num'] -1) /2\n",
    "\n",
    "    return df"
   ]
  },
  {
   "cell_type": "code",
   "execution_count": 6,
   "metadata": {},
   "outputs": [],
   "source": [
    "df = load_data()\n",
    "df = df[ ~ (df.nth_visit==1) ] # drop the first visits for this analysis\n",
    "df = df[df.interval > 0] # there is one encoutner with a negative interval\n",
    "#df.fraction_of_time_near_odor += 1e-4 # to help with logs"
   ]
  },
  {
   "cell_type": "markdown",
   "metadata": {},
   "source": [
    "# Distance travelled"
   ]
  },
  {
   "cell_type": "code",
   "execution_count": 7,
   "metadata": {},
   "outputs": [
    {
     "data": {
      "image/png": "[encoded data removed]",
      "text/plain": [
       "<matplotlib.figure.Figure at 0x7fc77911d690>"
      ]
     },
     "metadata": {},
     "output_type": "display_data"
    },
    {
     "data": {
      "image/png": "[encoded data removed]",
      "text/plain": [
       "<matplotlib.figure.Figure at 0x7fc77911ded0>"
      ]
     },
     "metadata": {},
     "output_type": "display_data"
    },
    {
     "data": {
      "image/png": "[encoded data removed]",
      "text/plain": [
       "<matplotlib.figure.Figure at 0x7fc778577c90>"
      ]
     },
     "metadata": {},
     "output_type": "display_data"
    },
    {
     "data": {
      "image/png": "[encoded data removed]",
      "text/plain": [
       "<matplotlib.figure.Figure at 0x7fc7784f1d90>"
      ]
     },
     "metadata": {},
     "output_type": "display_data"
    },
    {
     "data": {
      "image/png": "[encoded data removed]",
      "text/plain": [
       "<matplotlib.figure.Figure at 0x7fc7783ef150>"
      ]
     },
     "metadata": {},
     "output_type": "display_data"
    },
    {
     "data": {
      "image/png": "[encoded data removed]",
      "text/plain": [
       "<matplotlib.figure.Figure at 0x7fc778373810>"
      ]
     },
     "metadata": {},
     "output_type": "display_data"
    },
    {
     "data": {
      "image/png": "[encoded data removed]",
      "text/plain": [
       "<matplotlib.figure.Figure at 0x7fc778301f10>"
      ]
     },
     "metadata": {},
     "output_type": "display_data"
    },
    {
     "data": {
      "image/png": "[encoded data removed]",
      "text/plain": [
       "<matplotlib.figure.Figure at 0x7fc77826fa90>"
      ]
     },
     "metadata": {},
     "output_type": "display_data"
    },
    {
     "data": {
      "image/png": "[encoded data removed]",
      "text/plain": [
       "<matplotlib.figure.Figure at 0x7fc77ce5e950>"
      ]
     },
     "metadata": {},
     "output_type": "display_data"
    },
    {
     "data": {
      "image/png": "[encoded data removed]",
      "text/plain": [
       "<matplotlib.figure.Figure at 0x7fc7781713d0>"
      ]
     },
     "metadata": {},
     "output_type": "display_data"
    },
    {
     "data": {
      "image/png": "[encoded data removed]",
      "text/plain": [
       "<matplotlib.figure.Figure at 0x7fc7780f1a90>"
      ]
     },
     "metadata": {},
     "output_type": "display_data"
    },
    {
     "data": {
      "image/png": "[encoded data removed]",
      "text/plain": [
       "<matplotlib.figure.Figure at 0x7fc77806d390>"
      ]
     },
     "metadata": {},
     "output_type": "display_data"
    },
    {
     "data": {
      "image/png": "[encoded data removed]",
      "text/plain": [
       "<matplotlib.figure.Figure at 0x7fc777fefc10>"
      ]
     },
     "metadata": {},
     "output_type": "display_data"
    },
    {
     "data": {
      "image/png": "[encoded data removed]",
      "text/plain": [
       "<matplotlib.figure.Figure at 0x7fc777f5ef90>"
      ]
     },
     "metadata": {},
     "output_type": "display_data"
    },
    {
     "data": {
      "image/png": "[encoded data removed]",
      "text/plain": [
       "<matplotlib.figure.Figure at 0x7fc777ef9090>"
      ]
     },
     "metadata": {},
     "output_type": "display_data"
    }
   ],
   "source": [
    "layout = fifi.svg_to_axes.FigureLayout(fififig, autogenlayers=True, \n",
    "                                       make_mplfigures=True, hide_layers=[])\n",
    "ax = layout.axes[('distance_v_approaches', 'distance_v_approaches')]\n",
    "\n",
    "fpl.scatter_box(ax, 1, np.log(df.query('approached_odor==1').distance_travelled).dropna().values, \n",
    "                color='black', markersize=1, use='mean')\n",
    "\n",
    "fpl.scatter_box(ax, 2, np.log(df.query('approached_odor==-1').distance_travelled).dropna().values, \n",
    "                color='black', markersize=1, use='mean')\n",
    "\n",
    "#ax.set_yscale('log')\n",
    "#ax.set_xscale('log')\n",
    "\n",
    "#ax.set_ylim(2.2,9.22)\n",
    "#ax.set_xlim(0, 7)\n",
    "ax.set_xlim(0.5, 2.5)\n",
    "#ax.set_ylim(10**1, 10**4)\n",
    "yticks = [10**1, 10**2, 10**3, 10**4]\n",
    "yticklabels = ['$10^1$', '$10^2$', '$10^3$', '$10^4$']\n",
    "\n",
    "xticks = [1, 2]\n",
    "xticklabels = ['', '']\n",
    "\n",
    "\n",
    "fifi.mpl_functions.adjust_spines(ax, ['left', 'bottom'], \n",
    "                                 yticks=np.log(yticks), \n",
    "                                 xticks=xticks,\n",
    "                                 linewidth=0.5, tick_length=2.5, \n",
    "                                 spine_locations={'left': 2.5, 'bottom': 2.5})\n",
    "ax.set_yticklabels(yticklabels)\n",
    "ax.set_xticklabels(xticklabels)\n",
    "ax.minorticks_off()\n",
    "\n",
    "fifi.mpl_functions.set_fontsize(ax.figure, 6)\n",
    "layout.append_figure_to_layer(layout.figures['distance_v_approaches'], 'distance_v_approaches', cleartarget=True)\n",
    "layout.write_svg(fififig)"
   ]
  },
  {
   "cell_type": "code",
   "execution_count": 8,
   "metadata": {},
   "outputs": [
    {
     "data": {
      "text/plain": [
       "(0.0020000000000000018, 0.607, 0.986)"
      ]
     },
     "execution_count": 8,
     "metadata": {},
     "output_type": "execute_result"
    }
   ],
   "source": [
    "flystat.resampling.calc_statistical_significance_through_resampling(np.log(df.query('approached_odor==1').distance_travelled).values,\n",
    "                     np.log(df.query('approached_odor==-1').distance_travelled).values, analysis='mean')"
   ]
  },
  {
   "cell_type": "markdown",
   "metadata": {},
   "source": [
    "# First approaches"
   ]
  },
  {
   "cell_type": "code",
   "execution_count": 9,
   "metadata": {},
   "outputs": [
    {
     "data": {
      "image/png": "[encoded data removed]",
      "text/plain": [
       "<matplotlib.figure.Figure at 0x7fc778523dd0>"
      ]
     },
     "metadata": {},
     "output_type": "display_data"
    },
    {
     "data": {
      "image/png": "[encoded data removed]",
      "text/plain": [
       "<matplotlib.figure.Figure at 0x7fc77853ba10>"
      ]
     },
     "metadata": {},
     "output_type": "display_data"
    },
    {
     "data": {
      "image/png": "[encoded data removed]",
      "text/plain": [
       "<matplotlib.figure.Figure at 0x7fc774220150>"
      ]
     },
     "metadata": {},
     "output_type": "display_data"
    },
    {
     "data": {
      "image/png": "[encoded data removed]",
      "text/plain": [
       "<matplotlib.figure.Figure at 0x7fc7741a46d0>"
      ]
     },
     "metadata": {},
     "output_type": "display_data"
    },
    {
     "data": {
      "image/png": "[encoded data removed]",
      "text/plain": [
       "<matplotlib.figure.Figure at 0x7fc774135850>"
      ]
     },
     "metadata": {},
     "output_type": "display_data"
    },
    {
     "data": {
      "image/png": "[encoded data removed]",
      "text/plain": [
       "<matplotlib.figure.Figure at 0x7fc77912a610>"
      ]
     },
     "metadata": {},
     "output_type": "display_data"
    },
    {
     "data": {
      "image/png": "[encoded data removed]",
      "text/plain": [
       "<matplotlib.figure.Figure at 0x7fc7793dcdd0>"
      ]
     },
     "metadata": {},
     "output_type": "display_data"
    },
    {
     "data": {
      "image/png": "[encoded data removed]",
      "text/plain": [
       "<matplotlib.figure.Figure at 0x7fc77993d4d0>"
      ]
     },
     "metadata": {},
     "output_type": "display_data"
    },
    {
     "data": {
      "image/png": "[encoded data removed]",
      "text/plain": [
       "<matplotlib.figure.Figure at 0x7fc77964ed90>"
      ]
     },
     "metadata": {},
     "output_type": "display_data"
    },
    {
     "data": {
      "image/png": "[encoded data removed]",
      "text/plain": [
       "<matplotlib.figure.Figure at 0x7fc779535650>"
      ]
     },
     "metadata": {},
     "output_type": "display_data"
    },
    {
     "data": {
      "image/png": "[encoded data removed]",
      "text/plain": [
       "<matplotlib.figure.Figure at 0x7fc779a119d0>"
      ]
     },
     "metadata": {},
     "output_type": "display_data"
    },
    {
     "data": {
      "image/png": "[encoded data removed]",
      "text/plain": [
       "<matplotlib.figure.Figure at 0x7fc778db1a90>"
      ]
     },
     "metadata": {},
     "output_type": "display_data"
    },
    {
     "data": {
      "image/png": "[encoded data removed]",
      "text/plain": [
       "<matplotlib.figure.Figure at 0x7fc779a6a090>"
      ]
     },
     "metadata": {},
     "output_type": "display_data"
    },
    {
     "data": {
      "image/png": "[encoded data removed]",
      "text/plain": [
       "<matplotlib.figure.Figure at 0x7fc7caac8cd0>"
      ]
     },
     "metadata": {},
     "output_type": "display_data"
    },
    {
     "data": {
      "image/png": "[encoded data removed]",
      "text/plain": [
       "<matplotlib.figure.Figure at 0x7fc7cabea3d0>"
      ]
     },
     "metadata": {},
     "output_type": "display_data"
    }
   ],
   "source": [
    "layout = fifi.svg_to_axes.FigureLayout(fififig, autogenlayers=True, \n",
    "                                       make_mplfigures=True, hide_layers=[])\n",
    "ax = layout.axes[('first_approach', 'approached')]\n",
    "\n",
    "\n",
    "\n",
    "d = df[df.distance_travelled_before_first_approach>0].distance_travelled.values\n",
    "logd = np.log(d)\n",
    "ax.hist(logd, color='black', normed=True)\n",
    "\n",
    "\n",
    "d = df[df.distance_travelled_before_first_approach>0].distance_travelled_before_first_approach.values\n",
    "logd = np.log(d)\n",
    "ax.hist(logd, edgecolor='none', facecolor='salmon', alpha=0.7, normed=True)\n",
    "\n",
    "xticks = [1, 10**1, 10**2, 10**3, 10**4]\n",
    "xticklabels = ['$10^0$', '$10^1$', '$10^2$', '$10^3$', '$10^4$']\n",
    "\n",
    "fifi.mpl_functions.adjust_spines(ax, ['left', 'bottom'], \n",
    "                                 yticks=[0, 0.3, 0.6], \n",
    "                                 xticks=np.log(xticks),\n",
    "                                 linewidth=0.5, tick_length=2.5, \n",
    "                                 spine_locations={'left': 2.5, 'bottom': 2.5})\n",
    "ax.set_ylim(0, 0.75)\n",
    "ax.set_xticklabels(xticklabels)\n",
    "ax.minorticks_off()\n",
    "\n",
    "#fifi.mpl_functions.set_fontsize(ax.figure, 8)\n",
    "#layout.append_figure_to_layer(layout.figures['distance_v_time'], 'distance_v_time', cleartarget=True)\n",
    "#layout.write_svg(fififig)"
   ]
  },
  {
   "cell_type": "code",
   "execution_count": 10,
   "metadata": {},
   "outputs": [],
   "source": [
    "ax = layout.axes[('first_approach', 'no_approach')]\n",
    "\n",
    "d = df[df.distance_travelled_before_first_approach<0].distance_travelled.values\n",
    "logd = np.log(d)\n",
    "ax.hist(logd, edgecolor='none', facecolor='gray', normed=True)\n",
    "\n",
    "\n",
    "d = df[df.distance_travelled_before_first_approach>0].distance_travelled_before_first_approach.values\n",
    "logd = np.log(d)\n",
    "ax.hist(logd, edgecolor='none', facecolor='salmon', alpha=0.7, normed=True)\n",
    "\n",
    "xticks = [1, 10**1, 10**2, 10**3, 10**4]\n",
    "xticklabels = ['$10^0$', '$10^1$', '$10^2$', '$10^3$', '$10^4$']\n",
    "\n",
    "fifi.mpl_functions.adjust_spines(ax, ['bottom'], \n",
    "                                 yticks=[0, 0.3, 0.6], \n",
    "                                 xticks=np.log(xticks),\n",
    "                                 linewidth=0.5, tick_length=2.5, \n",
    "                                 spine_locations={'left': 2.5, 'bottom': 2.5})\n",
    "ax.set_ylim(0, 0.75)\n",
    "\n",
    "ax.set_xticklabels(xticklabels)\n",
    "ax.minorticks_off()\n",
    "\n",
    "\n",
    "fifi.mpl_functions.set_fontsize(ax.figure, 6)\n",
    "layout.append_figure_to_layer(layout.figures['first_approach'], 'first_approach', cleartarget=True)\n",
    "layout.write_svg(fififig)"
   ]
  },
  {
   "cell_type": "markdown",
   "metadata": {},
   "source": [
    "# Speed for trajecs that approached and those that did not."
   ]
  },
  {
   "cell_type": "code",
   "execution_count": 11,
   "metadata": {},
   "outputs": [
    {
     "data": {
      "image/png": "[encoded data removed]",
      "text/plain": [
       "<matplotlib.figure.Figure at 0x7fc774ca7e90>"
      ]
     },
     "metadata": {},
     "output_type": "display_data"
    },
    {
     "data": {
      "image/png": "[encoded data removed]",
      "text/plain": [
       "<matplotlib.figure.Figure at 0x7fc779c9a090>"
      ]
     },
     "metadata": {},
     "output_type": "display_data"
    },
    {
     "data": {
      "image/png": "[encoded data removed]",
      "text/plain": [
       "<matplotlib.figure.Figure at 0x7fc777e35890>"
      ]
     },
     "metadata": {},
     "output_type": "display_data"
    },
    {
     "data": {
      "image/png": "[encoded data removed]",
      "text/plain": [
       "<matplotlib.figure.Figure at 0x7fc777e8f410>"
      ]
     },
     "metadata": {},
     "output_type": "display_data"
    },
    {
     "data": {
      "image/png": "[encoded data removed]",
      "text/plain": [
       "<matplotlib.figure.Figure at 0x7fc779144210>"
      ]
     },
     "metadata": {},
     "output_type": "display_data"
    },
    {
     "data": {
      "image/png": "[encoded data removed]",
      "text/plain": [
       "<matplotlib.figure.Figure at 0x7fc778019690>"
      ]
     },
     "metadata": {},
     "output_type": "display_data"
    },
    {
     "data": {
      "image/png": "[encoded data removed]",
      "text/plain": [
       "<matplotlib.figure.Figure at 0x7fc77809e750>"
      ]
     },
     "metadata": {},
     "output_type": "display_data"
    },
    {
     "data": {
      "image/png": "[encoded data removed]",
      "text/plain": [
       "<matplotlib.figure.Figure at 0x7fc77811bed0>"
      ]
     },
     "metadata": {},
     "output_type": "display_data"
    },
    {
     "data": {
      "image/png": "[encoded data removed]",
      "text/plain": [
       "<matplotlib.figure.Figure at 0x7fc778233d10>"
      ]
     },
     "metadata": {},
     "output_type": "display_data"
    },
    {
     "data": {
      "image/png": "[encoded data removed]",
      "text/plain": [
       "<matplotlib.figure.Figure at 0x7fc779c5cdd0>"
      ]
     },
     "metadata": {},
     "output_type": "display_data"
    },
    {
     "data": {
      "image/png": "[encoded data removed]",
      "text/plain": [
       "<matplotlib.figure.Figure at 0x7fc77832a690>"
      ]
     },
     "metadata": {},
     "output_type": "display_data"
    },
    {
     "data": {
      "image/png": "[encoded data removed]",
      "text/plain": [
       "<matplotlib.figure.Figure at 0x7fc779c0e610>"
      ]
     },
     "metadata": {},
     "output_type": "display_data"
    },
    {
     "data": {
      "image/png": "[encoded data removed]",
      "text/plain": [
       "<matplotlib.figure.Figure at 0x7fc7784a9790>"
      ]
     },
     "metadata": {},
     "output_type": "display_data"
    },
    {
     "data": {
      "image/png": "[encoded data removed]",
      "text/plain": [
       "<matplotlib.figure.Figure at 0x7fc779b28c50>"
      ]
     },
     "metadata": {},
     "output_type": "display_data"
    },
    {
     "data": {
      "image/png": "[encoded data removed]",
      "text/plain": [
       "<matplotlib.figure.Figure at 0x7fc7785773d0>"
      ]
     },
     "metadata": {},
     "output_type": "display_data"
    }
   ],
   "source": [
    "layout = fifi.svg_to_axes.FigureLayout(fififig, autogenlayers=True, \n",
    "                                       make_mplfigures=True, hide_layers=[])\n",
    "ax = layout.axes[('speed_v_approaches', 'speed_v_approaches')]\n",
    "\n",
    "fpl.scatter_box(ax, 1, (df.query('approached_odor==1').speed).dropna().values, \n",
    "                color='black', markersize=1, use='mean')\n",
    "\n",
    "fpl.scatter_box(ax, 2, (df.query('approached_odor==-1').speed).dropna().values, \n",
    "                color='black', markersize=1, use='mean')\n",
    "\n",
    "#ax.set_yscale('log')\n",
    "#ax.set_xscale('log')\n",
    "\n",
    "#ax.set_ylim(2.2,9.22)\n",
    "#ax.set_xlim(0, 7)\n",
    "ax.set_xlim(0.5, 2.5)\n",
    "#ax.set_ylim(10**1, 10**4)\n",
    "yticks = [0, 2, 4, 6]\n",
    "\n",
    "xticks = [1, 2]\n",
    "xticklabels = ['', '']\n",
    "\n",
    "\n",
    "fifi.mpl_functions.adjust_spines(ax, ['left', 'bottom'], \n",
    "                                 yticks=yticks, \n",
    "                                 xticks=xticks,\n",
    "                                 linewidth=0.5, tick_length=2.5, \n",
    "                                 spine_locations={'left': 2.5, 'bottom': 2.5})\n",
    "ax.set_xticklabels(xticklabels)\n",
    "ax.minorticks_off()\n",
    "\n",
    "fifi.mpl_functions.set_fontsize(ax.figure, 6)\n",
    "layout.append_figure_to_layer(layout.figures['speed_v_approaches'], 'speed_v_approaches', cleartarget=True)\n",
    "layout.write_svg(fififig)"
   ]
  },
  {
   "cell_type": "code",
   "execution_count": 12,
   "metadata": {},
   "outputs": [
    {
     "data": {
      "text/plain": [
       "(0.28600000000000003, 0.009, 0.145)"
      ]
     },
     "execution_count": 12,
     "metadata": {},
     "output_type": "execute_result"
    }
   ],
   "source": [
    "flystat.resampling.calc_statistical_significance_through_resampling((df.query('approached_odor==1').speed).dropna().values,\n",
    "                     (df.query('approached_odor==-1').speed).dropna().values, analysis='mean')"
   ]
  },
  {
   "cell_type": "markdown",
   "metadata": {},
   "source": [
    "### Direction of the correlation\n",
    "\n",
    "One potential explanation is that flies are more likely to approach the odor if they travel farther.\n",
    "There is, however, a negative correlation between the time when the odors first approached the odor, and how long they travel for. \n",
    "In other words, flies walk farther in search of food, the sooner they interact with the odor.\n",
    "Surprisingly, the flies with an average walking speed that is higher, approach the odor later in their search.\n",
    "Why might flies be more likely to approach the odor?\n",
    "\n",
    "Answer might be: how they actually got to the platform in the first place.\n",
    "\n",
    "#### There is no correlation between how long it takes the fly to approach the odor, and the distance they travel\n",
    "\n",
    "Results are consistent with the idea that when the flies land, their prior experience with the odor, or their visual experience, are influencing how quickly they approach the odor, even though the all appear to land on similar parts of the platform. \n",
    "\n",
    "Flow over the objects is different. "
   ]
  },
  {
   "cell_type": "code",
   "execution_count": 13,
   "metadata": {},
   "outputs": [
    {
     "name": "stderr",
     "output_type": "stream",
     "text": [
      "/usr/local/lib/python2.7/dist-packages/ipykernel_launcher.py:4: RuntimeWarning: divide by zero encountered in log\n",
      "  after removing the cwd from sys.path.\n",
      "/usr/local/lib/python2.7/dist-packages/ipykernel_launcher.py:4: RuntimeWarning: invalid value encountered in log\n",
      "  after removing the cwd from sys.path.\n"
     ]
    },
    {
     "name": "stdout",
     "output_type": "stream",
     "text": [
      "                            OLS Regression Results                            \n",
      "==============================================================================\n",
      "Dep. Variable:     distance_travelled   R-squared:                       0.043\n",
      "Model:                            OLS   Adj. R-squared:                  0.029\n",
      "Method:                 Least Squares   F-statistic:                     3.156\n",
      "Date:                Tue, 11 May 2021   Prob (F-statistic):             0.0799\n",
      "Time:                        16:00:50   Log-Likelihood:                -84.909\n",
      "No. Observations:                  73   AIC:                             173.8\n",
      "Df Residuals:                      71   BIC:                             178.4\n",
      "Df Model:                           1                                         \n",
      "Covariance Type:            nonrobust                                         \n",
      "==========================================================================================\n",
      "                             coef    std err          t      P>|t|      [0.025      0.975]\n",
      "------------------------------------------------------------------------------------------\n",
      "Intercept                  6.0972      0.303     20.110      0.000       5.493       6.702\n",
      "time_of_first_approach     0.1402      0.079      1.777      0.080      -0.017       0.298\n",
      "==============================================================================\n",
      "Omnibus:                        3.712   Durbin-Watson:                   1.803\n",
      "Prob(Omnibus):                  0.156   Jarque-Bera (JB):                3.450\n",
      "Skew:                          -0.462   Prob(JB):                        0.178\n",
      "Kurtosis:                       2.471   Cond. No.                         13.5\n",
      "==============================================================================\n",
      "\n",
      "Warnings:\n",
      "[1] Standard Errors assume that the covariance matrix of the errors is correctly specified.\n"
     ]
    }
   ],
   "source": [
    "log_df = pandas.DataFrame()\n",
    "log_df['approached_odor'] = df.approached_odor.values\n",
    "log_df['distance_travelled'] = np.log(df.distance_travelled)\n",
    "log_df['time_of_first_approach'] = np.log(df.time_of_first_approach)\n",
    "\n",
    "log_df = log_df.query('approached_odor == 1')\n",
    "log_df.dropna(inplace=True)\n",
    "\n",
    "ax.scatter(log_df.time_of_first_approach.values, log_df.distance_travelled.values, c='black', s=3, linewidth=0.25,rasterized=True)\n",
    "\n",
    "\n",
    "# Rerun and OLS on just this input\n",
    "md = smf.ols('distance_travelled ~ time_of_first_approach', log_df)\n",
    "mdf2 = md.fit()\n",
    "print(mdf2.summary())"
   ]
  },
  {
   "cell_type": "code",
   "execution_count": 14,
   "metadata": {},
   "outputs": [
    {
     "data": {
      "image/png": "[encoded data removed]",
      "text/plain": [
       "<matplotlib.figure.Figure at 0x7fc77a640cd0>"
      ]
     },
     "metadata": {},
     "output_type": "display_data"
    },
    {
     "data": {
      "image/png": "[encoded data removed]",
      "text/plain": [
       "<matplotlib.figure.Figure at 0x7fc779a6a890>"
      ]
     },
     "metadata": {},
     "output_type": "display_data"
    },
    {
     "data": {
      "image/png": "[encoded data removed]",
      "text/plain": [
       "<matplotlib.figure.Figure at 0x7fc779cd3110>"
      ]
     },
     "metadata": {},
     "output_type": "display_data"
    },
    {
     "data": {
      "image/png": "[encoded data removed]",
      "text/plain": [
       "<matplotlib.figure.Figure at 0x7fc77499b0d0>"
      ]
     },
     "metadata": {},
     "output_type": "display_data"
    },
    {
     "data": {
      "image/png": "[encoded data removed]",
      "text/plain": [
       "<matplotlib.figure.Figure at 0x7fc779d2ad10>"
      ]
     },
     "metadata": {},
     "output_type": "display_data"
    },
    {
     "data": {
      "image/png": "[encoded data removed]",
      "text/plain": [
       "<matplotlib.figure.Figure at 0x7fc77840c910>"
      ]
     },
     "metadata": {},
     "output_type": "display_data"
    },
    {
     "data": {
      "image/png": "[encoded data removed]",
      "text/plain": [
       "<matplotlib.figure.Figure at 0x7fc7caa09dd0>"
      ]
     },
     "metadata": {},
     "output_type": "display_data"
    },
    {
     "data": {
      "image/png": "[encoded data removed]",
      "text/plain": [
       "<matplotlib.figure.Figure at 0x7fc774a67390>"
      ]
     },
     "metadata": {},
     "output_type": "display_data"
    },
    {
     "data": {
      "image/png": "[encoded data removed]",
      "text/plain": [
       "<matplotlib.figure.Figure at 0x7fc7ca9f26d0>"
      ]
     },
     "metadata": {},
     "output_type": "display_data"
    },
    {
     "data": {
      "image/png": "[encoded data removed]",
      "text/plain": [
       "<matplotlib.figure.Figure at 0x7fc77415cad0>"
      ]
     },
     "metadata": {},
     "output_type": "display_data"
    },
    {
     "data": {
      "image/png": "[encoded data removed]",
      "text/plain": [
       "<matplotlib.figure.Figure at 0x7fc7caaa5f10>"
      ]
     },
     "metadata": {},
     "output_type": "display_data"
    },
    {
     "data": {
      "image/png": "[encoded data removed]",
      "text/plain": [
       "<matplotlib.figure.Figure at 0x7fc7740d1b90>"
      ]
     },
     "metadata": {},
     "output_type": "display_data"
    },
    {
     "data": {
      "image/png": "[encoded data removed]",
      "text/plain": [
       "<matplotlib.figure.Figure at 0x7fc774a0fa10>"
      ]
     },
     "metadata": {},
     "output_type": "display_data"
    },
    {
     "data": {
      "image/png": "[encoded data removed]",
      "text/plain": [
       "<matplotlib.figure.Figure at 0x7fc7741ccd50>"
      ]
     },
     "metadata": {},
     "output_type": "display_data"
    },
    {
     "data": {
      "image/png": "[encoded data removed]",
      "text/plain": [
       "<matplotlib.figure.Figure at 0x7fc77926e910>"
      ]
     },
     "metadata": {},
     "output_type": "display_data"
    }
   ],
   "source": [
    "layout = fifi.svg_to_axes.FigureLayout(fififig, autogenlayers=True, \n",
    "                                       make_mplfigures=True, hide_layers=[])\n",
    "ax = layout.axes[('distance_v_time', 'distance_v_time')]\n",
    "\n",
    "\n",
    "\n",
    "ax.scatter(log_df.time_of_first_approach, #/log_df_approached.search_time, \n",
    "         log_df.distance_travelled, c='black', s=3, linewidth=0.25,rasterized=True)\n",
    "\n",
    "x = np.linspace(np.min(log_df.time_of_first_approach.values), np.max(log_df.time_of_first_approach.values), 100)\n",
    "y = mdf2.params['time_of_first_approach']*x + mdf2.params['Intercept']\n",
    "ax.plot(x, y, color='black')\n",
    "\n",
    "\n",
    "if 1:\n",
    "    # show the confidence interval around the slope and mean\n",
    "    conf95 = mdf2.conf_int(alpha=0.05, cols=None)\n",
    "    input_coeff_conf_lo = conf95[0]['time_of_first_approach']\n",
    "    input_coeff_conf_hi = conf95[1]['time_of_first_approach']\n",
    "    \n",
    "    intercept_conf_lo = conf95[0]['Intercept']\n",
    "    intercept_conf_hi = conf95[1]['Intercept']\n",
    "    \n",
    "    y_hi_hi = input_coeff_conf_hi*x + intercept_conf_hi\n",
    "    y_hi_lo = input_coeff_conf_hi*x + intercept_conf_lo\n",
    "    y_lo_hi = input_coeff_conf_lo*x + intercept_conf_hi\n",
    "    y_lo_lo = input_coeff_conf_lo*x + intercept_conf_lo\n",
    "    \n",
    "    y = np.vstack([y_hi_hi, y_hi_lo, y_lo_hi, y_lo_lo])\n",
    "    y = np.sort(y, axis=0)\n",
    "    \n",
    "    ax.fill_between(x, y[0,:], y[-1,:], facecolor='gray', edgecolor='none', alpha=0.3)\n",
    "    \n",
    "    \n",
    "    \n",
    "yticks = [10**1, 10**2, 10**3, 10**4]\n",
    "yticklabels = ['$10^1$', '$10^2$', '$10^3$', '$10^4$']\n",
    "\n",
    "xticks = [10**0, 10**1, 10**2, 10**3]\n",
    "xticklabels = ['$10^0$', '$10^1$', '$10^2$', '$10^3$']\n",
    "\n",
    "fifi.mpl_functions.adjust_spines(ax, ['left', 'bottom'], \n",
    "                                 yticks=np.log(yticks), \n",
    "                                 xticks=np.log(xticks),\n",
    "                                 linewidth=0.5, tick_length=2.5, \n",
    "                                 spine_locations={'left': 2.5, 'bottom': 2.5})\n",
    "ax.set_yticklabels(yticklabels)\n",
    "ax.set_xticklabels(xticklabels)\n",
    "ax.minorticks_off()\n",
    "\n",
    "fifi.mpl_functions.set_fontsize(ax.figure, 6)\n",
    "layout.append_figure_to_layer(layout.figures['distance_v_time'], 'distance_v_time', cleartarget=True)\n",
    "layout.write_svg(fififig)"
   ]
  },
  {
   "cell_type": "code",
   "execution_count": null,
   "metadata": {},
   "outputs": [],
   "source": []
  },
  {
   "cell_type": "markdown",
   "metadata": {},
   "source": [
    "### Much more likely to approach if landing on the center platform!\n",
    "\n",
    "Perhaps because they are likely flying in the plume, and then landing?"
   ]
  },
  {
   "cell_type": "code",
   "execution_count": 15,
   "metadata": {},
   "outputs": [],
   "source": [
    "log_df = copy.copy(df)\n",
    "log_df['log_distance_travelled'] = np.log(df.distance_travelled)\n",
    "log_df['log_interval'] = np.log(df.interval)"
   ]
  },
  {
   "cell_type": "code",
   "execution_count": 16,
   "metadata": {},
   "outputs": [],
   "source": [
    "log_df['approached_odor_binary'] = (log_df.approached_odor+1)/2."
   ]
  },
  {
   "cell_type": "code",
   "execution_count": 17,
   "metadata": {},
   "outputs": [
    {
     "data": {
      "text/plain": [
       "<matplotlib.text.Text at 0x7fc779b92c50>"
      ]
     },
     "execution_count": 17,
     "metadata": {},
     "output_type": "execute_result"
    },
    {
     "data": {
      "image/png": "[encoded data removed]",
      "text/plain": [
       "<matplotlib.figure.Figure at 0x7fc77a640f10>"
      ]
     },
     "metadata": {},
     "output_type": "display_data"
    }
   ],
   "source": [
    "fig = plt.figure()\n",
    "ax = fig.add_subplot(111)\n",
    "\n",
    "fpl.scatter_box(ax, 1, log_df.query(\"camera=='left_camera'\").approached_odor_binary.dropna().values, \n",
    "                color='black', markersize=5, use='mean', hide_markers=True)\n",
    "\n",
    "fpl.scatter_box(ax, 3, log_df.query(\"camera=='right_camera'\").approached_odor_binary.dropna().values, \n",
    "                color='black', markersize=5, use='mean', hide_markers=True)\n",
    "\n",
    "fpl.scatter_box(ax, 2, log_df.query(\"camera=='center_camera'\").approached_odor_binary.dropna().values, \n",
    "                color='black', markersize=5, use='mean', hide_markers=True)\n",
    "\n",
    "fifi.mpl_functions.adjust_spines(ax, ['left', 'bottom'], \n",
    "                                 xticks=[1, 2, 3],\n",
    "                                 linewidth=0.5, tick_length=2.5, \n",
    "                                 spine_locations={'left': 2.5, 'bottom': 2.5})\n",
    "\n",
    "ax.set_xticklabels(['left', 'right', 'middle'])\n",
    "\n",
    "ax.set_ylabel('approached')"
   ]
  },
  {
   "cell_type": "code",
   "execution_count": 18,
   "metadata": {},
   "outputs": [
    {
     "data": {
      "text/plain": [
       "(0.0, 0.663, 0.0)"
      ]
     },
     "execution_count": 18,
     "metadata": {},
     "output_type": "execute_result"
    }
   ],
   "source": [
    "flystat.resampling.calc_statistical_significance_through_resampling(\\\n",
    "                log_df.query(\"camera=='left_camera'\").approached_odor_binary.dropna().values,\n",
    "                log_df.query(\"camera=='center_camera'\").approached_odor_binary.dropna().values)"
   ]
  },
  {
   "cell_type": "markdown",
   "metadata": {},
   "source": [
    "### FIFI"
   ]
  },
  {
   "cell_type": "code",
   "execution_count": 19,
   "metadata": {
    "scrolled": true
   },
   "outputs": [
    {
     "data": {
      "image/png": "[encoded data removed]",
      "text/plain": [
       "<matplotlib.figure.Figure at 0x7fc7cac09910>"
      ]
     },
     "metadata": {},
     "output_type": "display_data"
    },
    {
     "data": {
      "image/png": "[encoded data removed]",
      "text/plain": [
       "<matplotlib.figure.Figure at 0x7fc777ffbf90>"
      ]
     },
     "metadata": {},
     "output_type": "display_data"
    },
    {
     "data": {
      "image/png": "[encoded data removed]",
      "text/plain": [
       "<matplotlib.figure.Figure at 0x7fc77a5e2a50>"
      ]
     },
     "metadata": {},
     "output_type": "display_data"
    },
    {
     "data": {
      "image/png": "[encoded data removed]",
      "text/plain": [
       "<matplotlib.figure.Figure at 0x7fc777e35890>"
      ]
     },
     "metadata": {},
     "output_type": "display_data"
    },
    {
     "data": {
      "image/png": "[encoded data removed]",
      "text/plain": [
       "<matplotlib.figure.Figure at 0x7fc778391ad0>"
      ]
     },
     "metadata": {},
     "output_type": "display_data"
    },
    {
     "data": {
      "image/png": "[encoded data removed]",
      "text/plain": [
       "<matplotlib.figure.Figure at 0x7fc77924b3d0>"
      ]
     },
     "metadata": {},
     "output_type": "display_data"
    },
    {
     "data": {
      "image/png": "[encoded data removed]",
      "text/plain": [
       "<matplotlib.figure.Figure at 0x7fc777d53390>"
      ]
     },
     "metadata": {},
     "output_type": "display_data"
    },
    {
     "data": {
      "image/png": "[encoded data removed]",
      "text/plain": [
       "<matplotlib.figure.Figure at 0x7fc778228990>"
      ]
     },
     "metadata": {},
     "output_type": "display_data"
    },
    {
     "data": {
      "image/png": "[encoded data removed]",
      "text/plain": [
       "<matplotlib.figure.Figure at 0x7fc7783fca90>"
      ]
     },
     "metadata": {},
     "output_type": "display_data"
    },
    {
     "data": {
      "image/png": "[encoded data removed]",
      "text/plain": [
       "<matplotlib.figure.Figure at 0x7fc77a5cfbd0>"
      ]
     },
     "metadata": {},
     "output_type": "display_data"
    },
    {
     "data": {
      "image/png": "[encoded data removed]",
      "text/plain": [
       "<matplotlib.figure.Figure at 0x7fc777eea350>"
      ]
     },
     "metadata": {},
     "output_type": "display_data"
    },
    {
     "data": {
      "image/png": "[encoded data removed]",
      "text/plain": [
       "<matplotlib.figure.Figure at 0x7fc778301c50>"
      ]
     },
     "metadata": {},
     "output_type": "display_data"
    },
    {
     "data": {
      "image/png": "[encoded data removed]",
      "text/plain": [
       "<matplotlib.figure.Figure at 0x7fc77917bf50>"
      ]
     },
     "metadata": {},
     "output_type": "display_data"
    },
    {
     "data": {
      "image/png": "[encoded data removed]",
      "text/plain": [
       "<matplotlib.figure.Figure at 0x7fc777f83f10>"
      ]
     },
     "metadata": {},
     "output_type": "display_data"
    },
    {
     "data": {
      "image/png": "[encoded data removed]",
      "text/plain": [
       "<matplotlib.figure.Figure at 0x7fc7cabd0350>"
      ]
     },
     "metadata": {},
     "output_type": "display_data"
    }
   ],
   "source": [
    "layout = fifi.svg_to_axes.FigureLayout(fififig, autogenlayers=True, \n",
    "                                       make_mplfigures=True, hide_layers=[])\n",
    "ax = layout.axes[('approaches_v_patch', 'approaches_v_patch')]\n",
    "\n",
    "fpl.scatter_box(ax, 1, log_df.query(\"camera=='left_camera'\").approached_odor_binary.dropna().values, \n",
    "                color='black', markersize=5, use='mean', hide_markers=True)\n",
    "\n",
    "fpl.scatter_box(ax, 3, log_df.query(\"camera=='right_camera'\").approached_odor_binary.dropna().values, \n",
    "                color='black', markersize=5, use='mean', hide_markers=True)\n",
    "\n",
    "fpl.scatter_box(ax, 2, log_df.query(\"camera=='center_camera'\").approached_odor_binary.dropna().values, \n",
    "                color='black', markersize=5, use='mean', hide_markers=True)\n",
    "\n",
    "#ax.set_yscale('log')\n",
    "#ax.set_xscale('log')\n",
    "\n",
    "#ax.set_ylim(2.2,9.22)\n",
    "#ax.set_xlim(0, 7)\n",
    "ax.set_xlim(0.5, 3.5)\n",
    "ax.set_ylim(0, 1)\n",
    "yticks = [0, 1]\n",
    "yticklabels = ['$0$', '$1$']\n",
    "\n",
    "xticks = [1, 2, 3]\n",
    "xticklabels = ['', '', '']\n",
    "\n",
    "\n",
    "fifi.mpl_functions.adjust_spines(ax, ['left', 'bottom'], \n",
    "                                 yticks=yticks, \n",
    "                                 xticks=xticks,\n",
    "                                 linewidth=0.5, tick_length=2.5, \n",
    "                                 spine_locations={'left': 2.5, 'bottom': 2.5})\n",
    "ax.set_yticklabels(yticklabels)\n",
    "ax.set_xticklabels(xticklabels)\n",
    "ax.minorticks_off()\n",
    "\n",
    "fifi.mpl_functions.set_fontsize(ax.figure, 6)\n",
    "layout.append_figure_to_layer(layout.figures['approaches_v_patch'], 'approaches_v_patch', cleartarget=True)\n",
    "layout.write_svg(fififig)"
   ]
  },
  {
   "cell_type": "markdown",
   "metadata": {},
   "source": [
    "### Interval for each platform"
   ]
  },
  {
   "cell_type": "code",
   "execution_count": 20,
   "metadata": {},
   "outputs": [
    {
     "data": {
      "image/png": "[encoded data removed]",
      "text/plain": [
       "<matplotlib.figure.Figure at 0x7fc777d9b690>"
      ]
     },
     "metadata": {},
     "output_type": "display_data"
    }
   ],
   "source": [
    "fig = plt.figure()\n",
    "ax = fig.add_subplot(111)\n",
    "\n",
    "fpl.scatter_box(ax, 1, log_df.query(\"camera=='left_camera'\").interval.dropna().values, \n",
    "                color='black', markersize=5, use='median', hide_markers=False)\n",
    "\n",
    "fpl.scatter_box(ax, 3, log_df.query(\"camera=='right_camera'\").interval.dropna().values, \n",
    "                color='black', markersize=5, use='median', hide_markers=False)\n",
    "\n",
    "fpl.scatter_box(ax, 2, log_df.query(\"camera=='center_camera'\").interval.dropna().values, \n",
    "                color='black', markersize=5, use='median', hide_markers=False)\n",
    "\n",
    "\n",
    "\n",
    "ax.set_xticklabels(['left', 'middle', 'right'])\n",
    "\n",
    "ax.set_ylabel('interval')\n",
    "\n",
    "ax.set_yscale('log')\n",
    "\n",
    "fifi.mpl_functions.adjust_spines(ax, ['left', 'bottom'], \n",
    "                                 xticks=[1, 2, 3],\n",
    "                                 yticks=[10**2, 10**3, 10**4],\n",
    "                                 linewidth=0.5, tick_length=2.5, \n",
    "                                 spine_locations={'left': 2.5, 'bottom': 2.5})"
   ]
  },
  {
   "cell_type": "code",
   "execution_count": 21,
   "metadata": {},
   "outputs": [
    {
     "data": {
      "text/plain": [
       "(0.46799999999999997, 0.022, 0.03)"
      ]
     },
     "execution_count": 21,
     "metadata": {},
     "output_type": "execute_result"
    }
   ],
   "source": [
    "flystat.resampling.calc_statistical_significance_through_resampling(\\\n",
    "                log_df.query(\"camera=='right_camera'\").log_interval.dropna().values,\n",
    "                log_df.query(\"camera=='center_camera'\").log_interval.dropna().values)"
   ]
  },
  {
   "cell_type": "code",
   "execution_count": 22,
   "metadata": {},
   "outputs": [
    {
     "data": {
      "text/plain": [
       "(0.382, 0.058, 0.025)"
      ]
     },
     "execution_count": 22,
     "metadata": {},
     "output_type": "execute_result"
    }
   ],
   "source": [
    "flystat.resampling.calc_statistical_significance_through_resampling(\\\n",
    "                log_df.query(\"camera=='right_camera'\").interval.dropna().values,\n",
    "                log_df.query(\"camera=='center_camera'\").interval.dropna().values)"
   ]
  },
  {
   "cell_type": "markdown",
   "metadata": {},
   "source": [
    "#### Interval is no different. This is just another way of seeing that the interval and approaches are in fact independent\n",
    "\n",
    "This suggests that the explanation is not that flies land on the downwind platform. "
   ]
  },
  {
   "cell_type": "code",
   "execution_count": 23,
   "metadata": {},
   "outputs": [
    {
     "data": {
      "image/png": "[encoded data removed]",
      "text/plain": [
       "<matplotlib.figure.Figure at 0x7fc7c2e1fa50>"
      ]
     },
     "metadata": {},
     "output_type": "display_data"
    },
    {
     "data": {
      "image/png": "[encoded data removed]",
      "text/plain": [
       "<matplotlib.figure.Figure at 0x7fc777d9b9d0>"
      ]
     },
     "metadata": {},
     "output_type": "display_data"
    },
    {
     "data": {
      "image/png": "[encoded data removed]",
      "text/plain": [
       "<matplotlib.figure.Figure at 0x7fc7c337a7d0>"
      ]
     },
     "metadata": {},
     "output_type": "display_data"
    },
    {
     "data": {
      "image/png": "[encoded data removed]",
      "text/plain": [
       "<matplotlib.figure.Figure at 0x7fc7caa7dc90>"
      ]
     },
     "metadata": {},
     "output_type": "display_data"
    },
    {
     "data": {
      "image/png": "[encoded data removed]",
      "text/plain": [
       "<matplotlib.figure.Figure at 0x7fc7ca5f4a10>"
      ]
     },
     "metadata": {},
     "output_type": "display_data"
    },
    {
     "data": {
      "image/png": "[encoded data removed]",
      "text/plain": [
       "<matplotlib.figure.Figure at 0x7fc7cae66f50>"
      ]
     },
     "metadata": {},
     "output_type": "display_data"
    },
    {
     "data": {
      "image/png": "[encoded data removed]",
      "text/plain": [
       "<matplotlib.figure.Figure at 0x7fc7784c5c90>"
      ]
     },
     "metadata": {},
     "output_type": "display_data"
    },
    {
     "data": {
      "image/png": "[encoded data removed]",
      "text/plain": [
       "<matplotlib.figure.Figure at 0x7fc77a62e290>"
      ]
     },
     "metadata": {},
     "output_type": "display_data"
    },
    {
     "data": {
      "image/png": "[encoded data removed]",
      "text/plain": [
       "<matplotlib.figure.Figure at 0x7fc779afef90>"
      ]
     },
     "metadata": {},
     "output_type": "display_data"
    },
    {
     "data": {
      "image/png": "[encoded data removed]",
      "text/plain": [
       "<matplotlib.figure.Figure at 0x7fc779ce6750>"
      ]
     },
     "metadata": {},
     "output_type": "display_data"
    },
    {
     "data": {
      "image/png": "[encoded data removed]",
      "text/plain": [
       "<matplotlib.figure.Figure at 0x7fc7780bd850>"
      ]
     },
     "metadata": {},
     "output_type": "display_data"
    },
    {
     "data": {
      "image/png": "[encoded data removed]",
      "text/plain": [
       "<matplotlib.figure.Figure at 0x7fc77a6f5a10>"
      ]
     },
     "metadata": {},
     "output_type": "display_data"
    },
    {
     "data": {
      "image/png": "[encoded data removed]",
      "text/plain": [
       "<matplotlib.figure.Figure at 0x7fc774a0ab10>"
      ]
     },
     "metadata": {},
     "output_type": "display_data"
    },
    {
     "data": {
      "image/png": "[encoded data removed]",
      "text/plain": [
       "<matplotlib.figure.Figure at 0x7fc774150190>"
      ]
     },
     "metadata": {},
     "output_type": "display_data"
    },
    {
     "data": {
      "image/png": "[encoded data removed]",
      "text/plain": [
       "<matplotlib.figure.Figure at 0x7fc7caa9d7d0>"
      ]
     },
     "metadata": {},
     "output_type": "display_data"
    }
   ],
   "source": [
    "layout = fifi.svg_to_axes.FigureLayout(fififig, autogenlayers=True, \n",
    "                                       make_mplfigures=True, hide_layers=[])\n",
    "ax = layout.axes[('interval_v_patch', 'interval_v_patch')]\n",
    "\n",
    "fpl.scatter_box(ax, 1, log_df.query(\"camera=='left_camera'\").interval.dropna().values, \n",
    "                color='black', markersize=1, use='median', hide_markers=False)\n",
    "\n",
    "fpl.scatter_box(ax, 3, log_df.query(\"camera=='right_camera'\").interval.dropna().values, \n",
    "                color='black', markersize=1, use='median', hide_markers=False)\n",
    "\n",
    "fpl.scatter_box(ax, 2, log_df.query(\"camera=='center_camera'\").interval.dropna().values, \n",
    "                color='black', markersize=1, use='median', hide_markers=False)\n",
    "\n",
    "#ax.set_yscale('log')\n",
    "#ax.set_xscale('log')\n",
    "\n",
    "#ax.set_ylim(2.2,9.22)\n",
    "#ax.set_xlim(0, 7)\n",
    "ax.set_xlim(0.5, 3.5)\n",
    "ax.set_ylim(10**-1, 10**5)\n",
    "\n",
    "xticks = [1, 2, 3]\n",
    "xticklabels = ['', '', '']\n",
    "\n",
    "\n",
    "ax.set_yscale('log')\n",
    "\n",
    "#ax.set_ylim(2.2,9.22)\n",
    "#ax.set_xlim(0, 7)\n",
    "\n",
    "yticks = [10**-1, 1, 10**1, 10**2, 10**3, 10**4, 10**5]\n",
    "yticklabels = ['$10^{-1}$', '$10^0$', '$10^1$', '$10^2$', '$10^3$', '$10^4$', '$10^5$']\n",
    "\n",
    "\n",
    "fifi.mpl_functions.adjust_spines(ax, ['left', 'bottom'], \n",
    "                                 yticks=yticks, \n",
    "                                 xticks=xticks,\n",
    "                                 linewidth=0.5, tick_length=2.5, \n",
    "                                 spine_locations={'left': 2.5, 'bottom': 2.5})\n",
    "ax.set_xticklabels(xticklabels)\n",
    "ax.set_yticklabels(yticklabels)\n",
    "ax.minorticks_off()\n",
    "\n",
    "fifi.mpl_functions.set_fontsize(ax.figure, 6)\n",
    "layout.append_figure_to_layer(layout.figures['interval_v_patch'], 'interval_v_patch', cleartarget=True)\n",
    "layout.write_svg(fififig)\n"
   ]
  },
  {
   "cell_type": "markdown",
   "metadata": {},
   "source": [
    "## Digging into the approach vs no approach more\n",
    "\n",
    "Why are flies that land on center platform more likely to approach? \n",
    "\n",
    "Perhaps it has to do with where on the platform they land. \n",
    "\n",
    "All the flies land on downwind end. "
   ]
  },
  {
   "cell_type": "code",
   "execution_count": 24,
   "metadata": {},
   "outputs": [],
   "source": [
    "left_camera = {'x': 335, 'y': 263, 'r': 229}\n",
    "right_camera = {'x':385, 'y':248, 'r': 232}\n",
    "center_camera = {'x': 356, 'y':259, 'r':191}"
   ]
  },
  {
   "cell_type": "code",
   "execution_count": 25,
   "metadata": {},
   "outputs": [],
   "source": [
    "angles_of_landing = []\n",
    "approach_stats = []\n",
    "distances_travelled = []\n",
    "speeds = []"
   ]
  },
  {
   "cell_type": "code",
   "execution_count": 26,
   "metadata": {},
   "outputs": [],
   "source": [
    "log_df['angle_of_landing'] = 0"
   ]
  },
  {
   "cell_type": "code",
   "execution_count": 27,
   "metadata": {},
   "outputs": [
    {
     "name": "stderr",
     "output_type": "stream",
     "text": [
      "/usr/local/lib/python2.7/dist-packages/ipykernel_launcher.py:22: SettingWithCopyWarning: \n",
      "A value is trying to be set on a copy of a slice from a DataFrame\n",
      "\n",
      "See the caveats in the documentation: http://pandas.pydata.org/pandas-docs/stable/indexing.html#indexing-view-versus-copy\n"
     ]
    },
    {
     "name": "stdout",
     "output_type": "stream",
     "text": [
      "0.472222222222\n"
     ]
    },
    {
     "data": {
      "image/png": "[encoded data removed]",
      "text/plain": [
       "<matplotlib.figure.Figure at 0x7fc7c9acd610>"
      ]
     },
     "metadata": {},
     "output_type": "display_data"
    },
    {
     "data": {
      "image/png": "[encoded data removed]",
      "text/plain": [
       "<matplotlib.figure.Figure at 0x7fc779bc0850>"
      ]
     },
     "metadata": {},
     "output_type": "display_data"
    },
    {
     "data": {
      "image/png": "[encoded data removed]",
      "text/plain": [
       "<matplotlib.figure.Figure at 0x7fc779c9a610>"
      ]
     },
     "metadata": {},
     "output_type": "display_data"
    },
    {
     "data": {
      "image/png": "[encoded data removed]",
      "text/plain": [
       "<matplotlib.figure.Figure at 0x7fc77840c250>"
      ]
     },
     "metadata": {},
     "output_type": "display_data"
    },
    {
     "data": {
      "image/png": "[encoded data removed]",
      "text/plain": [
       "<matplotlib.figure.Figure at 0x7fc7c34b4bd0>"
      ]
     },
     "metadata": {},
     "output_type": "display_data"
    },
    {
     "data": {
      "image/png": "[encoded data removed]",
      "text/plain": [
       "<matplotlib.figure.Figure at 0x7fc778088690>"
      ]
     },
     "metadata": {},
     "output_type": "display_data"
    },
    {
     "data": {
      "image/png": "[encoded data removed]",
      "text/plain": [
       "<matplotlib.figure.Figure at 0x7fc7c20893d0>"
      ]
     },
     "metadata": {},
     "output_type": "display_data"
    },
    {
     "data": {
      "image/png": "[encoded data removed]",
      "text/plain": [
       "<matplotlib.figure.Figure at 0x7fc777eafd50>"
      ]
     },
     "metadata": {},
     "output_type": "display_data"
    },
    {
     "data": {
      "image/png": "[encoded data removed]",
      "text/plain": [
       "<matplotlib.figure.Figure at 0x7fc77849fe10>"
      ]
     },
     "metadata": {},
     "output_type": "display_data"
    },
    {
     "data": {
      "image/png": "[encoded data removed]",
      "text/plain": [
       "<matplotlib.figure.Figure at 0x7fc7780bd450>"
      ]
     },
     "metadata": {},
     "output_type": "display_data"
    },
    {
     "data": {
      "image/png": "[encoded data removed]",
      "text/plain": [
       "<matplotlib.figure.Figure at 0x7fc77a908cd0>"
      ]
     },
     "metadata": {},
     "output_type": "display_data"
    },
    {
     "data": {
      "image/png": "[encoded data removed]",
      "text/plain": [
       "<matplotlib.figure.Figure at 0x7fc7785b5250>"
      ]
     },
     "metadata": {},
     "output_type": "display_data"
    },
    {
     "data": {
      "image/png": "[encoded data removed]",
      "text/plain": [
       "<matplotlib.figure.Figure at 0x7fc77829ac10>"
      ]
     },
     "metadata": {},
     "output_type": "display_data"
    },
    {
     "data": {
      "image/png": "[encoded data removed]",
      "text/plain": [
       "<matplotlib.figure.Figure at 0x7fc779289210>"
      ]
     },
     "metadata": {},
     "output_type": "display_data"
    },
    {
     "data": {
      "image/png": "[encoded data removed]",
      "text/plain": [
       "<matplotlib.figure.Figure at 0x7fc7c206b350>"
      ]
     },
     "metadata": {},
     "output_type": "display_data"
    }
   ],
   "source": [
    "#fig = plt.figure()\n",
    "#ax = fig.add_subplot(111)\n",
    "layout = fifi.svg_to_axes.FigureLayout(fififig, autogenlayers=True, \n",
    "                                       make_mplfigures=True, hide_layers=[])\n",
    "ax = layout.axes[('landings_right', 'landings_right')]\n",
    "\n",
    "upwind = 0\n",
    "downwind = 0\n",
    "for i in range(len(df)):\n",
    "    try:\n",
    "        if df['camera'][i] == 'right_camera':\n",
    "            data = pandas.read_hdf('data/' + df['all_trajec_ids'][i])\n",
    "            ax.scatter(data.pos_x_mm[0], -1*data.pos_y_mm[0], c=df['approached_odor'][i], \n",
    "                       cmap='bone_r', vmin=-1, vmax=1, s=5, linewidth=0.25)\n",
    "            \n",
    "            \n",
    "            angle_from_downwind = np.abs( np.arctan2(data.pos_y_mm[0], np.abs(data.pos_x_mm[0]) )*180/np.pi - 90 )\n",
    "            angles_of_landing.append(angle_from_downwind)\n",
    "            approach_stats.append(df['approached_odor'][i])\n",
    "            distances_travelled.append(df['distance_travelled'][i])\n",
    "            speeds.append(df['speed'][i])\n",
    "            log_df.angle_of_landing[i] = angle_from_downwind\n",
    "            if angle_from_downwind > 45:\n",
    "                upwind += 1\n",
    "            else:\n",
    "                downwind += 1\n",
    "                \n",
    "    except:\n",
    "        pass\n",
    "    \n",
    "print( (downwind)/float(downwind+upwind) )\n",
    "\n",
    "ax.set_aspect('equal')\n",
    "ax.set_xlim(-60, 60)\n",
    "ax.set_ylim(-60,60)\n",
    "fifi.mpl_functions.adjust_spines(ax, [])\n",
    "\n",
    "\n",
    "circle = patches.Circle([0, 0], radius=108/2.,\n",
    "                       facecolor='gray', edgecolor='none', alpha=0.3, zorder=-10)\n",
    "ax.add_artist(circle)\n",
    "circle = patches.Circle([0, 0], radius=0.4*108/2.,\n",
    "                       facecolor='white', edgecolor='none', alpha=1, zorder=-9)\n",
    "ax.add_artist(circle)\n",
    "circle = patches.Circle([0, 0], radius=0.4*108/2.,\n",
    "                       facecolor='red', edgecolor='none', alpha=0.3, zorder=-8)\n",
    "ax.add_artist(circle)\n",
    "\n",
    "\n",
    "\n",
    "layout.append_figure_to_layer(layout.figures['landings_right'], 'landings_right', cleartarget=True)\n",
    "layout.write_svg(fififig)"
   ]
  },
  {
   "cell_type": "code",
   "execution_count": null,
   "metadata": {},
   "outputs": [],
   "source": []
  },
  {
   "cell_type": "code",
   "execution_count": 28,
   "metadata": {},
   "outputs": [
    {
     "name": "stderr",
     "output_type": "stream",
     "text": [
      "/usr/local/lib/python2.7/dist-packages/ipykernel_launcher.py:23: SettingWithCopyWarning: \n",
      "A value is trying to be set on a copy of a slice from a DataFrame\n",
      "\n",
      "See the caveats in the documentation: http://pandas.pydata.org/pandas-docs/stable/indexing.html#indexing-view-versus-copy\n"
     ]
    },
    {
     "name": "stdout",
     "output_type": "stream",
     "text": [
      "0.530612244898\n"
     ]
    },
    {
     "data": {
      "image/png": "[encoded data removed]",
      "text/plain": [
       "<matplotlib.figure.Figure at 0x7fc7ca4ed490>"
      ]
     },
     "metadata": {},
     "output_type": "display_data"
    },
    {
     "data": {
      "image/png": "[encoded data removed]",
      "text/plain": [
       "<matplotlib.figure.Figure at 0x7fc77993db50>"
      ]
     },
     "metadata": {},
     "output_type": "display_data"
    },
    {
     "data": {
      "image/png": "[encoded data removed]",
      "text/plain": [
       "<matplotlib.figure.Figure at 0x7fc7792adc50>"
      ]
     },
     "metadata": {},
     "output_type": "display_data"
    },
    {
     "data": {
      "image/png": "[encoded data removed]",
      "text/plain": [
       "<matplotlib.figure.Figure at 0x7fc778358ed0>"
      ]
     },
     "metadata": {},
     "output_type": "display_data"
    },
    {
     "data": {
      "image/png": "[encoded data removed]",
      "text/plain": [
       "<matplotlib.figure.Figure at 0x7fc7ce7a02d0>"
      ]
     },
     "metadata": {},
     "output_type": "display_data"
    },
    {
     "data": {
      "image/png": "[encoded data removed]",
      "text/plain": [
       "<matplotlib.figure.Figure at 0x7fc7cabea290>"
      ]
     },
     "metadata": {},
     "output_type": "display_data"
    },
    {
     "data": {
      "image/png": "[encoded data removed]",
      "text/plain": [
       "<matplotlib.figure.Figure at 0x7fc7c35a5d90>"
      ]
     },
     "metadata": {},
     "output_type": "display_data"
    },
    {
     "data": {
      "image/png": "[encoded data removed]",
      "text/plain": [
       "<matplotlib.figure.Figure at 0x7fc7c3530190>"
      ]
     },
     "metadata": {},
     "output_type": "display_data"
    },
    {
     "data": {
      "image/png": "[encoded data removed]",
      "text/plain": [
       "<matplotlib.figure.Figure at 0x7fc779d38c50>"
      ]
     },
     "metadata": {},
     "output_type": "display_data"
    },
    {
     "data": {
      "image/png": "[encoded data removed]",
      "text/plain": [
       "<matplotlib.figure.Figure at 0x7fc7c344ef50>"
      ]
     },
     "metadata": {},
     "output_type": "display_data"
    },
    {
     "data": {
      "image/png": "[encoded data removed]",
      "text/plain": [
       "<matplotlib.figure.Figure at 0x7fc779a6a190>"
      ]
     },
     "metadata": {},
     "output_type": "display_data"
    },
    {
     "data": {
      "image/png": "[encoded data removed]",
      "text/plain": [
       "<matplotlib.figure.Figure at 0x7fc7bda6d690>"
      ]
     },
     "metadata": {},
     "output_type": "display_data"
    },
    {
     "data": {
      "image/png": "[encoded data removed]",
      "text/plain": [
       "<matplotlib.figure.Figure at 0x7fc7c2baed50>"
      ]
     },
     "metadata": {},
     "output_type": "display_data"
    },
    {
     "data": {
      "image/png": "[encoded data removed]",
      "text/plain": [
       "<matplotlib.figure.Figure at 0x7fc7c9991210>"
      ]
     },
     "metadata": {},
     "output_type": "display_data"
    },
    {
     "data": {
      "image/png": "[encoded data removed]",
      "text/plain": [
       "<matplotlib.figure.Figure at 0x7fc7c229b190>"
      ]
     },
     "metadata": {},
     "output_type": "display_data"
    }
   ],
   "source": [
    "#fig = plt.figure()\n",
    "#ax = fig.add_subplot(111)\n",
    "layout = fifi.svg_to_axes.FigureLayout(fififig, autogenlayers=True, \n",
    "                                       make_mplfigures=True, hide_layers=[])\n",
    "ax = layout.axes[('landings_left', 'landings_left')]\n",
    "\n",
    "\n",
    "upwind = 0\n",
    "downwind = 0\n",
    "for i in range(len(df)):\n",
    "    try:\n",
    "        if df['camera'][i] == 'left_camera':\n",
    "            data = pandas.read_hdf('data/' + df['all_trajec_ids'][i])\n",
    "            ax.scatter(data.pos_x_mm[0], -1*data.pos_y_mm[0], c=df['approached_odor'][i], \n",
    "                       cmap='bone_r', vmin=-1, vmax=1, s=5, linewidth=0.25)\n",
    "            \n",
    "            \n",
    "            angle_from_downwind = np.abs( np.arctan2(data.pos_y_mm[0], np.abs(data.pos_x_mm[0]) )*180/np.pi - 90 )\n",
    "            angles_of_landing.append(angle_from_downwind)\n",
    "            approach_stats.append(df['approached_odor'][i])\n",
    "            distances_travelled.append(df['distance_travelled'][i])\n",
    "            speeds.append(df['speed'][i])\n",
    "            log_df.angle_of_landing[i] = angle_from_downwind\n",
    "            if angle_from_downwind > 45:\n",
    "                upwind += 1\n",
    "            else:\n",
    "                downwind += 1\n",
    "                \n",
    "    except:\n",
    "        pass\n",
    "    \n",
    "print( (downwind)/float(downwind+upwind) )\n",
    "\n",
    "ax.set_aspect('equal')\n",
    "ax.set_xlim(-60, 60)\n",
    "ax.set_ylim(-60,60)\n",
    "fifi.mpl_functions.adjust_spines(ax, [])\n",
    "\n",
    "circle = patches.Circle([0, 0], radius=108/2.,\n",
    "                       facecolor='gray', edgecolor='none', alpha=0.3, zorder=-10)\n",
    "ax.add_artist(circle)\n",
    "circle = patches.Circle([0, 0], radius=0.4*108/2.,\n",
    "                       facecolor='white', edgecolor='none', alpha=1, zorder=-9)\n",
    "ax.add_artist(circle)\n",
    "circle = patches.Circle([0, 0], radius=0.4*108/2.,\n",
    "                       facecolor='red', edgecolor='none', alpha=0.3, zorder=-8)\n",
    "ax.add_artist(circle)\n",
    "\n",
    "layout.append_figure_to_layer(layout.figures['landings_left'], 'landings_left', cleartarget=True)\n",
    "layout.write_svg(fififig)"
   ]
  },
  {
   "cell_type": "code",
   "execution_count": 29,
   "metadata": {},
   "outputs": [
    {
     "name": "stderr",
     "output_type": "stream",
     "text": [
      "/usr/local/lib/python2.7/dist-packages/ipykernel_launcher.py:23: SettingWithCopyWarning: \n",
      "A value is trying to be set on a copy of a slice from a DataFrame\n",
      "\n",
      "See the caveats in the documentation: http://pandas.pydata.org/pandas-docs/stable/indexing.html#indexing-view-versus-copy\n"
     ]
    },
    {
     "name": "stdout",
     "output_type": "stream",
     "text": [
      "0.732142857143\n"
     ]
    },
    {
     "data": {
      "image/png": "[encoded data removed]",
      "text/plain": [
       "<matplotlib.figure.Figure at 0x7fc7c9983810>"
      ]
     },
     "metadata": {},
     "output_type": "display_data"
    },
    {
     "data": {
      "image/png": "[encoded data removed]",
      "text/plain": [
       "<matplotlib.figure.Figure at 0x7fc77b965610>"
      ]
     },
     "metadata": {},
     "output_type": "display_data"
    },
    {
     "data": {
      "image/png": "[encoded data removed]",
      "text/plain": [
       "<matplotlib.figure.Figure at 0x7fc7c344e450>"
      ]
     },
     "metadata": {},
     "output_type": "display_data"
    },
    {
     "data": {
      "image/png": "[encoded data removed]",
      "text/plain": [
       "<matplotlib.figure.Figure at 0x7fc774ca7bd0>"
      ]
     },
     "metadata": {},
     "output_type": "display_data"
    },
    {
     "data": {
      "image/png": "[encoded data removed]",
      "text/plain": [
       "<matplotlib.figure.Figure at 0x7fc7bdd20910>"
      ]
     },
     "metadata": {},
     "output_type": "display_data"
    },
    {
     "data": {
      "image/png": "[encoded data removed]",
      "text/plain": [
       "<matplotlib.figure.Figure at 0x7fc778373710>"
      ]
     },
     "metadata": {},
     "output_type": "display_data"
    },
    {
     "data": {
      "image/png": "[encoded data removed]",
      "text/plain": [
       "<matplotlib.figure.Figure at 0x7fc77917b650>"
      ]
     },
     "metadata": {},
     "output_type": "display_data"
    },
    {
     "data": {
      "image/png": "[encoded data removed]",
      "text/plain": [
       "<matplotlib.figure.Figure at 0x7fc77912aa50>"
      ]
     },
     "metadata": {},
     "output_type": "display_data"
    },
    {
     "data": {
      "image/png": "[encoded data removed]",
      "text/plain": [
       "<matplotlib.figure.Figure at 0x7fc779b2c390>"
      ]
     },
     "metadata": {},
     "output_type": "display_data"
    },
    {
     "data": {
      "image/png": "[encoded data removed]",
      "text/plain": [
       "<matplotlib.figure.Figure at 0x7fc7cab00a10>"
      ]
     },
     "metadata": {},
     "output_type": "display_data"
    },
    {
     "data": {
      "image/png": "[encoded data removed]",
      "text/plain": [
       "<matplotlib.figure.Figure at 0x7fc7caa8f750>"
      ]
     },
     "metadata": {},
     "output_type": "display_data"
    },
    {
     "data": {
      "image/png": "[encoded data removed]",
      "text/plain": [
       "<matplotlib.figure.Figure at 0x7fc7783e1bd0>"
      ]
     },
     "metadata": {},
     "output_type": "display_data"
    },
    {
     "data": {
      "image/png": "[encoded data removed]",
      "text/plain": [
       "<matplotlib.figure.Figure at 0x7fc7bb0c33d0>"
      ]
     },
     "metadata": {},
     "output_type": "display_data"
    },
    {
     "data": {
      "image/png": "[encoded data removed]",
      "text/plain": [
       "<matplotlib.figure.Figure at 0x7fc774d04310>"
      ]
     },
     "metadata": {},
     "output_type": "display_data"
    },
    {
     "data": {
      "image/png": "[encoded data removed]",
      "text/plain": [
       "<matplotlib.figure.Figure at 0x7fc7c9caa490>"
      ]
     },
     "metadata": {},
     "output_type": "display_data"
    }
   ],
   "source": [
    "#fig = plt.figure()\n",
    "#ax = fig.add_subplot(111)\n",
    "layout = fifi.svg_to_axes.FigureLayout(fififig, autogenlayers=True, \n",
    "                                       make_mplfigures=True, hide_layers=[])\n",
    "ax = layout.axes[('landings_center', 'landings_center')]\n",
    "\n",
    "upwind = 0\n",
    "downwind = 0\n",
    "for i in range(len(df)):\n",
    "    try:\n",
    "        if df['camera'][i] == 'center_camera':\n",
    "            data = pandas.read_hdf('data/' + df['all_trajec_ids'][i])\n",
    "            ax.scatter(data.pos_x_mm[0], -1*data.pos_y_mm[0], c=df['approached_odor'][i], \n",
    "                       cmap='bone_r', vmin=-1, vmax=1, s=5, linewidth=0.25)\n",
    "            \n",
    "            \n",
    "            \n",
    "            angle_from_downwind = np.abs( np.arctan2(data.pos_y_mm[0], np.abs(data.pos_x_mm[0]) )*180/np.pi - 90 )\n",
    "            angles_of_landing.append(angle_from_downwind)\n",
    "            approach_stats.append(df['approached_odor'][i])\n",
    "            distances_travelled.append(df['distance_travelled'][i])\n",
    "            speeds.append(df['speed'][i])\n",
    "            log_df.angle_of_landing[i] = angle_from_downwind\n",
    "            if angle_from_downwind > 45:\n",
    "                upwind += 1\n",
    "            else:\n",
    "                downwind += 1\n",
    "                \n",
    "    except:\n",
    "        pass\n",
    "    \n",
    "print( (downwind)/float(downwind+upwind) )\n",
    "\n",
    "ax.set_aspect('equal')\n",
    "ax.set_xlim(-60, 60)\n",
    "ax.set_ylim(-60,60)\n",
    "fifi.mpl_functions.adjust_spines(ax, [])\n",
    "\n",
    "\n",
    "circle = patches.Circle([0, 0], radius=108/2.,\n",
    "                       facecolor='gray', edgecolor='none', alpha=0.3, zorder=-10)\n",
    "ax.add_artist(circle)\n",
    "circle = patches.Circle([0, 0], radius=0.4*108/2.,\n",
    "                       facecolor='white', edgecolor='none', alpha=1, zorder=-9)\n",
    "ax.add_artist(circle)\n",
    "circle = patches.Circle([0, 0], radius=0.4*108/2.,\n",
    "                       facecolor='red', edgecolor='none', alpha=0.3, zorder=-8)\n",
    "ax.add_artist(circle)\n",
    "\n",
    "# did not approach = white\n",
    "\n",
    "layout.append_figure_to_layer(layout.figures['landings_center'], 'landings_center', cleartarget=True)\n",
    "layout.write_svg(fififig)"
   ]
  },
  {
   "cell_type": "code",
   "execution_count": 30,
   "metadata": {},
   "outputs": [],
   "source": [
    "approach_stats = np.array(approach_stats)\n",
    "angles_of_landing = np.array(angles_of_landing)\n",
    "distances_travelled = np.array(distances_travelled)\n",
    "speeds = np.array(speeds)"
   ]
  },
  {
   "cell_type": "code",
   "execution_count": 31,
   "metadata": {},
   "outputs": [],
   "source": [
    "idx_appr = np.where(approach_stats==1)\n",
    "idx_noappr = np.where(approach_stats==-1)"
   ]
  },
  {
   "cell_type": "code",
   "execution_count": 32,
   "metadata": {},
   "outputs": [],
   "source": [
    "import fly_plot_lib.plot as fpl"
   ]
  },
  {
   "cell_type": "markdown",
   "metadata": {},
   "source": [
    "### No correlation between the angle at which flies land and whether they approach or not\n",
    "\n",
    "Not really surprising - should not be hard to find the odor on these patches."
   ]
  },
  {
   "cell_type": "code",
   "execution_count": 33,
   "metadata": {},
   "outputs": [
    {
     "data": {
      "text/plain": [
       "<matplotlib.text.Text at 0x7fc7c359d250>"
      ]
     },
     "execution_count": 33,
     "metadata": {},
     "output_type": "execute_result"
    },
    {
     "data": {
      "image/png": "[encoded data removed]",
      "text/plain": [
       "<matplotlib.figure.Figure at 0x7fc7783efb90>"
      ]
     },
     "metadata": {},
     "output_type": "display_data"
    }
   ],
   "source": [
    "fig = plt.figure()\n",
    "ax = fig.add_subplot(111)\n",
    "\n",
    "fpl.scatter_box(ax, 1, angles_of_landing[idx_appr], \n",
    "                color='black', markersize=5, use='mean')\n",
    "\n",
    "fpl.scatter_box(ax, 2, angles_of_landing[idx_noappr], \n",
    "                color='gray', markersize=5, use='mean')\n",
    "\n",
    "fifi.mpl_functions.adjust_spines(ax, ['left', 'bottom'], \n",
    "                                 xticks=[1, 2],\n",
    "                                 linewidth=0.5, tick_length=2.5, \n",
    "                                 spine_locations={'left': 2.5, 'bottom': 2.5})\n",
    "ax.set_xticklabels(['approached', 'did not\\napproach'])\n",
    "\n",
    "ax.set_ylabel('angle of landing')"
   ]
  },
  {
   "cell_type": "code",
   "execution_count": 34,
   "metadata": {},
   "outputs": [
    {
     "data": {
      "text/plain": [
       "(0.808, 0.03, 0.009)"
      ]
     },
     "execution_count": 34,
     "metadata": {},
     "output_type": "execute_result"
    }
   ],
   "source": [
    "flystat.resampling.calc_statistical_significance_through_resampling(angles_of_landing[idx_appr],\n",
    "                                                                    angles_of_landing[idx_noappr])"
   ]
  },
  {
   "cell_type": "code",
   "execution_count": 35,
   "metadata": {},
   "outputs": [
    {
     "data": {
      "text/plain": [
       "Ks_2sampResult(statistic=0.15957446808510634, pvalue=0.3716592394396068)"
      ]
     },
     "execution_count": 35,
     "metadata": {},
     "output_type": "execute_result"
    }
   ],
   "source": [
    "scipy.stats.ks_2samp(angles_of_landing[idx_appr], angles_of_landing[idx_noappr])"
   ]
  },
  {
   "cell_type": "code",
   "execution_count": 36,
   "metadata": {},
   "outputs": [
    {
     "data": {
      "image/png": "[encoded data removed]",
      "text/plain": [
       "<matplotlib.figure.Figure at 0x7fc7741455d0>"
      ]
     },
     "metadata": {},
     "output_type": "display_data"
    },
    {
     "data": {
      "image/png": "[encoded data removed]",
      "text/plain": [
       "<matplotlib.figure.Figure at 0x7fc774145850>"
      ]
     },
     "metadata": {},
     "output_type": "display_data"
    },
    {
     "data": {
      "image/png": "[encoded data removed]",
      "text/plain": [
       "<matplotlib.figure.Figure at 0x7fc7c206b0d0>"
      ]
     },
     "metadata": {},
     "output_type": "display_data"
    },
    {
     "data": {
      "image/png": "[encoded data removed]",
      "text/plain": [
       "<matplotlib.figure.Figure at 0x7fc7c9e9a4d0>"
      ]
     },
     "metadata": {},
     "output_type": "display_data"
    },
    {
     "data": {
      "image/png": "[encoded data removed]",
      "text/plain": [
       "<matplotlib.figure.Figure at 0x7fc7c32f65d0>"
      ]
     },
     "metadata": {},
     "output_type": "display_data"
    },
    {
     "data": {
      "image/png": "[encoded data removed]",
      "text/plain": [
       "<matplotlib.figure.Figure at 0x7fc7c3374a90>"
      ]
     },
     "metadata": {},
     "output_type": "display_data"
    },
    {
     "data": {
      "image/png": "[encoded data removed]",
      "text/plain": [
       "<matplotlib.figure.Figure at 0x7fc7c340bd10>"
      ]
     },
     "metadata": {},
     "output_type": "display_data"
    },
    {
     "data": {
      "image/png": "[encoded data removed]",
      "text/plain": [
       "<matplotlib.figure.Figure at 0x7fc7c345f9d0>"
      ]
     },
     "metadata": {},
     "output_type": "display_data"
    },
    {
     "data": {
      "image/png": "[encoded data removed]",
      "text/plain": [
       "<matplotlib.figure.Figure at 0x7fc7ce825490>"
      ]
     },
     "metadata": {},
     "output_type": "display_data"
    },
    {
     "data": {
      "image/png": "[encoded data removed]",
      "text/plain": [
       "<matplotlib.figure.Figure at 0x7fc778349a10>"
      ]
     },
     "metadata": {},
     "output_type": "display_data"
    },
    {
     "data": {
      "image/png": "[encoded data removed]",
      "text/plain": [
       "<matplotlib.figure.Figure at 0x7fc7791781d0>"
      ]
     },
     "metadata": {},
     "output_type": "display_data"
    },
    {
     "data": {
      "image/png": "[encoded data removed]",
      "text/plain": [
       "<matplotlib.figure.Figure at 0x7fc7c206f450>"
      ]
     },
     "metadata": {},
     "output_type": "display_data"
    },
    {
     "data": {
      "image/png": "[encoded data removed]",
      "text/plain": [
       "<matplotlib.figure.Figure at 0x7fc77a5764d0>"
      ]
     },
     "metadata": {},
     "output_type": "display_data"
    },
    {
     "data": {
      "image/png": "[encoded data removed]",
      "text/plain": [
       "<matplotlib.figure.Figure at 0x7fc7c3479110>"
      ]
     },
     "metadata": {},
     "output_type": "display_data"
    },
    {
     "data": {
      "image/png": "[encoded data removed]",
      "text/plain": [
       "<matplotlib.figure.Figure at 0x7fc7780a38d0>"
      ]
     },
     "metadata": {},
     "output_type": "display_data"
    }
   ],
   "source": [
    "layout = fifi.svg_to_axes.FigureLayout(fififig, autogenlayers=True, \n",
    "                                       make_mplfigures=True, hide_layers=[])\n",
    "ax = layout.axes[('angle_v_approaches', 'angle_v_approaches')]\n",
    "\n",
    "fpl.scatter_box(ax, 1, log_df.query('approached_odor==1').angle_of_landing.dropna().values, \n",
    "                color='black', markersize=1, use='mean')\n",
    "\n",
    "fpl.scatter_box(ax, 2, log_df.query('approached_odor==-1').angle_of_landing.dropna().values, \n",
    "                color='black', markersize=1, use='mean')\n",
    "\n",
    "#ax.set_xscale('log')\n",
    "\n",
    "#ax.set_ylim(2.2,9.22)\n",
    "#ax.set_xlim(0, 7)\n",
    "ax.set_xlim(0.5, 2.5)\n",
    "ax.set_ylim(-2, 180)\n",
    "yticks = [0, 45, 90, 135, 180]\n",
    "yticklabels = ['$0^{\\circ}$', '$45^{\\circ}$', '$90^{\\circ}$', '$135^{\\circ}$', '$180^{\\circ}$']\n",
    "\n",
    "xticks = [1, 2]\n",
    "xticklabels = ['', '']\n",
    "\n",
    "\n",
    "fifi.mpl_functions.adjust_spines(ax, ['left', 'bottom'], \n",
    "                                 yticks=yticks, \n",
    "                                 xticks=xticks,\n",
    "                                 linewidth=0.5, tick_length=2.5, \n",
    "                                 spine_locations={'left': 2.5, 'bottom': 2.5})\n",
    "ax.set_yticklabels(yticklabels)\n",
    "ax.set_xticklabels(xticklabels)\n",
    "ax.minorticks_off()\n",
    "\n",
    "fifi.mpl_functions.set_fontsize(ax.figure, 6)\n",
    "layout.append_figure_to_layer(layout.figures['angle_v_approaches'], 'angle_v_approaches', cleartarget=True)\n",
    "layout.write_svg(fififig)"
   ]
  },
  {
   "cell_type": "markdown",
   "metadata": {},
   "source": [
    "### Angle of landing is not correlated with distance travelled"
   ]
  },
  {
   "cell_type": "code",
   "execution_count": 37,
   "metadata": {},
   "outputs": [
    {
     "data": {
      "text/plain": [
       "<matplotlib.text.Text at 0x7fc77a8816d0>"
      ]
     },
     "execution_count": 37,
     "metadata": {},
     "output_type": "execute_result"
    },
    {
     "data": {
      "image/png": "[encoded data removed]",
      "text/plain": [
       "<matplotlib.figure.Figure at 0x7fc7c9e6cd50>"
      ]
     },
     "metadata": {},
     "output_type": "display_data"
    }
   ],
   "source": [
    "fig = plt.figure()\n",
    "ax = fig.add_subplot(111)\n",
    "\n",
    "ax.plot(angles_of_landing, np.log(distances_travelled), '.' )\n",
    "\n",
    "ax.set_xlabel('angle of landing')\n",
    "ax.set_xlabel('log distance travelled')"
   ]
  },
  {
   "cell_type": "code",
   "execution_count": 38,
   "metadata": {},
   "outputs": [
    {
     "data": {
      "text/plain": [
       "LinregressResult(slope=-0.0020795572135343977, intercept=6.3127638573564715, rvalue=-0.08441991258329676, pvalue=0.3195973482611121, stderr=0.0020819269466039836)"
      ]
     },
     "execution_count": 38,
     "metadata": {},
     "output_type": "execute_result"
    }
   ],
   "source": [
    "scipy.stats.linregress(angles_of_landing, np.log(distances_travelled))"
   ]
  },
  {
   "cell_type": "code",
   "execution_count": 39,
   "metadata": {},
   "outputs": [
    {
     "data": {
      "text/plain": [
       "<matplotlib.text.Text at 0x7fc7ca18f610>"
      ]
     },
     "execution_count": 39,
     "metadata": {},
     "output_type": "execute_result"
    },
    {
     "data": {
      "image/png": "[encoded data removed]",
      "text/plain": [
       "<matplotlib.figure.Figure at 0x7fc77a6ee910>"
      ]
     },
     "metadata": {},
     "output_type": "display_data"
    }
   ],
   "source": [
    "fig = plt.figure()\n",
    "ax = fig.add_subplot(111)\n",
    "\n",
    "fpl.scatter_box(ax, 1, speeds[idx_appr], \n",
    "                color='black', markersize=5, use='mean')\n",
    "\n",
    "fpl.scatter_box(ax, 2, speeds[idx_noappr], \n",
    "                color='gray', markersize=5, use='mean')\n",
    "\n",
    "fifi.mpl_functions.adjust_spines(ax, ['left', 'bottom'], \n",
    "                                 xticks=[1, 2],\n",
    "                                 linewidth=0.5, tick_length=2.5, \n",
    "                                 spine_locations={'left': 2.5, 'bottom': 2.5})\n",
    "ax.set_xticklabels(['approached', 'did not\\napproach'])\n",
    "\n",
    "ax.set_ylabel('speeds')"
   ]
  },
  {
   "cell_type": "code",
   "execution_count": 40,
   "metadata": {},
   "outputs": [
    {
     "data": {
      "text/plain": [
       "(0.6499999999999999, 0.006, 0.239)"
      ]
     },
     "execution_count": 40,
     "metadata": {},
     "output_type": "execute_result"
    }
   ],
   "source": [
    "flystat.resampling.calc_statistical_significance_through_resampling(speeds[idx_appr],\n",
    "                                                                    speeds[idx_noappr])"
   ]
  },
  {
   "cell_type": "markdown",
   "metadata": {},
   "source": [
    "### Some landing stats"
   ]
  },
  {
   "cell_type": "code",
   "execution_count": 41,
   "metadata": {},
   "outputs": [],
   "source": [
    "df = load_data()"
   ]
  },
  {
   "cell_type": "code",
   "execution_count": 42,
   "metadata": {},
   "outputs": [],
   "source": [
    "n_center_approached = 0\n",
    "n_center_noapproach = 0\n",
    "\n",
    "n_right_approached = 0\n",
    "n_right_noapproach = 0\n",
    "\n",
    "n_left_approached = 0\n",
    "n_left_noapproach = 0"
   ]
  },
  {
   "cell_type": "code",
   "execution_count": 43,
   "metadata": {},
   "outputs": [
    {
     "data": {
      "text/plain": [
       "179"
      ]
     },
     "execution_count": 43,
     "metadata": {},
     "output_type": "execute_result"
    }
   ],
   "source": [
    "len(df)"
   ]
  },
  {
   "cell_type": "code",
   "execution_count": 44,
   "metadata": {},
   "outputs": [],
   "source": [
    "#df.reset_index(inplace=True)\n",
    "for i in range(len(df)):\n",
    "    try:\n",
    "        if df.iloc[i]['camera'] == 'right_camera':\n",
    "            if df.iloc[i]['approached_odor'] == 1:\n",
    "                n_right_approached += 1\n",
    "            else:\n",
    "                n_right_noapproach += 1\n",
    "        if df.iloc[i]['camera'] == 'left_camera':\n",
    "            if df.iloc[i]['approached_odor'] == 1:\n",
    "                n_left_approached += 1\n",
    "            else:\n",
    "                n_left_noapproach += 1\n",
    "        if df.iloc[i]['camera'] == 'center_camera':\n",
    "            if df.iloc[i]['approached_odor'] == 1:\n",
    "                n_center_approached += 1\n",
    "            else:\n",
    "                n_center_noapproach += 1\n",
    "    except:\n",
    "        pass"
   ]
  },
  {
   "cell_type": "code",
   "execution_count": 45,
   "metadata": {},
   "outputs": [
    {
     "name": "stdout",
     "output_type": "stream",
     "text": [
      "Center camera\n",
      "('Total: ', 68)\n",
      "('Fraction approached: ', 0.9264705882352942)\n"
     ]
    }
   ],
   "source": [
    "print('Center camera')\n",
    "print('Total: ', n_center_approached+n_center_noapproach)\n",
    "print('Fraction approached: ', float(n_center_approached) / float(n_center_approached + n_center_noapproach))"
   ]
  },
  {
   "cell_type": "code",
   "execution_count": 46,
   "metadata": {},
   "outputs": [
    {
     "name": "stdout",
     "output_type": "stream",
     "text": [
      "Right camera\n",
      "('Total: ', 52)\n",
      "('Fraction approached: ', 0.5192307692307693)\n"
     ]
    }
   ],
   "source": [
    "print('Right camera')\n",
    "print('Total: ', n_right_noapproach+n_right_approached)\n",
    "print('Fraction approached: ', float(n_right_approached) / float(n_right_approached + n_right_noapproach))"
   ]
  },
  {
   "cell_type": "code",
   "execution_count": 47,
   "metadata": {},
   "outputs": [
    {
     "name": "stdout",
     "output_type": "stream",
     "text": [
      "Left camera\n",
      "('Total: ', 59)\n",
      "('Fraction approached: ', 0.4915254237288136)\n"
     ]
    }
   ],
   "source": [
    "print('Left camera')\n",
    "print('Total: ', n_left_noapproach+n_left_approached)\n",
    "print('Fraction approached: ', float(n_left_approached) / float(n_left_approached + n_left_noapproach))"
   ]
  },
  {
   "cell_type": "code",
   "execution_count": null,
   "metadata": {},
   "outputs": [],
   "source": []
  },
  {
   "cell_type": "code",
   "execution_count": null,
   "metadata": {},
   "outputs": [],
   "source": []
  },
  {
   "cell_type": "code",
   "execution_count": null,
   "metadata": {},
   "outputs": [],
   "source": []
  }
 ],
 "metadata": {
  "kernelspec": {
   "display_name": "Python 2",
   "language": "python",
   "name": "python2"
  },
  "language_info": {
   "codemirror_mode": {
    "name": "ipython",
    "version": 2
   },
   "file_extension": ".py",
   "mimetype": "text/x-python",
   "name": "python",
   "nbconvert_exporter": "python",
   "pygments_lexer": "ipython2",
   "version": "2.7.12"
  }
 },
 "nbformat": 4,
 "nbformat_minor": 2
}
