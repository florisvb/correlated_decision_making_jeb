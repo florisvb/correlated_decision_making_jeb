{
 "cells": [
  {
   "cell_type": "code",
   "execution_count": 1,
   "metadata": {},
   "outputs": [
    {
     "name": "stderr",
     "output_type": "stream",
     "text": [
      "/home/caveman/.local/lib/python2.7/site-packages/pandas/core/computation/__init__.py:18: UserWarning: The installed version of numexpr 2.4.3 is not supported in pandas and will be not be used\n",
      "The minimum supported version is 2.4.6\n",
      "\n",
      "  ver=ver, min_ver=_MIN_NUMEXPR_VERSION), UserWarning)\n"
     ]
    },
    {
     "name": "stdout",
     "output_type": "stream",
     "text": [
      "1.5.1\n",
      "recommended version: 1.1.1 or greater\n"
     ]
    }
   ],
   "source": [
    "import numpy as np\n",
    "import matplotlib.pyplot as plt\n",
    "plt.rc('text', usetex=True)\n",
    "import pickle\n",
    "import os\n",
    "import time\n",
    "import datetime\n",
    "from matplotlib import patches\n",
    "import multi_tracker_analysis as mta\n",
    "import scipy.stats\n",
    "import figurefirst as fifi\n",
    "import pandas\n",
    "import copy\n",
    "import flystat\n",
    "import fly_plot_lib.plot as fpl\n",
    "import matplotlib.patches as mpatches"
   ]
  },
  {
   "cell_type": "code",
   "execution_count": 2,
   "metadata": {},
   "outputs": [],
   "source": [
    "from numpy import random, histogram2d, diff\n",
    "import matplotlib.pyplot as plt\n",
    "from scipy.interpolate import interp2d\n",
    "from scipy.interpolate import interp1d"
   ]
  },
  {
   "cell_type": "code",
   "execution_count": 3,
   "metadata": {},
   "outputs": [
    {
     "name": "stderr",
     "output_type": "stream",
     "text": [
      "/home/caveman/.local/lib/python2.7/site-packages/statsmodels/compat/pandas.py:56: FutureWarning: The pandas.core.datetools module is deprecated and will be removed in a future version. Please use the pandas.tseries module instead.\n",
      "  from pandas.core import datetools\n"
     ]
    }
   ],
   "source": [
    "import statsmodels.api as sm\n",
    "import statsmodels.formula.api as smf"
   ]
  },
  {
   "cell_type": "code",
   "execution_count": 4,
   "metadata": {},
   "outputs": [],
   "source": [
    "fififig = 'figures/foraging_fig_3_revision.svg'"
   ]
  },
  {
   "cell_type": "code",
   "execution_count": 5,
   "metadata": {
    "code_folding": []
   },
   "outputs": [],
   "source": [
    "def load_data():\n",
    "    df = pandas.read_hdf('data/flydata_20210428_3cam.hdf', 'flydata_20210428_3cam')\n",
    "\n",
    "\n",
    "    minimum_req_visits = 3\n",
    "    flids_okay = []\n",
    "    for flid in df.flid.unique():\n",
    "        dfq = df[df.flid==flid]\n",
    "        if len(dfq) >= minimum_req_visits:\n",
    "            flids_okay.append(flid)\n",
    "    df = df[df.flid.isin(flids_okay)]\n",
    "\n",
    "    df.fraction_of_time_near_odor += 1e-4 # to help with logs\n",
    "\n",
    "    # spatial novelty\n",
    "    new_camera = []\n",
    "    for ix in range(len(df)):\n",
    "        nc = 1\n",
    "        try:\n",
    "            if df.iloc[ix].flid == df.iloc[ix-1].flid:\n",
    "                if df.iloc[ix].camera != df.iloc[ix-1].camera:\n",
    "                    nc = 2\n",
    "            else:\n",
    "                nc = 2\n",
    "        except:\n",
    "            nc = 2 # first one\n",
    "        new_camera.append(nc)\n",
    "    df['new_camera'] = new_camera\n",
    "\n",
    "    # nth visit\n",
    "    nth_visit = [1]\n",
    "    for ix in range(1, len(df)):\n",
    "        if df.iloc[ix].flid == df.iloc[ix-1].flid:\n",
    "            nth_visit.append(nth_visit[-1]+1)\n",
    "        else:\n",
    "            nth_visit.append(1)\n",
    "    df['nth_visit'] = nth_visit\n",
    "    df['log_nth_visit'] = np.log(nth_visit)\n",
    "\n",
    "    df['mean_interval'] = np.nanmean([df['interval'].values, df['interval2'].values], axis=0)\n",
    "    df['approached_odor'] = np.sign(df['fraction_of_time_near_odor']-0.01)\n",
    "\n",
    "    df['camera_num'] = (df['camera'] == 'center_camera')\n",
    "    df['camera_num'] = (df['camera_num'] -1) /2\n",
    "\n",
    "    return df"
   ]
  },
  {
   "cell_type": "code",
   "execution_count": 6,
   "metadata": {},
   "outputs": [],
   "source": [
    "df = load_data()\n",
    "df = df[ ~ (df.nth_visit==1) ] # drop the first visits for this analysis\n",
    "df = df[df.interval > 0] # there is one encoutner with a negative interval\n",
    "#df.fraction_of_time_near_odor += 1e-4 # to help with logs"
   ]
  },
  {
   "cell_type": "markdown",
   "metadata": {},
   "source": [
    "# Distance travelled"
   ]
  },
  {
   "cell_type": "code",
   "execution_count": 7,
   "metadata": {},
   "outputs": [
    {
     "data": {
      "image/png": "[encoded data removed]",
      "text/plain": [
       "<matplotlib.figure.Figure at 0x7fbb1398a390>"
      ]
     },
     "metadata": {},
     "output_type": "display_data"
    },
    {
     "data": {
      "image/png": "[encoded data removed]",
      "text/plain": [
       "<matplotlib.figure.Figure at 0x7fbb1398ab50>"
      ]
     },
     "metadata": {},
     "output_type": "display_data"
    },
    {
     "data": {
      "image/png": "[encoded data removed]",
      "text/plain": [
       "<matplotlib.figure.Figure at 0x7fbb12e24190>"
      ]
     },
     "metadata": {},
     "output_type": "display_data"
    },
    {
     "data": {
      "image/png": "[encoded data removed]",
      "text/plain": [
       "<matplotlib.figure.Figure at 0x7fbb12da3a90>"
      ]
     },
     "metadata": {},
     "output_type": "display_data"
    },
    {
     "data": {
      "image/png": "[encoded data removed]",
      "text/plain": [
       "<matplotlib.figure.Figure at 0x7fbb12c9fd50>"
      ]
     },
     "metadata": {},
     "output_type": "display_data"
    },
    {
     "data": {
      "image/png": "[encoded data removed]",
      "text/plain": [
       "<matplotlib.figure.Figure at 0x7fbb12c2eb10>"
      ]
     },
     "metadata": {},
     "output_type": "display_data"
    },
    {
     "data": {
      "image/png": "[encoded data removed]",
      "text/plain": [
       "<matplotlib.figure.Figure at 0x7fbb12ba0210>"
      ]
     },
     "metadata": {},
     "output_type": "display_data"
    },
    {
     "data": {
      "image/png": "[encoded data removed]",
      "text/plain": [
       "<matplotlib.figure.Figure at 0x7fbb12b24710>"
      ]
     },
     "metadata": {},
     "output_type": "display_data"
    },
    {
     "data": {
      "image/png": "[encoded data removed]",
      "text/plain": [
       "<matplotlib.figure.Figure at 0x7fbb1752ba90>"
      ]
     },
     "metadata": {},
     "output_type": "display_data"
    },
    {
     "data": {
      "image/png": "[encoded data removed]",
      "text/plain": [
       "<matplotlib.figure.Figure at 0x7fbb12a21190>"
      ]
     },
     "metadata": {},
     "output_type": "display_data"
    },
    {
     "data": {
      "image/png": "[encoded data removed]",
      "text/plain": [
       "<matplotlib.figure.Figure at 0x7fbb12991390>"
      ]
     },
     "metadata": {},
     "output_type": "display_data"
    },
    {
     "data": {
      "image/png": "[encoded data removed]",
      "text/plain": [
       "<matplotlib.figure.Figure at 0x7fbb1291f090>"
      ]
     },
     "metadata": {},
     "output_type": "display_data"
    },
    {
     "data": {
      "image/png": "[encoded data removed]",
      "text/plain": [
       "<matplotlib.figure.Figure at 0x7fbb128faf90>"
      ]
     },
     "metadata": {},
     "output_type": "display_data"
    },
    {
     "data": {
      "image/png": "[encoded data removed]",
      "text/plain": [
       "<matplotlib.figure.Figure at 0x7fbb1281f150>"
      ]
     },
     "metadata": {},
     "output_type": "display_data"
    },
    {
     "data": {
      "image/png": "[encoded data removed]",
      "text/plain": [
       "<matplotlib.figure.Figure at 0x7fbb1282bd90>"
      ]
     },
     "metadata": {},
     "output_type": "display_data"
    }
   ],
   "source": [
    "layout = fifi.svg_to_axes.FigureLayout(fififig, autogenlayers=True, \n",
    "                                       make_mplfigures=True, hide_layers=[])\n",
    "ax = layout.axes[('distance_v_approaches', 'distance_v_approaches')]\n",
    "\n",
    "fpl.scatter_box(ax, 1, np.log(df.query('approached_odor==1').distance_travelled).dropna().values, \n",
    "                color='black', markersize=1, use='mean')\n",
    "\n",
    "fpl.scatter_box(ax, 2, np.log(df.query('approached_odor==-1').distance_travelled).dropna().values, \n",
    "                color='black', markersize=1, use='mean')\n",
    "\n",
    "#ax.set_yscale('log')\n",
    "#ax.set_xscale('log')\n",
    "\n",
    "#ax.set_ylim(2.2,9.22)\n",
    "#ax.set_xlim(0, 7)\n",
    "ax.set_xlim(0.5, 2.5)\n",
    "#ax.set_ylim(10**1, 10**4)\n",
    "yticks = [10**1, 10**2, 10**3, 10**4]\n",
    "yticklabels = ['$10^1$', '$10^2$', '$10^3$', '$10^4$']\n",
    "\n",
    "xticks = [1, 2]\n",
    "xticklabels = ['', '']\n",
    "\n",
    "\n",
    "fifi.mpl_functions.adjust_spines(ax, ['left', 'bottom'], \n",
    "                                 yticks=np.log(yticks), \n",
    "                                 xticks=xticks,\n",
    "                                 linewidth=0.5, tick_length=2.5, \n",
    "                                 spine_locations={'left': 2.5, 'bottom': 2.5})\n",
    "ax.set_yticklabels(yticklabels)\n",
    "ax.set_xticklabels(xticklabels)\n",
    "ax.minorticks_off()\n",
    "\n",
    "fifi.mpl_functions.set_fontsize(ax.figure, 6)\n",
    "layout.append_figure_to_layer(layout.figures['distance_v_approaches'], 'distance_v_approaches', cleartarget=True)\n",
    "layout.write_svg(fififig)"
   ]
  },
  {
   "cell_type": "code",
   "execution_count": 8,
   "metadata": {},
   "outputs": [
    {
     "data": {
      "text/plain": [
       "(0.0020000000000000018, 0.515, 0.993)"
      ]
     },
     "execution_count": 8,
     "metadata": {},
     "output_type": "execute_result"
    }
   ],
   "source": [
    "flystat.resampling.calc_statistical_significance_through_resampling(np.log(df.query('approached_odor==1').distance_travelled).values,\n",
    "                     np.log(df.query('approached_odor==-1').distance_travelled).values, analysis='mean')"
   ]
  },
  {
   "cell_type": "markdown",
   "metadata": {},
   "source": [
    "# First approaches"
   ]
  },
  {
   "cell_type": "code",
   "execution_count": 9,
   "metadata": {},
   "outputs": [
    {
     "data": {
      "image/png": "[encoded data removed]",
      "text/plain": [
       "<matplotlib.figure.Figure at 0x7fbb12b506d0>"
      ]
     },
     "metadata": {},
     "output_type": "display_data"
    },
    {
     "data": {
      "image/png": "[encoded data removed]",
      "text/plain": [
       "<matplotlib.figure.Figure at 0x7fbb12c59090>"
      ]
     },
     "metadata": {},
     "output_type": "display_data"
    },
    {
     "data": {
      "image/png": "[encoded data removed]",
      "text/plain": [
       "<matplotlib.figure.Figure at 0x7fbb0ebd1b90>"
      ]
     },
     "metadata": {},
     "output_type": "display_data"
    },
    {
     "data": {
      "image/png": "[encoded data removed]",
      "text/plain": [
       "<matplotlib.figure.Figure at 0x7fbb0ebcd190>"
      ]
     },
     "metadata": {},
     "output_type": "display_data"
    },
    {
     "data": {
      "image/png": "[encoded data removed]",
      "text/plain": [
       "<matplotlib.figure.Figure at 0x7fbb0eaf1550>"
      ]
     },
     "metadata": {},
     "output_type": "display_data"
    },
    {
     "data": {
      "image/png": "[encoded data removed]",
      "text/plain": [
       "<matplotlib.figure.Figure at 0x7fbb0ea42bd0>"
      ]
     },
     "metadata": {},
     "output_type": "display_data"
    },
    {
     "data": {
      "image/png": "[encoded data removed]",
      "text/plain": [
       "<matplotlib.figure.Figure at 0x7fbb0e95c410>"
      ]
     },
     "metadata": {},
     "output_type": "display_data"
    },
    {
     "data": {
      "image/png": "[encoded data removed]",
      "text/plain": [
       "<matplotlib.figure.Figure at 0x7fbb0e942690>"
      ]
     },
     "metadata": {},
     "output_type": "display_data"
    },
    {
     "data": {
      "image/png": "[encoded data removed]",
      "text/plain": [
       "<matplotlib.figure.Figure at 0x7fbb0e8cee50>"
      ]
     },
     "metadata": {},
     "output_type": "display_data"
    },
    {
     "data": {
      "image/png": "[encoded data removed]",
      "text/plain": [
       "<matplotlib.figure.Figure at 0x7fbb1420b350>"
      ]
     },
     "metadata": {},
     "output_type": "display_data"
    },
    {
     "data": {
      "image/png": "[encoded data removed]",
      "text/plain": [
       "<matplotlib.figure.Figure at 0x7fbb144cc6d0>"
      ]
     },
     "metadata": {},
     "output_type": "display_data"
    },
    {
     "data": {
      "image/png": "[encoded data removed]",
      "text/plain": [
       "<matplotlib.figure.Figure at 0x7fbb0f31cf50>"
      ]
     },
     "metadata": {},
     "output_type": "display_data"
    },
    {
     "data": {
      "image/png": "[encoded data removed]",
      "text/plain": [
       "<matplotlib.figure.Figure at 0x7fbb6516f550>"
      ]
     },
     "metadata": {},
     "output_type": "display_data"
    },
    {
     "data": {
      "image/png": "[encoded data removed]",
      "text/plain": [
       "<matplotlib.figure.Figure at 0x7fbb652b5b50>"
      ]
     },
     "metadata": {},
     "output_type": "display_data"
    },
    {
     "data": {
      "image/png": "[encoded data removed]",
      "text/plain": [
       "<matplotlib.figure.Figure at 0x7fbb65197890>"
      ]
     },
     "metadata": {},
     "output_type": "display_data"
    }
   ],
   "source": [
    "layout = fifi.svg_to_axes.FigureLayout(fififig, autogenlayers=True, \n",
    "                                       make_mplfigures=True, hide_layers=[])\n",
    "ax = layout.axes[('first_approach', 'approached')]\n",
    "\n",
    "\n",
    "\n",
    "d = df[df.distance_travelled_before_first_approach>0].distance_travelled.values\n",
    "logd = np.log(d)\n",
    "ax.hist(logd, color='black', normed=True)\n",
    "\n",
    "\n",
    "d = df[df.distance_travelled_before_first_approach>0].distance_travelled_before_first_approach.values\n",
    "logd = np.log(d)\n",
    "ax.hist(logd, edgecolor='none', facecolor='salmon', alpha=0.7, normed=True)\n",
    "\n",
    "xticks = [1, 10**1, 10**2, 10**3, 10**4]\n",
    "xticklabels = ['$10^0$', '$10^1$', '$10^2$', '$10^3$', '$10^4$']\n",
    "\n",
    "fifi.mpl_functions.adjust_spines(ax, ['left', 'bottom'], \n",
    "                                 yticks=[0, 0.3, 0.6], \n",
    "                                 xticks=np.log(xticks),\n",
    "                                 linewidth=0.5, tick_length=2.5, \n",
    "                                 spine_locations={'left': 2.5, 'bottom': 2.5})\n",
    "ax.set_ylim(0, 0.75)\n",
    "ax.set_xticklabels(xticklabels)\n",
    "ax.minorticks_off()\n",
    "\n",
    "#fifi.mpl_functions.set_fontsize(ax.figure, 8)\n",
    "#layout.append_figure_to_layer(layout.figures['distance_v_time'], 'distance_v_time', cleartarget=True)\n",
    "#layout.write_svg(fififig)"
   ]
  },
  {
   "cell_type": "code",
   "execution_count": 10,
   "metadata": {},
   "outputs": [],
   "source": [
    "ax = layout.axes[('first_approach', 'no_approach')]\n",
    "\n",
    "d = df[df.distance_travelled_before_first_approach<0].distance_travelled.values\n",
    "logd = np.log(d)\n",
    "ax.hist(logd, edgecolor='none', facecolor='gray', normed=True)\n",
    "\n",
    "\n",
    "d = df[df.distance_travelled_before_first_approach>0].distance_travelled_before_first_approach.values\n",
    "logd = np.log(d)\n",
    "ax.hist(logd, edgecolor='none', facecolor='salmon', alpha=0.7, normed=True)\n",
    "\n",
    "xticks = [1, 10**1, 10**2, 10**3, 10**4]\n",
    "xticklabels = ['$10^0$', '$10^1$', '$10^2$', '$10^3$', '$10^4$']\n",
    "\n",
    "fifi.mpl_functions.adjust_spines(ax, ['bottom'], \n",
    "                                 yticks=[0, 0.3, 0.6], \n",
    "                                 xticks=np.log(xticks),\n",
    "                                 linewidth=0.5, tick_length=2.5, \n",
    "                                 spine_locations={'left': 2.5, 'bottom': 2.5})\n",
    "ax.set_ylim(0, 0.75)\n",
    "\n",
    "ax.set_xticklabels(xticklabels)\n",
    "ax.minorticks_off()\n",
    "\n",
    "\n",
    "fifi.mpl_functions.set_fontsize(ax.figure, 6)\n",
    "layout.append_figure_to_layer(layout.figures['first_approach'], 'first_approach', cleartarget=True)\n",
    "layout.write_svg(fififig)"
   ]
  },
  {
   "cell_type": "markdown",
   "metadata": {},
   "source": [
    "# Speed for trajecs that approached and those that did not."
   ]
  },
  {
   "cell_type": "code",
   "execution_count": 11,
   "metadata": {},
   "outputs": [
    {
     "data": {
      "image/png": "[encoded data removed]",
      "text/plain": [
       "<matplotlib.figure.Figure at 0x7fbb0eae91d0>"
      ]
     },
     "metadata": {},
     "output_type": "display_data"
    },
    {
     "data": {
      "image/png": "[encoded data removed]",
      "text/plain": [
       "<matplotlib.figure.Figure at 0x7fbb0eafd6d0>"
      ]
     },
     "metadata": {},
     "output_type": "display_data"
    },
    {
     "data": {
      "image/png": "[encoded data removed]",
      "text/plain": [
       "<matplotlib.figure.Figure at 0x7fbb12702d50>"
      ]
     },
     "metadata": {},
     "output_type": "display_data"
    },
    {
     "data": {
      "image/png": "[encoded data removed]",
      "text/plain": [
       "<matplotlib.figure.Figure at 0x7fbb128408d0>"
      ]
     },
     "metadata": {},
     "output_type": "display_data"
    },
    {
     "data": {
      "image/png": "[encoded data removed]",
      "text/plain": [
       "<matplotlib.figure.Figure at 0x7fbb1292c190>"
      ]
     },
     "metadata": {},
     "output_type": "display_data"
    },
    {
     "data": {
      "image/png": "[encoded data removed]",
      "text/plain": [
       "<matplotlib.figure.Figure at 0x7fbb129bdd90>"
      ]
     },
     "metadata": {},
     "output_type": "display_data"
    },
    {
     "data": {
      "image/png": "[encoded data removed]",
      "text/plain": [
       "<matplotlib.figure.Figure at 0x7fbb12a2f310>"
      ]
     },
     "metadata": {},
     "output_type": "display_data"
    },
    {
     "data": {
      "image/png": "[encoded data removed]",
      "text/plain": [
       "<matplotlib.figure.Figure at 0x7fbb12aa0650>"
      ]
     },
     "metadata": {},
     "output_type": "display_data"
    },
    {
     "data": {
      "image/png": "[encoded data removed]",
      "text/plain": [
       "<matplotlib.figure.Figure at 0x7fbb12a6b250>"
      ]
     },
     "metadata": {},
     "output_type": "display_data"
    },
    {
     "data": {
      "image/png": "[encoded data removed]",
      "text/plain": [
       "<matplotlib.figure.Figure at 0x7fbb12bafd10>"
      ]
     },
     "metadata": {},
     "output_type": "display_data"
    },
    {
     "data": {
      "image/png": "[encoded data removed]",
      "text/plain": [
       "<matplotlib.figure.Figure at 0x7fbb12c2e550>"
      ]
     },
     "metadata": {},
     "output_type": "display_data"
    },
    {
     "data": {
      "image/png": "[encoded data removed]",
      "text/plain": [
       "<matplotlib.figure.Figure at 0x7fbb1273d950>"
      ]
     },
     "metadata": {},
     "output_type": "display_data"
    },
    {
     "data": {
      "image/png": "[encoded data removed]",
      "text/plain": [
       "<matplotlib.figure.Figure at 0x7fbb12d35750>"
      ]
     },
     "metadata": {},
     "output_type": "display_data"
    },
    {
     "data": {
      "image/png": "[encoded data removed]",
      "text/plain": [
       "<matplotlib.figure.Figure at 0x7fbb13e23c90>"
      ]
     },
     "metadata": {},
     "output_type": "display_data"
    },
    {
     "data": {
      "image/png": "[encoded data removed]",
      "text/plain": [
       "<matplotlib.figure.Figure at 0x7fbb12e15550>"
      ]
     },
     "metadata": {},
     "output_type": "display_data"
    }
   ],
   "source": [
    "layout = fifi.svg_to_axes.FigureLayout(fififig, autogenlayers=True, \n",
    "                                       make_mplfigures=True, hide_layers=[])\n",
    "ax = layout.axes[('speed_v_approaches', 'speed_v_approaches')]\n",
    "\n",
    "fpl.scatter_box(ax, 1, (df.query('approached_odor==1').speed).dropna().values, \n",
    "                color='black', markersize=1, use='mean')\n",
    "\n",
    "fpl.scatter_box(ax, 2, (df.query('approached_odor==-1').speed).dropna().values, \n",
    "                color='black', markersize=1, use='mean')\n",
    "\n",
    "#ax.set_yscale('log')\n",
    "#ax.set_xscale('log')\n",
    "\n",
    "#ax.set_ylim(2.2,9.22)\n",
    "#ax.set_xlim(0, 7)\n",
    "ax.set_xlim(0.5, 2.5)\n",
    "#ax.set_ylim(10**1, 10**4)\n",
    "yticks = [0, 2, 4, 6]\n",
    "\n",
    "xticks = [1, 2]\n",
    "xticklabels = ['', '']\n",
    "\n",
    "\n",
    "fifi.mpl_functions.adjust_spines(ax, ['left', 'bottom'], \n",
    "                                 yticks=yticks, \n",
    "                                 xticks=xticks,\n",
    "                                 linewidth=0.5, tick_length=2.5, \n",
    "                                 spine_locations={'left': 2.5, 'bottom': 2.5})\n",
    "ax.set_xticklabels(xticklabels)\n",
    "ax.minorticks_off()\n",
    "\n",
    "fifi.mpl_functions.set_fontsize(ax.figure, 6)\n",
    "layout.append_figure_to_layer(layout.figures['speed_v_approaches'], 'speed_v_approaches', cleartarget=True)\n",
    "layout.write_svg(fififig)"
   ]
  },
  {
   "cell_type": "code",
   "execution_count": 12,
   "metadata": {},
   "outputs": [
    {
     "data": {
      "text/plain": [
       "(0.28400000000000003, 0.019, 0.142)"
      ]
     },
     "execution_count": 12,
     "metadata": {},
     "output_type": "execute_result"
    }
   ],
   "source": [
    "flystat.resampling.calc_statistical_significance_through_resampling((df.query('approached_odor==1').speed).dropna().values,\n",
    "                     (df.query('approached_odor==-1').speed).dropna().values, analysis='mean')"
   ]
  },
  {
   "cell_type": "markdown",
   "metadata": {},
   "source": [
    "### Direction of the correlation\n",
    "\n",
    "One potential explanation is that flies are more likely to approach the odor if they travel farther.\n",
    "There is, however, a negative correlation between the time when the odors first approached the odor, and how long they travel for. \n",
    "In other words, flies walk farther in search of food, the sooner they interact with the odor.\n",
    "Surprisingly, the flies with an average walking speed that is higher, approach the odor later in their search.\n",
    "Why might flies be more likely to approach the odor?\n",
    "\n",
    "Answer might be: how they actually got to the platform in the first place.\n",
    "\n",
    "#### There is no correlation between how long it takes the fly to approach the odor, and the distance they travel\n",
    "\n",
    "Results are consistent with the idea that when the flies land, their prior experience with the odor, or their visual experience, are influencing how quickly they approach the odor, even though the all appear to land on similar parts of the platform. \n",
    "\n",
    "Flow over the objects is different. "
   ]
  },
  {
   "cell_type": "code",
   "execution_count": 13,
   "metadata": {},
   "outputs": [
    {
     "name": "stdout",
     "output_type": "stream",
     "text": [
      "                            OLS Regression Results                            \n",
      "==============================================================================\n",
      "Dep. Variable:     distance_travelled   R-squared:                       0.043\n",
      "Model:                            OLS   Adj. R-squared:                  0.029\n",
      "Method:                 Least Squares   F-statistic:                     3.156\n",
      "Date:                Fri, 09 Jul 2021   Prob (F-statistic):             0.0799\n",
      "Time:                        13:29:57   Log-Likelihood:                -84.909\n",
      "No. Observations:                  73   AIC:                             173.8\n",
      "Df Residuals:                      71   BIC:                             178.4\n",
      "Df Model:                           1                                         \n",
      "Covariance Type:            nonrobust                                         \n",
      "==========================================================================================\n",
      "                             coef    std err          t      P>|t|      [0.025      0.975]\n",
      "------------------------------------------------------------------------------------------\n",
      "Intercept                  6.0972      0.303     20.110      0.000       5.493       6.702\n",
      "time_of_first_approach     0.1402      0.079      1.777      0.080      -0.017       0.298\n",
      "==============================================================================\n",
      "Omnibus:                        3.712   Durbin-Watson:                   1.803\n",
      "Prob(Omnibus):                  0.156   Jarque-Bera (JB):                3.450\n",
      "Skew:                          -0.462   Prob(JB):                        0.178\n",
      "Kurtosis:                       2.471   Cond. No.                         13.5\n",
      "==============================================================================\n",
      "\n",
      "Warnings:\n",
      "[1] Standard Errors assume that the covariance matrix of the errors is correctly specified.\n"
     ]
    },
    {
     "name": "stderr",
     "output_type": "stream",
     "text": [
      "/usr/local/lib/python2.7/dist-packages/ipykernel_launcher.py:4: RuntimeWarning: divide by zero encountered in log\n",
      "  after removing the cwd from sys.path.\n",
      "/usr/local/lib/python2.7/dist-packages/ipykernel_launcher.py:4: RuntimeWarning: invalid value encountered in log\n",
      "  after removing the cwd from sys.path.\n"
     ]
    }
   ],
   "source": [
    "log_df = pandas.DataFrame()\n",
    "log_df['approached_odor'] = df.approached_odor.values\n",
    "log_df['distance_travelled'] = np.log(df.distance_travelled)\n",
    "log_df['time_of_first_approach'] = np.log(df.time_of_first_approach)\n",
    "\n",
    "log_df = log_df.query('approached_odor == 1')\n",
    "log_df.dropna(inplace=True)\n",
    "\n",
    "ax.scatter(log_df.time_of_first_approach.values, log_df.distance_travelled.values, c='black', s=3, linewidth=0.25,rasterized=True)\n",
    "\n",
    "\n",
    "# Rerun and OLS on just this input\n",
    "md = smf.ols('distance_travelled ~ time_of_first_approach', log_df)\n",
    "mdf2 = md.fit()\n",
    "print(mdf2.summary())"
   ]
  },
  {
   "cell_type": "code",
   "execution_count": 14,
   "metadata": {},
   "outputs": [
    {
     "data": {
      "image/png": "[encoded data removed]",
      "text/plain": [
       "<matplotlib.figure.Figure at 0x7fbb5a193e10>"
      ]
     },
     "metadata": {},
     "output_type": "display_data"
    },
    {
     "data": {
      "image/png": "[encoded data removed]",
      "text/plain": [
       "<matplotlib.figure.Figure at 0x7fbb651b8750>"
      ]
     },
     "metadata": {},
     "output_type": "display_data"
    },
    {
     "data": {
      "image/png": "[encoded data removed]",
      "text/plain": [
       "<matplotlib.figure.Figure at 0x7fbb144c6dd0>"
      ]
     },
     "metadata": {},
     "output_type": "display_data"
    },
    {
     "data": {
      "image/png": "[encoded data removed]",
      "text/plain": [
       "<matplotlib.figure.Figure at 0x7fbb12649590>"
      ]
     },
     "metadata": {},
     "output_type": "display_data"
    },
    {
     "data": {
      "image/png": "[encoded data removed]",
      "text/plain": [
       "<matplotlib.figure.Figure at 0x7fbb654af8d0>"
      ]
     },
     "metadata": {},
     "output_type": "display_data"
    },
    {
     "data": {
      "image/png": "[encoded data removed]",
      "text/plain": [
       "<matplotlib.figure.Figure at 0x7fbb0ea06210>"
      ]
     },
     "metadata": {},
     "output_type": "display_data"
    },
    {
     "data": {
      "image/png": "[encoded data removed]",
      "text/plain": [
       "<matplotlib.figure.Figure at 0x7fbb653d1890>"
      ]
     },
     "metadata": {},
     "output_type": "display_data"
    },
    {
     "data": {
      "image/png": "[encoded data removed]",
      "text/plain": [
       "<matplotlib.figure.Figure at 0x7fbb17030350>"
      ]
     },
     "metadata": {},
     "output_type": "display_data"
    },
    {
     "data": {
      "image/png": "[encoded data removed]",
      "text/plain": [
       "<matplotlib.figure.Figure at 0x7fbb1420b950>"
      ]
     },
     "metadata": {},
     "output_type": "display_data"
    },
    {
     "data": {
      "image/png": "[encoded data removed]",
      "text/plain": [
       "<matplotlib.figure.Figure at 0x7fbb6493c450>"
      ]
     },
     "metadata": {},
     "output_type": "display_data"
    },
    {
     "data": {
      "image/png": "[encoded data removed]",
      "text/plain": [
       "<matplotlib.figure.Figure at 0x7fbb0eab9490>"
      ]
     },
     "metadata": {},
     "output_type": "display_data"
    },
    {
     "data": {
      "image/png": "[encoded data removed]",
      "text/plain": [
       "<matplotlib.figure.Figure at 0x7fbb13ca0590>"
      ]
     },
     "metadata": {},
     "output_type": "display_data"
    },
    {
     "data": {
      "image/png": "[encoded data removed]",
      "text/plain": [
       "<matplotlib.figure.Figure at 0x7fbb0eaa5290>"
      ]
     },
     "metadata": {},
     "output_type": "display_data"
    },
    {
     "data": {
      "image/png": "[encoded data removed]",
      "text/plain": [
       "<matplotlib.figure.Figure at 0x7fbb13e47b90>"
      ]
     },
     "metadata": {},
     "output_type": "display_data"
    },
    {
     "data": {
      "image/png": "[encoded data removed]",
      "text/plain": [
       "<matplotlib.figure.Figure at 0x7fbb0f017310>"
      ]
     },
     "metadata": {},
     "output_type": "display_data"
    }
   ],
   "source": [
    "layout = fifi.svg_to_axes.FigureLayout(fififig, autogenlayers=True, \n",
    "                                       make_mplfigures=True, hide_layers=[])\n",
    "ax = layout.axes[('distance_v_time', 'distance_v_time')]\n",
    "\n",
    "\n",
    "\n",
    "ax.scatter(log_df.time_of_first_approach, #/log_df_approached.search_time, \n",
    "         log_df.distance_travelled, c='black', s=3, linewidth=0.25,rasterized=True)\n",
    "\n",
    "x = np.linspace(np.min(log_df.time_of_first_approach.values), np.max(log_df.time_of_first_approach.values), 100)\n",
    "y = mdf2.params['time_of_first_approach']*x + mdf2.params['Intercept']\n",
    "ax.plot(x, y, color='black')\n",
    "\n",
    "\n",
    "if 1:\n",
    "    # show the confidence interval around the slope and mean\n",
    "    conf95 = mdf2.conf_int(alpha=0.05, cols=None)\n",
    "    input_coeff_conf_lo = conf95[0]['time_of_first_approach']\n",
    "    input_coeff_conf_hi = conf95[1]['time_of_first_approach']\n",
    "    \n",
    "    intercept_conf_lo = conf95[0]['Intercept']\n",
    "    intercept_conf_hi = conf95[1]['Intercept']\n",
    "    \n",
    "    y_hi_hi = input_coeff_conf_hi*x + intercept_conf_hi\n",
    "    y_hi_lo = input_coeff_conf_hi*x + intercept_conf_lo\n",
    "    y_lo_hi = input_coeff_conf_lo*x + intercept_conf_hi\n",
    "    y_lo_lo = input_coeff_conf_lo*x + intercept_conf_lo\n",
    "    \n",
    "    y = np.vstack([y_hi_hi, y_hi_lo, y_lo_hi, y_lo_lo])\n",
    "    y = np.sort(y, axis=0)\n",
    "    \n",
    "    ax.fill_between(x, y[0,:], y[-1,:], facecolor='gray', edgecolor='none', alpha=0.3)\n",
    "    \n",
    "    \n",
    "    \n",
    "yticks = [10**1, 10**2, 10**3, 10**4]\n",
    "yticklabels = ['$10^1$', '$10^2$', '$10^3$', '$10^4$']\n",
    "\n",
    "xticks = [10**0, 10**1, 10**2, 10**3]\n",
    "xticklabels = ['$10^0$', '$10^1$', '$10^2$', '$10^3$']\n",
    "\n",
    "fifi.mpl_functions.adjust_spines(ax, ['left', 'bottom'], \n",
    "                                 yticks=np.log(yticks), \n",
    "                                 xticks=np.log(xticks),\n",
    "                                 linewidth=0.5, tick_length=2.5, \n",
    "                                 spine_locations={'left': 2.5, 'bottom': 2.5})\n",
    "ax.set_yticklabels(yticklabels)\n",
    "ax.set_xticklabels(xticklabels)\n",
    "ax.minorticks_off()\n",
    "\n",
    "fifi.mpl_functions.set_fontsize(ax.figure, 6)\n",
    "layout.append_figure_to_layer(layout.figures['distance_v_time'], 'distance_v_time', cleartarget=True)\n",
    "layout.write_svg(fififig)"
   ]
  },
  {
   "cell_type": "code",
   "execution_count": null,
   "metadata": {},
   "outputs": [],
   "source": []
  },
  {
   "cell_type": "markdown",
   "metadata": {},
   "source": [
    "### Much more likely to approach if landing on the center platform!\n",
    "\n",
    "Perhaps because they are likely flying in the plume, and then landing?"
   ]
  },
  {
   "cell_type": "code",
   "execution_count": 15,
   "metadata": {},
   "outputs": [],
   "source": [
    "log_df = copy.copy(df)\n",
    "log_df['log_distance_travelled'] = np.log(df.distance_travelled)\n",
    "log_df['log_interval'] = np.log(df.interval)"
   ]
  },
  {
   "cell_type": "code",
   "execution_count": 16,
   "metadata": {},
   "outputs": [],
   "source": [
    "log_df['approached_odor_binary'] = (log_df.approached_odor+1)/2."
   ]
  },
  {
   "cell_type": "code",
   "execution_count": 17,
   "metadata": {},
   "outputs": [
    {
     "data": {
      "text/plain": [
       "<matplotlib.text.Text at 0x7fbb13d0eb10>"
      ]
     },
     "execution_count": 17,
     "metadata": {},
     "output_type": "execute_result"
    },
    {
     "data": {
      "image/png": "[encoded data removed]",
      "text/plain": [
       "<matplotlib.figure.Figure at 0x7fbb12c6e910>"
      ]
     },
     "metadata": {},
     "output_type": "display_data"
    }
   ],
   "source": [
    "fig = plt.figure()\n",
    "ax = fig.add_subplot(111)\n",
    "\n",
    "fpl.scatter_box(ax, 1, log_df.query(\"camera=='left_camera'\").approached_odor_binary.dropna().values, \n",
    "                color='black', markersize=5, use='mean', hide_markers=True)\n",
    "\n",
    "fpl.scatter_box(ax, 3, log_df.query(\"camera=='right_camera'\").approached_odor_binary.dropna().values, \n",
    "                color='black', markersize=5, use='mean', hide_markers=True)\n",
    "\n",
    "fpl.scatter_box(ax, 2, log_df.query(\"camera=='center_camera'\").approached_odor_binary.dropna().values, \n",
    "                color='black', markersize=5, use='mean', hide_markers=True)\n",
    "\n",
    "fifi.mpl_functions.adjust_spines(ax, ['left', 'bottom'], \n",
    "                                 xticks=[1, 2, 3],\n",
    "                                 linewidth=0.5, tick_length=2.5, \n",
    "                                 spine_locations={'left': 2.5, 'bottom': 2.5})\n",
    "\n",
    "ax.set_xticklabels(['left', 'right', 'middle'])\n",
    "\n",
    "ax.set_ylabel('approached')"
   ]
  },
  {
   "cell_type": "code",
   "execution_count": 18,
   "metadata": {},
   "outputs": [
    {
     "data": {
      "text/plain": [
       "(0.0, 0.653, 0.0)"
      ]
     },
     "execution_count": 18,
     "metadata": {},
     "output_type": "execute_result"
    }
   ],
   "source": [
    "flystat.resampling.calc_statistical_significance_through_resampling(\\\n",
    "                log_df.query(\"camera=='left_camera'\").approached_odor_binary.dropna().values,\n",
    "                log_df.query(\"camera=='center_camera'\").approached_odor_binary.dropna().values)"
   ]
  },
  {
   "cell_type": "markdown",
   "metadata": {},
   "source": [
    "### FIFI"
   ]
  },
  {
   "cell_type": "code",
   "execution_count": 19,
   "metadata": {
    "scrolled": true
   },
   "outputs": [
    {
     "data": {
      "image/png": "[encoded data removed]",
      "text/plain": [
       "<matplotlib.figure.Figure at 0x7fbb12774890>"
      ]
     },
     "metadata": {},
     "output_type": "display_data"
    },
    {
     "data": {
      "image/png": "[encoded data removed]",
      "text/plain": [
       "<matplotlib.figure.Figure at 0x7fbb13f0bc50>"
      ]
     },
     "metadata": {},
     "output_type": "display_data"
    },
    {
     "data": {
      "image/png": "[encoded data removed]",
      "text/plain": [
       "<matplotlib.figure.Figure at 0x7fbb128b1810>"
      ]
     },
     "metadata": {},
     "output_type": "display_data"
    },
    {
     "data": {
      "image/png": "[encoded data removed]",
      "text/plain": [
       "<matplotlib.figure.Figure at 0x7fbb13e39550>"
      ]
     },
     "metadata": {},
     "output_type": "display_data"
    },
    {
     "data": {
      "image/png": "[encoded data removed]",
      "text/plain": [
       "<matplotlib.figure.Figure at 0x7fbb12a2fed0>"
      ]
     },
     "metadata": {},
     "output_type": "display_data"
    },
    {
     "data": {
      "image/png": "[encoded data removed]",
      "text/plain": [
       "<matplotlib.figure.Figure at 0x7fbb12c21690>"
      ]
     },
     "metadata": {},
     "output_type": "display_data"
    },
    {
     "data": {
      "image/png": "[encoded data removed]",
      "text/plain": [
       "<matplotlib.figure.Figure at 0x7fbb59f98d50>"
      ]
     },
     "metadata": {},
     "output_type": "display_data"
    },
    {
     "data": {
      "image/png": "[encoded data removed]",
      "text/plain": [
       "<matplotlib.figure.Figure at 0x7fbb1423e090>"
      ]
     },
     "metadata": {},
     "output_type": "display_data"
    },
    {
     "data": {
      "image/png": "[encoded data removed]",
      "text/plain": [
       "<matplotlib.figure.Figure at 0x7fbb59f24290>"
      ]
     },
     "metadata": {},
     "output_type": "display_data"
    },
    {
     "data": {
      "image/png": "[encoded data removed]",
      "text/plain": [
       "<matplotlib.figure.Figure at 0x7fbb13d4d190>"
      ]
     },
     "metadata": {},
     "output_type": "display_data"
    },
    {
     "data": {
      "image/png": "[encoded data removed]",
      "text/plain": [
       "<matplotlib.figure.Figure at 0x7fbb12c3b9d0>"
      ]
     },
     "metadata": {},
     "output_type": "display_data"
    },
    {
     "data": {
      "image/png": "[encoded data removed]",
      "text/plain": [
       "<matplotlib.figure.Figure at 0x7fbb12913b10>"
      ]
     },
     "metadata": {},
     "output_type": "display_data"
    },
    {
     "data": {
      "image/png": "[encoded data removed]",
      "text/plain": [
       "<matplotlib.figure.Figure at 0x7fbb59ef9f10>"
      ]
     },
     "metadata": {},
     "output_type": "display_data"
    },
    {
     "data": {
      "image/png": "[encoded data removed]",
      "text/plain": [
       "<matplotlib.figure.Figure at 0x7fbb13cd4710>"
      ]
     },
     "metadata": {},
     "output_type": "display_data"
    },
    {
     "data": {
      "image/png": "[encoded data removed]",
      "text/plain": [
       "<matplotlib.figure.Figure at 0x7fbb12da3910>"
      ]
     },
     "metadata": {},
     "output_type": "display_data"
    }
   ],
   "source": [
    "layout = fifi.svg_to_axes.FigureLayout(fififig, autogenlayers=True, \n",
    "                                       make_mplfigures=True, hide_layers=[])\n",
    "ax = layout.axes[('approaches_v_patch', 'approaches_v_patch')]\n",
    "\n",
    "fpl.scatter_box(ax, 1, log_df.query(\"camera=='left_camera'\").approached_odor_binary.dropna().values, \n",
    "                color='black', markersize=5, use='mean', hide_markers=True)\n",
    "\n",
    "fpl.scatter_box(ax, 3, log_df.query(\"camera=='right_camera'\").approached_odor_binary.dropna().values, \n",
    "                color='black', markersize=5, use='mean', hide_markers=True)\n",
    "\n",
    "fpl.scatter_box(ax, 2, log_df.query(\"camera=='center_camera'\").approached_odor_binary.dropna().values, \n",
    "                color='black', markersize=5, use='mean', hide_markers=True)\n",
    "\n",
    "#ax.set_yscale('log')\n",
    "#ax.set_xscale('log')\n",
    "\n",
    "#ax.set_ylim(2.2,9.22)\n",
    "#ax.set_xlim(0, 7)\n",
    "ax.set_xlim(0.5, 3.5)\n",
    "ax.set_ylim(0, 1)\n",
    "yticks = [0, 1]\n",
    "yticklabels = ['$0$', '$1$']\n",
    "\n",
    "xticks = [1, 2, 3]\n",
    "xticklabels = ['', '', '']\n",
    "\n",
    "\n",
    "fifi.mpl_functions.adjust_spines(ax, ['left', 'bottom'], \n",
    "                                 yticks=yticks, \n",
    "                                 xticks=xticks,\n",
    "                                 linewidth=0.5, tick_length=2.5, \n",
    "                                 spine_locations={'left': 2.5, 'bottom': 2.5})\n",
    "ax.set_yticklabels(yticklabels)\n",
    "ax.set_xticklabels(xticklabels)\n",
    "ax.minorticks_off()\n",
    "\n",
    "fifi.mpl_functions.set_fontsize(ax.figure, 6)\n",
    "layout.append_figure_to_layer(layout.figures['approaches_v_patch'], 'approaches_v_patch', cleartarget=True)\n",
    "layout.write_svg(fififig)"
   ]
  },
  {
   "cell_type": "markdown",
   "metadata": {},
   "source": [
    "### Interval for each platform"
   ]
  },
  {
   "cell_type": "code",
   "execution_count": 20,
   "metadata": {},
   "outputs": [
    {
     "data": {
      "image/png": "[encoded data removed]",
      "text/plain": [
       "<matplotlib.figure.Figure at 0x7fbb12c79ad0>"
      ]
     },
     "metadata": {},
     "output_type": "display_data"
    }
   ],
   "source": [
    "fig = plt.figure()\n",
    "ax = fig.add_subplot(111)\n",
    "\n",
    "fpl.scatter_box(ax, 1, log_df.query(\"camera=='left_camera'\").interval.dropna().values, \n",
    "                color='black', markersize=5, use='median', hide_markers=False)\n",
    "\n",
    "fpl.scatter_box(ax, 3, log_df.query(\"camera=='right_camera'\").interval.dropna().values, \n",
    "                color='black', markersize=5, use='median', hide_markers=False)\n",
    "\n",
    "fpl.scatter_box(ax, 2, log_df.query(\"camera=='center_camera'\").interval.dropna().values, \n",
    "                color='black', markersize=5, use='median', hide_markers=False)\n",
    "\n",
    "\n",
    "\n",
    "ax.set_xticklabels(['left', 'middle', 'right'])\n",
    "\n",
    "ax.set_ylabel('interval')\n",
    "\n",
    "ax.set_yscale('log')\n",
    "\n",
    "fifi.mpl_functions.adjust_spines(ax, ['left', 'bottom'], \n",
    "                                 xticks=[1, 2, 3],\n",
    "                                 yticks=[10**2, 10**3, 10**4],\n",
    "                                 linewidth=0.5, tick_length=2.5, \n",
    "                                 spine_locations={'left': 2.5, 'bottom': 2.5})"
   ]
  },
  {
   "cell_type": "code",
   "execution_count": 21,
   "metadata": {},
   "outputs": [
    {
     "data": {
      "text/plain": [
       "(0.42399999999999993, 0.034, 0.035)"
      ]
     },
     "execution_count": 21,
     "metadata": {},
     "output_type": "execute_result"
    }
   ],
   "source": [
    "flystat.resampling.calc_statistical_significance_through_resampling(\\\n",
    "                log_df.query(\"camera=='right_camera'\").log_interval.dropna().values,\n",
    "                log_df.query(\"camera=='center_camera'\").log_interval.dropna().values)"
   ]
  },
  {
   "cell_type": "code",
   "execution_count": 22,
   "metadata": {},
   "outputs": [
    {
     "data": {
      "text/plain": [
       "(0.43599999999999994, 0.047, 0.019)"
      ]
     },
     "execution_count": 22,
     "metadata": {},
     "output_type": "execute_result"
    }
   ],
   "source": [
    "flystat.resampling.calc_statistical_significance_through_resampling(\\\n",
    "                log_df.query(\"camera=='right_camera'\").interval.dropna().values,\n",
    "                log_df.query(\"camera=='center_camera'\").interval.dropna().values)"
   ]
  },
  {
   "cell_type": "markdown",
   "metadata": {},
   "source": [
    "#### Interval is no different. This is just another way of seeing that the interval and approaches are in fact independent\n",
    "\n",
    "This suggests that the explanation is not that flies land on the downwind platform. "
   ]
  },
  {
   "cell_type": "code",
   "execution_count": 23,
   "metadata": {},
   "outputs": [
    {
     "data": {
      "image/png": "[encoded data removed]",
      "text/plain": [
       "<matplotlib.figure.Figure at 0x7fbb5cfba550>"
      ]
     },
     "metadata": {},
     "output_type": "display_data"
    },
    {
     "data": {
      "image/png": "[encoded data removed]",
      "text/plain": [
       "<matplotlib.figure.Figure at 0x7fbb5ce79a10>"
      ]
     },
     "metadata": {},
     "output_type": "display_data"
    },
    {
     "data": {
      "image/png": "[encoded data removed]",
      "text/plain": [
       "<matplotlib.figure.Figure at 0x7fbb5d012650>"
      ]
     },
     "metadata": {},
     "output_type": "display_data"
    },
    {
     "data": {
      "image/png": "[encoded data removed]",
      "text/plain": [
       "<matplotlib.figure.Figure at 0x7fbb0f300650>"
      ]
     },
     "metadata": {},
     "output_type": "display_data"
    },
    {
     "data": {
      "image/png": "[encoded data removed]",
      "text/plain": [
       "<matplotlib.figure.Figure at 0x7fbb64581390>"
      ]
     },
     "metadata": {},
     "output_type": "display_data"
    },
    {
     "data": {
      "image/png": "[encoded data removed]",
      "text/plain": [
       "<matplotlib.figure.Figure at 0x7fbb12785450>"
      ]
     },
     "metadata": {},
     "output_type": "display_data"
    },
    {
     "data": {
      "image/png": "[encoded data removed]",
      "text/plain": [
       "<matplotlib.figure.Figure at 0x7fbb64b717d0>"
      ]
     },
     "metadata": {},
     "output_type": "display_data"
    },
    {
     "data": {
      "image/png": "[encoded data removed]",
      "text/plain": [
       "<matplotlib.figure.Figure at 0x7fbb653a0450>"
      ]
     },
     "metadata": {},
     "output_type": "display_data"
    },
    {
     "data": {
      "image/png": "[encoded data removed]",
      "text/plain": [
       "<matplotlib.figure.Figure at 0x7fbb64a24350>"
      ]
     },
     "metadata": {},
     "output_type": "display_data"
    },
    {
     "data": {
      "image/png": "[encoded data removed]",
      "text/plain": [
       "<matplotlib.figure.Figure at 0x7fbb127c5890>"
      ]
     },
     "metadata": {},
     "output_type": "display_data"
    },
    {
     "data": {
      "image/png": "[encoded data removed]",
      "text/plain": [
       "<matplotlib.figure.Figure at 0x7fbb0f270bd0>"
      ]
     },
     "metadata": {},
     "output_type": "display_data"
    },
    {
     "data": {
      "image/png": "[encoded data removed]",
      "text/plain": [
       "<matplotlib.figure.Figure at 0x7fbb59e08f90>"
      ]
     },
     "metadata": {},
     "output_type": "display_data"
    },
    {
     "data": {
      "image/png": "[encoded data removed]",
      "text/plain": [
       "<matplotlib.figure.Figure at 0x7fbb68e1de10>"
      ]
     },
     "metadata": {},
     "output_type": "display_data"
    },
    {
     "data": {
      "image/png": "[encoded data removed]",
      "text/plain": [
       "<matplotlib.figure.Figure at 0x7fbb13e6e510>"
      ]
     },
     "metadata": {},
     "output_type": "display_data"
    },
    {
     "data": {
      "image/png": "[encoded data removed]",
      "text/plain": [
       "<matplotlib.figure.Figure at 0x7fbb144cce50>"
      ]
     },
     "metadata": {},
     "output_type": "display_data"
    }
   ],
   "source": [
    "layout = fifi.svg_to_axes.FigureLayout(fififig, autogenlayers=True, \n",
    "                                       make_mplfigures=True, hide_layers=[])\n",
    "ax = layout.axes[('interval_v_patch', 'interval_v_patch')]\n",
    "\n",
    "fpl.scatter_box(ax, 1, log_df.query(\"camera=='left_camera'\").interval.dropna().values, \n",
    "                color='black', markersize=1, use='median', hide_markers=False)\n",
    "\n",
    "fpl.scatter_box(ax, 3, log_df.query(\"camera=='right_camera'\").interval.dropna().values, \n",
    "                color='black', markersize=1, use='median', hide_markers=False)\n",
    "\n",
    "fpl.scatter_box(ax, 2, log_df.query(\"camera=='center_camera'\").interval.dropna().values, \n",
    "                color='black', markersize=1, use='median', hide_markers=False)\n",
    "\n",
    "#ax.set_yscale('log')\n",
    "#ax.set_xscale('log')\n",
    "\n",
    "#ax.set_ylim(2.2,9.22)\n",
    "#ax.set_xlim(0, 7)\n",
    "ax.set_xlim(0.5, 3.5)\n",
    "ax.set_ylim(10**-1, 10**5)\n",
    "\n",
    "xticks = [1, 2, 3]\n",
    "xticklabels = ['', '', '']\n",
    "\n",
    "\n",
    "ax.set_yscale('log')\n",
    "\n",
    "#ax.set_ylim(2.2,9.22)\n",
    "#ax.set_xlim(0, 7)\n",
    "\n",
    "yticks = [10**-1, 1, 10**1, 10**2, 10**3, 10**4, 10**5]\n",
    "yticklabels = ['$10^{-1}$', '$10^0$', '$10^1$', '$10^2$', '$10^3$', '$10^4$', '$10^5$']\n",
    "\n",
    "\n",
    "fifi.mpl_functions.adjust_spines(ax, ['left', 'bottom'], \n",
    "                                 yticks=yticks, \n",
    "                                 xticks=xticks,\n",
    "                                 linewidth=0.5, tick_length=2.5, \n",
    "                                 spine_locations={'left': 2.5, 'bottom': 2.5})\n",
    "ax.set_xticklabels(xticklabels)\n",
    "ax.set_yticklabels(yticklabels)\n",
    "ax.minorticks_off()\n",
    "\n",
    "fifi.mpl_functions.set_fontsize(ax.figure, 6)\n",
    "layout.append_figure_to_layer(layout.figures['interval_v_patch'], 'interval_v_patch', cleartarget=True)\n",
    "layout.write_svg(fififig)\n"
   ]
  },
  {
   "cell_type": "markdown",
   "metadata": {},
   "source": [
    "## Digging into the approach vs no approach more\n",
    "\n",
    "Why are flies that land on center platform more likely to approach? \n",
    "\n",
    "Perhaps it has to do with where on the platform they land. \n",
    "\n",
    "All the flies land on downwind end. "
   ]
  },
  {
   "cell_type": "code",
   "execution_count": 24,
   "metadata": {},
   "outputs": [],
   "source": [
    "left_camera = {'x': 335, 'y': 263, 'r': 229}\n",
    "right_camera = {'x':385, 'y':248, 'r': 232}\n",
    "center_camera = {'x': 356, 'y':259, 'r':191}"
   ]
  },
  {
   "cell_type": "code",
   "execution_count": 25,
   "metadata": {},
   "outputs": [],
   "source": [
    "angles_of_landing = []\n",
    "approach_stats = []\n",
    "distances_travelled = []\n",
    "speeds = []"
   ]
  },
  {
   "cell_type": "code",
   "execution_count": 26,
   "metadata": {},
   "outputs": [],
   "source": [
    "log_df['angle_of_landing'] = 0"
   ]
  },
  {
   "cell_type": "code",
   "execution_count": 27,
   "metadata": {},
   "outputs": [
    {
     "name": "stderr",
     "output_type": "stream",
     "text": [
      "/usr/local/lib/python2.7/dist-packages/ipykernel_launcher.py:22: SettingWithCopyWarning: \n",
      "A value is trying to be set on a copy of a slice from a DataFrame\n",
      "\n",
      "See the caveats in the documentation: http://pandas.pydata.org/pandas-docs/stable/indexing.html#indexing-view-versus-copy\n"
     ]
    },
    {
     "name": "stdout",
     "output_type": "stream",
     "text": [
      "0.472222222222\n"
     ]
    },
    {
     "data": {
      "image/png": "[encoded data removed]",
      "text/plain": [
       "<matplotlib.figure.Figure at 0x7fbb645ac5d0>"
      ]
     },
     "metadata": {},
     "output_type": "display_data"
    },
    {
     "data": {
      "image/png": "[encoded data removed]",
      "text/plain": [
       "<matplotlib.figure.Figure at 0x7fbb129c8c10>"
      ]
     },
     "metadata": {},
     "output_type": "display_data"
    },
    {
     "data": {
      "image/png": "[encoded data removed]",
      "text/plain": [
       "<matplotlib.figure.Figure at 0x7fbb13ba01d0>"
      ]
     },
     "metadata": {},
     "output_type": "display_data"
    },
    {
     "data": {
      "image/png": "[encoded data removed]",
      "text/plain": [
       "<matplotlib.figure.Figure at 0x7fbb0eb941d0>"
      ]
     },
     "metadata": {},
     "output_type": "display_data"
    },
    {
     "data": {
      "image/png": "[encoded data removed]",
      "text/plain": [
       "<matplotlib.figure.Figure at 0x7fbb13d0ee10>"
      ]
     },
     "metadata": {},
     "output_type": "display_data"
    },
    {
     "data": {
      "image/png": "[encoded data removed]",
      "text/plain": [
       "<matplotlib.figure.Figure at 0x7fbb59f69e50>"
      ]
     },
     "metadata": {},
     "output_type": "display_data"
    },
    {
     "data": {
      "image/png": "[encoded data removed]",
      "text/plain": [
       "<matplotlib.figure.Figure at 0x7fbb5d1862d0>"
      ]
     },
     "metadata": {},
     "output_type": "display_data"
    },
    {
     "data": {
      "image/png": "[encoded data removed]",
      "text/plain": [
       "<matplotlib.figure.Figure at 0x7fbb1423ea50>"
      ]
     },
     "metadata": {},
     "output_type": "display_data"
    },
    {
     "data": {
      "image/png": "[encoded data removed]",
      "text/plain": [
       "<matplotlib.figure.Figure at 0x7fbb68e790d0>"
      ]
     },
     "metadata": {},
     "output_type": "display_data"
    },
    {
     "data": {
      "image/png": "[encoded data removed]",
      "text/plain": [
       "<matplotlib.figure.Figure at 0x7fbb12a4e1d0>"
      ]
     },
     "metadata": {},
     "output_type": "display_data"
    },
    {
     "data": {
      "image/png": "[encoded data removed]",
      "text/plain": [
       "<matplotlib.figure.Figure at 0x7fbb12b93350>"
      ]
     },
     "metadata": {},
     "output_type": "display_data"
    },
    {
     "data": {
      "image/png": "[encoded data removed]",
      "text/plain": [
       "<matplotlib.figure.Figure at 0x7fbb5d0ea410>"
      ]
     },
     "metadata": {},
     "output_type": "display_data"
    },
    {
     "data": {
      "image/png": "[encoded data removed]",
      "text/plain": [
       "<matplotlib.figure.Figure at 0x7fbb129533d0>"
      ]
     },
     "metadata": {},
     "output_type": "display_data"
    },
    {
     "data": {
      "image/png": "[encoded data removed]",
      "text/plain": [
       "<matplotlib.figure.Figure at 0x7fbb140554d0>"
      ]
     },
     "metadata": {},
     "output_type": "display_data"
    },
    {
     "data": {
      "image/png": "[encoded data removed]",
      "text/plain": [
       "<matplotlib.figure.Figure at 0x7fbb5d287ad0>"
      ]
     },
     "metadata": {},
     "output_type": "display_data"
    }
   ],
   "source": [
    "#fig = plt.figure()\n",
    "#ax = fig.add_subplot(111)\n",
    "layout = fifi.svg_to_axes.FigureLayout(fififig, autogenlayers=True, \n",
    "                                       make_mplfigures=True, hide_layers=[])\n",
    "ax = layout.axes[('landings_right', 'landings_right')]\n",
    "\n",
    "upwind = 0\n",
    "downwind = 0\n",
    "for i in range(len(df)):\n",
    "    try:\n",
    "        if df['camera'][i] == 'right_camera':\n",
    "            data = pandas.read_hdf('data/' + df['all_trajec_ids'][i])\n",
    "            ax.scatter(data.pos_x_mm[0], -1*data.pos_y_mm[0], c=df['approached_odor'][i], \n",
    "                       cmap='bone_r', vmin=-1, vmax=1, s=5, linewidth=0.25)\n",
    "            \n",
    "            \n",
    "            angle_from_downwind = np.abs( np.arctan2(data.pos_y_mm[0], np.abs(data.pos_x_mm[0]) )*180/np.pi - 90 )\n",
    "            angles_of_landing.append(angle_from_downwind)\n",
    "            approach_stats.append(df['approached_odor'][i])\n",
    "            distances_travelled.append(df['distance_travelled'][i])\n",
    "            speeds.append(df['speed'][i])\n",
    "            log_df.angle_of_landing[i] = angle_from_downwind\n",
    "            if angle_from_downwind > 45:\n",
    "                upwind += 1\n",
    "            else:\n",
    "                downwind += 1\n",
    "                \n",
    "    except:\n",
    "        pass\n",
    "    \n",
    "print( (downwind)/float(downwind+upwind) )\n",
    "\n",
    "ax.set_aspect('equal')\n",
    "ax.set_xlim(-60, 60)\n",
    "ax.set_ylim(-60,60)\n",
    "fifi.mpl_functions.adjust_spines(ax, [])\n",
    "\n",
    "\n",
    "circle = patches.Circle([0, 0], radius=108/2.,\n",
    "                       facecolor='gray', edgecolor='none', alpha=0.3, zorder=-10)\n",
    "ax.add_artist(circle)\n",
    "circle = patches.Circle([0, 0], radius=0.4*108/2.,\n",
    "                       facecolor='white', edgecolor='none', alpha=1, zorder=-9)\n",
    "ax.add_artist(circle)\n",
    "circle = patches.Circle([0, 0], radius=0.4*108/2.,\n",
    "                       facecolor='red', edgecolor='none', alpha=0.3, zorder=-8)\n",
    "ax.add_artist(circle)\n",
    "\n",
    "\n",
    "\n",
    "layout.append_figure_to_layer(layout.figures['landings_right'], 'landings_right', cleartarget=True)\n",
    "layout.write_svg(fififig)"
   ]
  },
  {
   "cell_type": "code",
   "execution_count": null,
   "metadata": {},
   "outputs": [],
   "source": []
  },
  {
   "cell_type": "code",
   "execution_count": 28,
   "metadata": {},
   "outputs": [
    {
     "name": "stderr",
     "output_type": "stream",
     "text": [
      "/usr/local/lib/python2.7/dist-packages/ipykernel_launcher.py:23: SettingWithCopyWarning: \n",
      "A value is trying to be set on a copy of a slice from a DataFrame\n",
      "\n",
      "See the caveats in the documentation: http://pandas.pydata.org/pandas-docs/stable/indexing.html#indexing-view-versus-copy\n"
     ]
    },
    {
     "name": "stdout",
     "output_type": "stream",
     "text": [
      "0.530612244898\n"
     ]
    },
    {
     "data": {
      "image/png": "[encoded data removed]",
      "text/plain": [
       "<matplotlib.figure.Figure at 0x7fbb127a5650>"
      ]
     },
     "metadata": {},
     "output_type": "display_data"
    },
    {
     "data": {
      "image/png": "[encoded data removed]",
      "text/plain": [
       "<matplotlib.figure.Figure at 0x7fbb13ce5110>"
      ]
     },
     "metadata": {},
     "output_type": "display_data"
    },
    {
     "data": {
      "image/png": "[encoded data removed]",
      "text/plain": [
       "<matplotlib.figure.Figure at 0x7fbb129c8c90>"
      ]
     },
     "metadata": {},
     "output_type": "display_data"
    },
    {
     "data": {
      "image/png": "[encoded data removed]",
      "text/plain": [
       "<matplotlib.figure.Figure at 0x7fbb653a44d0>"
      ]
     },
     "metadata": {},
     "output_type": "display_data"
    },
    {
     "data": {
      "image/png": "[encoded data removed]",
      "text/plain": [
       "<matplotlib.figure.Figure at 0x7fbb13fe8650>"
      ]
     },
     "metadata": {},
     "output_type": "display_data"
    },
    {
     "data": {
      "image/png": "[encoded data removed]",
      "text/plain": [
       "<matplotlib.figure.Figure at 0x7fbb5cfc53d0>"
      ]
     },
     "metadata": {},
     "output_type": "display_data"
    },
    {
     "data": {
      "image/png": "[encoded data removed]",
      "text/plain": [
       "<matplotlib.figure.Figure at 0x7fbb5cf796d0>"
      ]
     },
     "metadata": {},
     "output_type": "display_data"
    },
    {
     "data": {
      "image/png": "[encoded data removed]",
      "text/plain": [
       "<matplotlib.figure.Figure at 0x7fbb59f98f50>"
      ]
     },
     "metadata": {},
     "output_type": "display_data"
    },
    {
     "data": {
      "image/png": "[encoded data removed]",
      "text/plain": [
       "<matplotlib.figure.Figure at 0x7fbb13e6ea10>"
      ]
     },
     "metadata": {},
     "output_type": "display_data"
    },
    {
     "data": {
      "image/png": "[encoded data removed]",
      "text/plain": [
       "<matplotlib.figure.Figure at 0x7fbb12cced50>"
      ]
     },
     "metadata": {},
     "output_type": "display_data"
    },
    {
     "data": {
      "image/png": "[encoded data removed]",
      "text/plain": [
       "<matplotlib.figure.Figure at 0x7fbb1752bad0>"
      ]
     },
     "metadata": {},
     "output_type": "display_data"
    },
    {
     "data": {
      "image/png": "[encoded data removed]",
      "text/plain": [
       "<matplotlib.figure.Figure at 0x7fbb5cb64f10>"
      ]
     },
     "metadata": {},
     "output_type": "display_data"
    },
    {
     "data": {
      "image/png": "[encoded data removed]",
      "text/plain": [
       "<matplotlib.figure.Figure at 0x7fbb5c739610>"
      ]
     },
     "metadata": {},
     "output_type": "display_data"
    },
    {
     "data": {
      "image/png": "[encoded data removed]",
      "text/plain": [
       "<matplotlib.figure.Figure at 0x7fbb5a29ba90>"
      ]
     },
     "metadata": {},
     "output_type": "display_data"
    },
    {
     "data": {
      "image/png": "[encoded data removed]",
      "text/plain": [
       "<matplotlib.figure.Figure at 0x7fbb63b33a10>"
      ]
     },
     "metadata": {},
     "output_type": "display_data"
    }
   ],
   "source": [
    "#fig = plt.figure()\n",
    "#ax = fig.add_subplot(111)\n",
    "layout = fifi.svg_to_axes.FigureLayout(fififig, autogenlayers=True, \n",
    "                                       make_mplfigures=True, hide_layers=[])\n",
    "ax = layout.axes[('landings_left', 'landings_left')]\n",
    "\n",
    "\n",
    "upwind = 0\n",
    "downwind = 0\n",
    "for i in range(len(df)):\n",
    "    try:\n",
    "        if df['camera'][i] == 'left_camera':\n",
    "            data = pandas.read_hdf('data/' + df['all_trajec_ids'][i])\n",
    "            ax.scatter(data.pos_x_mm[0], -1*data.pos_y_mm[0], c=df['approached_odor'][i], \n",
    "                       cmap='bone_r', vmin=-1, vmax=1, s=5, linewidth=0.25)\n",
    "            \n",
    "            \n",
    "            angle_from_downwind = np.abs( np.arctan2(data.pos_y_mm[0], np.abs(data.pos_x_mm[0]) )*180/np.pi - 90 )\n",
    "            angles_of_landing.append(angle_from_downwind)\n",
    "            approach_stats.append(df['approached_odor'][i])\n",
    "            distances_travelled.append(df['distance_travelled'][i])\n",
    "            speeds.append(df['speed'][i])\n",
    "            log_df.angle_of_landing[i] = angle_from_downwind\n",
    "            if angle_from_downwind > 45:\n",
    "                upwind += 1\n",
    "            else:\n",
    "                downwind += 1\n",
    "                \n",
    "    except:\n",
    "        pass\n",
    "    \n",
    "print( (downwind)/float(downwind+upwind) )\n",
    "\n",
    "ax.set_aspect('equal')\n",
    "ax.set_xlim(-60, 60)\n",
    "ax.set_ylim(-60,60)\n",
    "fifi.mpl_functions.adjust_spines(ax, [])\n",
    "\n",
    "circle = patches.Circle([0, 0], radius=108/2.,\n",
    "                       facecolor='gray', edgecolor='none', alpha=0.3, zorder=-10)\n",
    "ax.add_artist(circle)\n",
    "circle = patches.Circle([0, 0], radius=0.4*108/2.,\n",
    "                       facecolor='white', edgecolor='none', alpha=1, zorder=-9)\n",
    "ax.add_artist(circle)\n",
    "circle = patches.Circle([0, 0], radius=0.4*108/2.,\n",
    "                       facecolor='red', edgecolor='none', alpha=0.3, zorder=-8)\n",
    "ax.add_artist(circle)\n",
    "\n",
    "layout.append_figure_to_layer(layout.figures['landings_left'], 'landings_left', cleartarget=True)\n",
    "layout.write_svg(fififig)"
   ]
  },
  {
   "cell_type": "code",
   "execution_count": 29,
   "metadata": {},
   "outputs": [
    {
     "name": "stderr",
     "output_type": "stream",
     "text": [
      "/usr/local/lib/python2.7/dist-packages/ipykernel_launcher.py:23: SettingWithCopyWarning: \n",
      "A value is trying to be set on a copy of a slice from a DataFrame\n",
      "\n",
      "See the caveats in the documentation: http://pandas.pydata.org/pandas-docs/stable/indexing.html#indexing-view-versus-copy\n"
     ]
    },
    {
     "name": "stdout",
     "output_type": "stream",
     "text": [
      "0.732142857143\n"
     ]
    },
    {
     "data": {
      "image/png": "[encoded data removed]",
      "text/plain": [
       "<matplotlib.figure.Figure at 0x7fbb653a4e10>"
      ]
     },
     "metadata": {},
     "output_type": "display_data"
    },
    {
     "data": {
      "image/png": "[encoded data removed]",
      "text/plain": [
       "<matplotlib.figure.Figure at 0x7fbb636bffd0>"
      ]
     },
     "metadata": {},
     "output_type": "display_data"
    },
    {
     "data": {
      "image/png": "[encoded data removed]",
      "text/plain": [
       "<matplotlib.figure.Figure at 0x7fbb0f4b3090>"
      ]
     },
     "metadata": {},
     "output_type": "display_data"
    },
    {
     "data": {
      "image/png": "[encoded data removed]",
      "text/plain": [
       "<matplotlib.figure.Figure at 0x7fbb59e24790>"
      ]
     },
     "metadata": {},
     "output_type": "display_data"
    },
    {
     "data": {
      "image/png": "[encoded data removed]",
      "text/plain": [
       "<matplotlib.figure.Figure at 0x7fbb5d174b10>"
      ]
     },
     "metadata": {},
     "output_type": "display_data"
    },
    {
     "data": {
      "image/png": "[encoded data removed]",
      "text/plain": [
       "<matplotlib.figure.Figure at 0x7fbb636bc6d0>"
      ]
     },
     "metadata": {},
     "output_type": "display_data"
    },
    {
     "data": {
      "image/png": "[encoded data removed]",
      "text/plain": [
       "<matplotlib.figure.Figure at 0x7fbb59f03dd0>"
      ]
     },
     "metadata": {},
     "output_type": "display_data"
    },
    {
     "data": {
      "image/png": "[encoded data removed]",
      "text/plain": [
       "<matplotlib.figure.Figure at 0x7fbb5d1af090>"
      ]
     },
     "metadata": {},
     "output_type": "display_data"
    },
    {
     "data": {
      "image/png": "[encoded data removed]",
      "text/plain": [
       "<matplotlib.figure.Figure at 0x7fbb0e981a90>"
      ]
     },
     "metadata": {},
     "output_type": "display_data"
    },
    {
     "data": {
      "image/png": "[encoded data removed]",
      "text/plain": [
       "<matplotlib.figure.Figure at 0x7fbb0eb94a90>"
      ]
     },
     "metadata": {},
     "output_type": "display_data"
    },
    {
     "data": {
      "image/png": "[encoded data removed]",
      "text/plain": [
       "<matplotlib.figure.Figure at 0x7fbb59e49750>"
      ]
     },
     "metadata": {},
     "output_type": "display_data"
    },
    {
     "data": {
      "image/png": "[encoded data removed]",
      "text/plain": [
       "<matplotlib.figure.Figure at 0x7fbb5ce97090>"
      ]
     },
     "metadata": {},
     "output_type": "display_data"
    },
    {
     "data": {
      "image/png": "[encoded data removed]",
      "text/plain": [
       "<matplotlib.figure.Figure at 0x7fbb59ebee90>"
      ]
     },
     "metadata": {},
     "output_type": "display_data"
    },
    {
     "data": {
      "image/png": "[encoded data removed]",
      "text/plain": [
       "<matplotlib.figure.Figure at 0x7fbb63c57b90>"
      ]
     },
     "metadata": {},
     "output_type": "display_data"
    },
    {
     "data": {
      "image/png": "[encoded data removed]",
      "text/plain": [
       "<matplotlib.figure.Figure at 0x7fbb5d37fc50>"
      ]
     },
     "metadata": {},
     "output_type": "display_data"
    }
   ],
   "source": [
    "#fig = plt.figure()\n",
    "#ax = fig.add_subplot(111)\n",
    "layout = fifi.svg_to_axes.FigureLayout(fififig, autogenlayers=True, \n",
    "                                       make_mplfigures=True, hide_layers=[])\n",
    "ax = layout.axes[('landings_center', 'landings_center')]\n",
    "\n",
    "upwind = 0\n",
    "downwind = 0\n",
    "for i in range(len(df)):\n",
    "    try:\n",
    "        if df['camera'][i] == 'center_camera':\n",
    "            data = pandas.read_hdf('data/' + df['all_trajec_ids'][i])\n",
    "            ax.scatter(data.pos_x_mm[0], -1*data.pos_y_mm[0], c=df['approached_odor'][i], \n",
    "                       cmap='bone_r', vmin=-1, vmax=1, s=5, linewidth=0.25)\n",
    "            \n",
    "            \n",
    "            \n",
    "            angle_from_downwind = np.abs( np.arctan2(data.pos_y_mm[0], np.abs(data.pos_x_mm[0]) )*180/np.pi - 90 )\n",
    "            angles_of_landing.append(angle_from_downwind)\n",
    "            approach_stats.append(df['approached_odor'][i])\n",
    "            distances_travelled.append(df['distance_travelled'][i])\n",
    "            speeds.append(df['speed'][i])\n",
    "            log_df.angle_of_landing[i] = angle_from_downwind\n",
    "            if angle_from_downwind > 45:\n",
    "                upwind += 1\n",
    "            else:\n",
    "                downwind += 1\n",
    "                \n",
    "    except:\n",
    "        pass\n",
    "    \n",
    "print( (downwind)/float(downwind+upwind) )\n",
    "\n",
    "ax.set_aspect('equal')\n",
    "ax.set_xlim(-60, 60)\n",
    "ax.set_ylim(-60,60)\n",
    "fifi.mpl_functions.adjust_spines(ax, [])\n",
    "\n",
    "\n",
    "circle = patches.Circle([0, 0], radius=108/2.,\n",
    "                       facecolor='gray', edgecolor='none', alpha=0.3, zorder=-10)\n",
    "ax.add_artist(circle)\n",
    "circle = patches.Circle([0, 0], radius=0.4*108/2.,\n",
    "                       facecolor='white', edgecolor='none', alpha=1, zorder=-9)\n",
    "ax.add_artist(circle)\n",
    "circle = patches.Circle([0, 0], radius=0.4*108/2.,\n",
    "                       facecolor='red', edgecolor='none', alpha=0.3, zorder=-8)\n",
    "ax.add_artist(circle)\n",
    "\n",
    "# did not approach = white\n",
    "\n",
    "layout.append_figure_to_layer(layout.figures['landings_center'], 'landings_center', cleartarget=True)\n",
    "layout.write_svg(fififig)"
   ]
  },
  {
   "cell_type": "code",
   "execution_count": 30,
   "metadata": {},
   "outputs": [],
   "source": [
    "approach_stats = np.array(approach_stats)\n",
    "angles_of_landing = np.array(angles_of_landing)\n",
    "distances_travelled = np.array(distances_travelled)\n",
    "speeds = np.array(speeds)"
   ]
  },
  {
   "cell_type": "code",
   "execution_count": 31,
   "metadata": {},
   "outputs": [],
   "source": [
    "idx_appr = np.where(approach_stats==1)\n",
    "idx_noappr = np.where(approach_stats==-1)"
   ]
  },
  {
   "cell_type": "code",
   "execution_count": 32,
   "metadata": {},
   "outputs": [],
   "source": [
    "import fly_plot_lib.plot as fpl"
   ]
  },
  {
   "cell_type": "markdown",
   "metadata": {},
   "source": [
    "### No correlation between the angle at which flies land and whether they approach or not\n",
    "\n",
    "Not really surprising - should not be hard to find the odor on these patches."
   ]
  },
  {
   "cell_type": "code",
   "execution_count": 33,
   "metadata": {},
   "outputs": [
    {
     "data": {
      "text/plain": [
       "<matplotlib.text.Text at 0x7fbb59f0c310>"
      ]
     },
     "execution_count": 33,
     "metadata": {},
     "output_type": "execute_result"
    },
    {
     "data": {
      "image/png": "[encoded data removed]",
      "text/plain": [
       "<matplotlib.figure.Figure at 0x7fbb16039250>"
      ]
     },
     "metadata": {},
     "output_type": "display_data"
    }
   ],
   "source": [
    "fig = plt.figure()\n",
    "ax = fig.add_subplot(111)\n",
    "\n",
    "fpl.scatter_box(ax, 1, angles_of_landing[idx_appr], \n",
    "                color='black', markersize=5, use='mean')\n",
    "\n",
    "fpl.scatter_box(ax, 2, angles_of_landing[idx_noappr], \n",
    "                color='gray', markersize=5, use='mean')\n",
    "\n",
    "fifi.mpl_functions.adjust_spines(ax, ['left', 'bottom'], \n",
    "                                 xticks=[1, 2],\n",
    "                                 linewidth=0.5, tick_length=2.5, \n",
    "                                 spine_locations={'left': 2.5, 'bottom': 2.5})\n",
    "ax.set_xticklabels(['approached', 'did not\\napproach'])\n",
    "\n",
    "ax.set_ylabel('angle of landing')"
   ]
  },
  {
   "cell_type": "code",
   "execution_count": 34,
   "metadata": {},
   "outputs": [
    {
     "data": {
      "text/plain": [
       "(0.76, 0.027, 0.013)"
      ]
     },
     "execution_count": 34,
     "metadata": {},
     "output_type": "execute_result"
    }
   ],
   "source": [
    "flystat.resampling.calc_statistical_significance_through_resampling(angles_of_landing[idx_appr],\n",
    "                                                                    angles_of_landing[idx_noappr])"
   ]
  },
  {
   "cell_type": "code",
   "execution_count": 35,
   "metadata": {},
   "outputs": [
    {
     "data": {
      "text/plain": [
       "Ks_2sampResult(statistic=0.15957446808510634, pvalue=0.3716592394396068)"
      ]
     },
     "execution_count": 35,
     "metadata": {},
     "output_type": "execute_result"
    }
   ],
   "source": [
    "scipy.stats.ks_2samp(angles_of_landing[idx_appr], angles_of_landing[idx_noappr])"
   ]
  },
  {
   "cell_type": "code",
   "execution_count": 36,
   "metadata": {},
   "outputs": [
    {
     "data": {
      "image/png": "[encoded data removed]",
      "text/plain": [
       "<matplotlib.figure.Figure at 0x7fbb5d0837d0>"
      ]
     },
     "metadata": {},
     "output_type": "display_data"
    },
    {
     "data": {
      "image/png": "[encoded data removed]",
      "text/plain": [
       "<matplotlib.figure.Figure at 0x7fbb59f0c190>"
      ]
     },
     "metadata": {},
     "output_type": "display_data"
    },
    {
     "data": {
      "image/png": "[encoded data removed]",
      "text/plain": [
       "<matplotlib.figure.Figure at 0x7fbb652b54d0>"
      ]
     },
     "metadata": {},
     "output_type": "display_data"
    },
    {
     "data": {
      "image/png": "[encoded data removed]",
      "text/plain": [
       "<matplotlib.figure.Figure at 0x7fbb12b3c990>"
      ]
     },
     "metadata": {},
     "output_type": "display_data"
    },
    {
     "data": {
      "image/png": "[encoded data removed]",
      "text/plain": [
       "<matplotlib.figure.Figure at 0x7fbb645e9a90>"
      ]
     },
     "metadata": {},
     "output_type": "display_data"
    },
    {
     "data": {
      "image/png": "[encoded data removed]",
      "text/plain": [
       "<matplotlib.figure.Figure at 0x7fbb5cf4bd10>"
      ]
     },
     "metadata": {},
     "output_type": "display_data"
    },
    {
     "data": {
      "image/png": "[encoded data removed]",
      "text/plain": [
       "<matplotlib.figure.Figure at 0x7fbb5ce88350>"
      ]
     },
     "metadata": {},
     "output_type": "display_data"
    },
    {
     "data": {
      "image/png": "[encoded data removed]",
      "text/plain": [
       "<matplotlib.figure.Figure at 0x7fbb5d0072d0>"
      ]
     },
     "metadata": {},
     "output_type": "display_data"
    },
    {
     "data": {
      "image/png": "[encoded data removed]",
      "text/plain": [
       "<matplotlib.figure.Figure at 0x7fbb5cf63f10>"
      ]
     },
     "metadata": {},
     "output_type": "display_data"
    },
    {
     "data": {
      "image/png": "[encoded data removed]",
      "text/plain": [
       "<matplotlib.figure.Figure at 0x7fbb12702b90>"
      ]
     },
     "metadata": {},
     "output_type": "display_data"
    },
    {
     "data": {
      "image/png": "[encoded data removed]",
      "text/plain": [
       "<matplotlib.figure.Figure at 0x7fbb12d4a7d0>"
      ]
     },
     "metadata": {},
     "output_type": "display_data"
    },
    {
     "data": {
      "image/png": "[encoded data removed]",
      "text/plain": [
       "<matplotlib.figure.Figure at 0x7fbb64b71090>"
      ]
     },
     "metadata": {},
     "output_type": "display_data"
    },
    {
     "data": {
      "image/png": "[encoded data removed]",
      "text/plain": [
       "<matplotlib.figure.Figure at 0x7fbb636cd4d0>"
      ]
     },
     "metadata": {},
     "output_type": "display_data"
    },
    {
     "data": {
      "image/png": "[encoded data removed]",
      "text/plain": [
       "<matplotlib.figure.Figure at 0x7fbb65373ad0>"
      ]
     },
     "metadata": {},
     "output_type": "display_data"
    },
    {
     "data": {
      "image/png": "[encoded data removed]",
      "text/plain": [
       "<matplotlib.figure.Figure at 0x7fbb640fa410>"
      ]
     },
     "metadata": {},
     "output_type": "display_data"
    }
   ],
   "source": [
    "layout = fifi.svg_to_axes.FigureLayout(fififig, autogenlayers=True, \n",
    "                                       make_mplfigures=True, hide_layers=[])\n",
    "ax = layout.axes[('angle_v_approaches', 'angle_v_approaches')]\n",
    "\n",
    "fpl.scatter_box(ax, 1, log_df.query('approached_odor==1').angle_of_landing.dropna().values, \n",
    "                color='black', markersize=1, use='mean')\n",
    "\n",
    "fpl.scatter_box(ax, 2, log_df.query('approached_odor==-1').angle_of_landing.dropna().values, \n",
    "                color='black', markersize=1, use='mean')\n",
    "\n",
    "#ax.set_xscale('log')\n",
    "\n",
    "#ax.set_ylim(2.2,9.22)\n",
    "#ax.set_xlim(0, 7)\n",
    "ax.set_xlim(0.5, 2.5)\n",
    "ax.set_ylim(-2, 180)\n",
    "yticks = [0, 45, 90, 135, 180]\n",
    "yticklabels = ['$0^{\\circ}$', '$45^{\\circ}$', '$90^{\\circ}$', '$135^{\\circ}$', '$180^{\\circ}$']\n",
    "\n",
    "xticks = [1, 2]\n",
    "xticklabels = ['', '']\n",
    "\n",
    "\n",
    "fifi.mpl_functions.adjust_spines(ax, ['left', 'bottom'], \n",
    "                                 yticks=yticks, \n",
    "                                 xticks=xticks,\n",
    "                                 linewidth=0.5, tick_length=2.5, \n",
    "                                 spine_locations={'left': 2.5, 'bottom': 2.5})\n",
    "ax.set_yticklabels(yticklabels)\n",
    "ax.set_xticklabels(xticklabels)\n",
    "ax.minorticks_off()\n",
    "\n",
    "fifi.mpl_functions.set_fontsize(ax.figure, 6)\n",
    "layout.append_figure_to_layer(layout.figures['angle_v_approaches'], 'angle_v_approaches', cleartarget=True)\n",
    "layout.write_svg(fififig)"
   ]
  },
  {
   "cell_type": "markdown",
   "metadata": {},
   "source": [
    "### Angle of landing is not correlated with distance travelled"
   ]
  },
  {
   "cell_type": "code",
   "execution_count": 37,
   "metadata": {},
   "outputs": [
    {
     "data": {
      "text/plain": [
       "<matplotlib.text.Text at 0x7fbb129354d0>"
      ]
     },
     "execution_count": 37,
     "metadata": {},
     "output_type": "execute_result"
    },
    {
     "data": {
      "image/png": "[encoded data removed]",
      "text/plain": [
       "<matplotlib.figure.Figure at 0x7fbb5a441850>"
      ]
     },
     "metadata": {},
     "output_type": "display_data"
    }
   ],
   "source": [
    "fig = plt.figure()\n",
    "ax = fig.add_subplot(111)\n",
    "\n",
    "ax.plot(angles_of_landing, np.log(distances_travelled), '.' )\n",
    "\n",
    "ax.set_xlabel('angle of landing')\n",
    "ax.set_xlabel('log distance travelled')"
   ]
  },
  {
   "cell_type": "code",
   "execution_count": 38,
   "metadata": {},
   "outputs": [
    {
     "data": {
      "text/plain": [
       "LinregressResult(slope=-0.0020795572135343977, intercept=6.3127638573564715, rvalue=-0.08441991258329676, pvalue=0.3195973482611121, stderr=0.0020819269466039836)"
      ]
     },
     "execution_count": 38,
     "metadata": {},
     "output_type": "execute_result"
    }
   ],
   "source": [
    "scipy.stats.linregress(angles_of_landing, np.log(distances_travelled))"
   ]
  },
  {
   "cell_type": "code",
   "execution_count": 39,
   "metadata": {},
   "outputs": [
    {
     "data": {
      "text/plain": [
       "<matplotlib.text.Text at 0x7fbb63ec1190>"
      ]
     },
     "execution_count": 39,
     "metadata": {},
     "output_type": "execute_result"
    },
    {
     "data": {
      "image/png": "[encoded data removed]",
      "text/plain": [
       "<matplotlib.figure.Figure at 0x7fbb68ee44d0>"
      ]
     },
     "metadata": {},
     "output_type": "display_data"
    }
   ],
   "source": [
    "fig = plt.figure()\n",
    "ax = fig.add_subplot(111)\n",
    "\n",
    "fpl.scatter_box(ax, 1, speeds[idx_appr], \n",
    "                color='black', markersize=5, use='mean')\n",
    "\n",
    "fpl.scatter_box(ax, 2, speeds[idx_noappr], \n",
    "                color='gray', markersize=5, use='mean')\n",
    "\n",
    "fifi.mpl_functions.adjust_spines(ax, ['left', 'bottom'], \n",
    "                                 xticks=[1, 2],\n",
    "                                 linewidth=0.5, tick_length=2.5, \n",
    "                                 spine_locations={'left': 2.5, 'bottom': 2.5})\n",
    "ax.set_xticklabels(['approached', 'did not\\napproach'])\n",
    "\n",
    "ax.set_ylabel('speeds')"
   ]
  },
  {
   "cell_type": "code",
   "execution_count": 40,
   "metadata": {},
   "outputs": [
    {
     "data": {
      "text/plain": [
       "(0.71, 0.002, 0.224)"
      ]
     },
     "execution_count": 40,
     "metadata": {},
     "output_type": "execute_result"
    }
   ],
   "source": [
    "flystat.resampling.calc_statistical_significance_through_resampling(speeds[idx_appr],\n",
    "                                                                    speeds[idx_noappr])"
   ]
  },
  {
   "cell_type": "markdown",
   "metadata": {},
   "source": [
    "### Some landing stats"
   ]
  },
  {
   "cell_type": "code",
   "execution_count": 41,
   "metadata": {},
   "outputs": [],
   "source": [
    "df = load_data()"
   ]
  },
  {
   "cell_type": "code",
   "execution_count": 42,
   "metadata": {},
   "outputs": [],
   "source": [
    "n_center_approached = 0\n",
    "n_center_noapproach = 0\n",
    "\n",
    "n_right_approached = 0\n",
    "n_right_noapproach = 0\n",
    "\n",
    "n_left_approached = 0\n",
    "n_left_noapproach = 0"
   ]
  },
  {
   "cell_type": "code",
   "execution_count": 43,
   "metadata": {},
   "outputs": [
    {
     "data": {
      "text/plain": [
       "179"
      ]
     },
     "execution_count": 43,
     "metadata": {},
     "output_type": "execute_result"
    }
   ],
   "source": [
    "len(df)"
   ]
  },
  {
   "cell_type": "code",
   "execution_count": 44,
   "metadata": {},
   "outputs": [],
   "source": [
    "#df.reset_index(inplace=True)\n",
    "for i in range(len(df)):\n",
    "    try:\n",
    "        if df.iloc[i]['camera'] == 'right_camera':\n",
    "            if df.iloc[i]['approached_odor'] == 1:\n",
    "                n_right_approached += 1\n",
    "            else:\n",
    "                n_right_noapproach += 1\n",
    "        if df.iloc[i]['camera'] == 'left_camera':\n",
    "            if df.iloc[i]['approached_odor'] == 1:\n",
    "                n_left_approached += 1\n",
    "            else:\n",
    "                n_left_noapproach += 1\n",
    "        if df.iloc[i]['camera'] == 'center_camera':\n",
    "            if df.iloc[i]['approached_odor'] == 1:\n",
    "                n_center_approached += 1\n",
    "            else:\n",
    "                n_center_noapproach += 1\n",
    "    except:\n",
    "        pass"
   ]
  },
  {
   "cell_type": "code",
   "execution_count": 45,
   "metadata": {},
   "outputs": [
    {
     "name": "stdout",
     "output_type": "stream",
     "text": [
      "Center camera\n",
      "('Total: ', 68)\n",
      "('Fraction approached: ', 0.9264705882352942)\n"
     ]
    }
   ],
   "source": [
    "print('Center camera')\n",
    "print('Total: ', n_center_approached+n_center_noapproach)\n",
    "print('Fraction approached: ', float(n_center_approached) / float(n_center_approached + n_center_noapproach))"
   ]
  },
  {
   "cell_type": "code",
   "execution_count": 46,
   "metadata": {},
   "outputs": [
    {
     "name": "stdout",
     "output_type": "stream",
     "text": [
      "Right camera\n",
      "('Total: ', 52)\n",
      "('Fraction approached: ', 0.5192307692307693)\n"
     ]
    }
   ],
   "source": [
    "print('Right camera')\n",
    "print('Total: ', n_right_noapproach+n_right_approached)\n",
    "print('Fraction approached: ', float(n_right_approached) / float(n_right_approached + n_right_noapproach))"
   ]
  },
  {
   "cell_type": "code",
   "execution_count": 47,
   "metadata": {},
   "outputs": [
    {
     "name": "stdout",
     "output_type": "stream",
     "text": [
      "Left camera\n",
      "('Total: ', 59)\n",
      "('Fraction approached: ', 0.4915254237288136)\n"
     ]
    }
   ],
   "source": [
    "print('Left camera')\n",
    "print('Total: ', n_left_noapproach+n_left_approached)\n",
    "print('Fraction approached: ', float(n_left_approached) / float(n_left_approached + n_left_noapproach))"
   ]
  },
  {
   "cell_type": "code",
   "execution_count": null,
   "metadata": {},
   "outputs": [],
   "source": []
  },
  {
   "cell_type": "code",
   "execution_count": null,
   "metadata": {},
   "outputs": [],
   "source": []
  },
  {
   "cell_type": "markdown",
   "metadata": {},
   "source": [
    "### Angle of landing vs distance travelled"
   ]
  },
  {
   "cell_type": "code",
   "execution_count": 68,
   "metadata": {},
   "outputs": [
    {
     "name": "stdout",
     "output_type": "stream",
     "text": [
      "LinregressResult(slope=-0.0020795572135343977, intercept=6.3127638573564715, rvalue=-0.08441991258329676, pvalue=0.3195973482611121, stderr=0.0020819269466039836)\n"
     ]
    },
    {
     "data": {
      "image/png": "[encoded data removed]",
      "text/plain": [
       "<matplotlib.figure.Figure at 0x7fbb12649350>"
      ]
     },
     "metadata": {},
     "output_type": "display_data"
    }
   ],
   "source": [
    "fig = plt.figure(figsize=[5,3])\n",
    "ax = fig.add_subplot(111)\n",
    "\n",
    "ax.scatter(angles_of_landing, np.log(distances_travelled), \n",
    "           c=approach_stats, s=3, linewidth=0.25,rasterized=True, cmap='bone_r')\n",
    "\n",
    "x = np.linspace(np.min(angles_of_landing), np.max(angles_of_landing), 100)\n",
    "\n",
    "r = scipy.stats.linregress(angles_of_landing, np.log(distances_travelled))\n",
    "print(r)\n",
    "y = r.slope*x + r.intercept\n",
    "\n",
    "plt.plot(x,y, color='black')\n",
    "\n",
    "\n",
    "yticks = [10**1, 10**2, 10**3, 10**4]\n",
    "yticklabels = ['$10^1$', '$10^2$', '$10^3$', '$10^4$']\n",
    "\n",
    "xticks = [0, 45, 90, 135, 180]\n",
    "xticklabels = ['$0^{\\circ}$', '$45^{\\circ}$', '$90^{\\circ}$', '$135^{\\circ}$', '$180^{\\circ}$']\n",
    "\n",
    "ax.set_xlim(-10, 180)\n",
    "\n",
    "fifi.mpl_functions.adjust_spines(ax, ['left', 'bottom'], \n",
    "                                 yticks=np.log(yticks), \n",
    "                                 xticks=xticks,\n",
    "                                 linewidth=0.5, tick_length=2.5, \n",
    "                                 spine_locations={'left': 2.5, 'bottom': 2.5})\n",
    "ax.set_yticklabels(yticklabels)\n",
    "ax.set_xticklabels(xticklabels)\n",
    "ax.minorticks_off()"
   ]
  },
  {
   "cell_type": "code",
   "execution_count": null,
   "metadata": {},
   "outputs": [],
   "source": []
  }
 ],
 "metadata": {
  "kernelspec": {
   "display_name": "Python 2",
   "language": "python",
   "name": "python2"
  },
  "language_info": {
   "codemirror_mode": {
    "name": "ipython",
    "version": 2
   },
   "file_extension": ".py",
   "mimetype": "text/x-python",
   "name": "python",
   "nbconvert_exporter": "python",
   "pygments_lexer": "ipython2",
   "version": "2.7.12"
  }
 },
 "nbformat": 4,
 "nbformat_minor": 2
}
