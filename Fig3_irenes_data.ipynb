{
 "cells": [
  {
   "cell_type": "code",
   "execution_count": 1,
   "metadata": {},
   "outputs": [
    {
     "name": "stdout",
     "output_type": "stream",
     "text": [
      "1.5.1\n",
      "recommended version: 1.1.1 or greater\n"
     ]
    },
    {
     "name": "stderr",
     "output_type": "stream",
     "text": [
      "/home/caveman/.local/lib/python2.7/site-packages/pandas/core/computation/__init__.py:18: UserWarning: The installed version of numexpr 2.4.3 is not supported in pandas and will be not be used\n",
      "The minimum supported version is 2.4.6\n",
      "\n",
      "  ver=ver, min_ver=_MIN_NUMEXPR_VERSION), UserWarning)\n"
     ]
    }
   ],
   "source": [
    "import matplotlib.pyplot as plt\n",
    "plt.rc('text', usetex=True)\n",
    "\n",
    "import fly_plot_lib.flymath as flymath\n",
    "import pandas\n",
    "import pickle\n",
    "import numpy as np\n",
    "import matplotlib.pyplot as plt\n",
    "import scipy.stats\n",
    "import copy\n",
    "import figurefirst as fifi"
   ]
  },
  {
   "cell_type": "code",
   "execution_count": 2,
   "metadata": {},
   "outputs": [],
   "source": [
    "def get_frame_where_food_found(near_food):\n",
    "    chunks, breaks = flymath.get_continuous_chunks(near_food)\n",
    "    for chunk in chunks:\n",
    "        if len(chunk) > 12: # > 0.2 seconds:\n",
    "            return chunk[0]\n",
    "    return None\n",
    "\n",
    "def get_time_to_find_food(fly_number, arena, flies):\n",
    "    food_x = arena.query('fly=='+str(fly_number))['food_center_x'].values[0]\n",
    "    food_y = arena.query('fly=='+str(fly_number))['food_center_y'].values[0]\n",
    "\n",
    "    fly = flies.query('fly=='+str(fly_number))\n",
    "    fly['distance_to_food'] = np.sqrt((fly.position_x-food_x)**2 + (fly.position_y-food_y)**2)\n",
    "    near_food = np.where(fly.distance_to_food<2.5)[0]\n",
    "    \n",
    "    if len(near_food) > 0:\n",
    "        frame_where_food_found = get_frame_where_food_found(near_food)\n",
    "        if frame_where_food_found is not None:\n",
    "            time_when_food_found = fly.time.iloc[frame_where_food_found]\n",
    "            \n",
    "            dt = np.median(np.diff(fly.time))\n",
    "            \n",
    "            speed = np.sqrt(fly.velocity_x**2 + fly.velocity_y**2)\n",
    "            distance = np.cumsum(speed*dt)\n",
    "            distance_when_food_found = distance.iloc[frame_where_food_found]\n",
    "            \n",
    "            return time_when_food_found, distance_when_food_found\n",
    "    return None, None"
   ]
  },
  {
   "cell_type": "markdown",
   "metadata": {},
   "source": [
    "# Dark"
   ]
  },
  {
   "cell_type": "code",
   "execution_count": 10,
   "metadata": {},
   "outputs": [
    {
     "name": "stderr",
     "output_type": "stream",
     "text": [
      "/usr/local/lib/python2.7/dist-packages/ipykernel_launcher.py:13: SettingWithCopyWarning: \n",
      "A value is trying to be set on a copy of a slice from a DataFrame.\n",
      "Try using .loc[row_indexer,col_indexer] = value instead\n",
      "\n",
      "See the caveats in the documentation: http://pandas.pydata.org/pandas-docs/stable/indexing.html#indexing-view-versus-copy\n",
      "  del sys.path[0]\n"
     ]
    }
   ],
   "source": [
    "arena = pandas.read_csv('irenesdata/dataset_03_largeArena_dark_arena.csv')\n",
    "flies = pandas.read_csv('irenesdata/dataset_03_largeArena_dark_flies.csv')\n",
    "\n",
    "times_when_food_found = []\n",
    "distances_when_food_found = []\n",
    "\n",
    "for fly_number in flies.fly.unique():\n",
    "    t, d = get_time_to_find_food(fly_number, arena, flies)\n",
    "    if t is not None:\n",
    "        times_when_food_found.append(t)\n",
    "        distances_when_food_found.append(d)"
   ]
  },
  {
   "cell_type": "code",
   "execution_count": 11,
   "metadata": {},
   "outputs": [],
   "source": [
    "num_bins = 30\n",
    "cdf_bs = []\n",
    "for i in range(10000):\n",
    "    vals = np.random.choice(distances_when_food_found, len(distances_when_food_found), replace=True)\n",
    "    counts, bin_edges = np.histogram(vals, bins=num_bins, normed=True)\n",
    "    cdf = np.cumsum(counts)\n",
    "    cdf /= np.max(cdf)\n",
    "    cdf_bs.append(cdf)\n",
    "    \n",
    "cdf_bs = np.vstack(cdf_bs)\n",
    "cdf_bs = np.sort(cdf_bs, axis=0)\n",
    "dark_bin_edges = copy.copy(bin_edges)\n",
    "dark_low = copy.copy(cdf_bs[int(0.025*cdf_bs.shape[0])])\n",
    "dark_high = copy.copy(cdf_bs[int(0.975*cdf_bs.shape[0])])"
   ]
  },
  {
   "cell_type": "code",
   "execution_count": 12,
   "metadata": {},
   "outputs": [
    {
     "data": {
      "text/plain": [
       "[<matplotlib.lines.Line2D at 0x7fb9b32ad8d0>]"
      ]
     },
     "execution_count": 12,
     "metadata": {},
     "output_type": "execute_result"
    },
    {
     "data": {
      "image/png": "[encoded data removed]",
      "text/plain": [
       "<matplotlib.figure.Figure at 0x7fb9eeb49890>"
      ]
     },
     "metadata": {},
     "output_type": "display_data"
    }
   ],
   "source": [
    "fig = plt.figure()\n",
    "ax = fig.add_subplot(111)\n",
    "\n",
    "ax.fill_between(dark_bin_edges[1:], dark_low, dark_high, edgecolor='none', facecolor='red', alpha=0.3)\n",
    "\n",
    "search_distances = np.linspace(0, 8000)\n",
    "pfoodstep = 1000\n",
    "cdf_model = scipy.stats.expon.cdf(search_distances, scale=pfoodstep)\n",
    "plt.plot(search_distances, cdf_model, color='red', linewidth=2)"
   ]
  },
  {
   "cell_type": "markdown",
   "metadata": {},
   "source": [
    "# Light"
   ]
  },
  {
   "cell_type": "code",
   "execution_count": 6,
   "metadata": {},
   "outputs": [
    {
     "name": "stderr",
     "output_type": "stream",
     "text": [
      "/usr/local/lib/python2.7/dist-packages/ipykernel_launcher.py:13: SettingWithCopyWarning: \n",
      "A value is trying to be set on a copy of a slice from a DataFrame.\n",
      "Try using .loc[row_indexer,col_indexer] = value instead\n",
      "\n",
      "See the caveats in the documentation: http://pandas.pydata.org/pandas-docs/stable/indexing.html#indexing-view-versus-copy\n",
      "  del sys.path[0]\n"
     ]
    }
   ],
   "source": [
    "arena = pandas.read_csv('irenesdata/dataset_01_largeArena_yeast_arena.csv')\n",
    "flies = pandas.read_csv('irenesdata/dataset_01_largeArena_yeast_flies.csv')\n",
    "\n",
    "times_when_food_found = []\n",
    "distances_when_food_found = []\n",
    "\n",
    "for fly_number in flies.fly.unique():\n",
    "    t, d = get_time_to_find_food(fly_number, arena, flies)\n",
    "    if t is not None:\n",
    "        times_when_food_found.append(t)\n",
    "        distances_when_food_found.append(d)"
   ]
  },
  {
   "cell_type": "code",
   "execution_count": 7,
   "metadata": {},
   "outputs": [],
   "source": [
    "num_bins = 30\n",
    "cdf_bs = []\n",
    "for i in range(10000):\n",
    "    vals = np.random.choice(distances_when_food_found, len(distances_when_food_found), replace=True)\n",
    "    counts, bin_edges = np.histogram(vals, bins=num_bins, normed=True)\n",
    "    cdf = np.cumsum(counts)\n",
    "    cdf /= np.max(cdf)\n",
    "    cdf_bs.append(cdf)\n",
    "    \n",
    "cdf_bs = np.vstack(cdf_bs)\n",
    "cdf_bs = np.sort(cdf_bs, axis=0)\n",
    "yeast_bin_edges = copy.copy(bin_edges)\n",
    "yeast_low = copy.copy(cdf_bs[int(0.025*cdf_bs.shape[0])])\n",
    "yeast_high = copy.copy(cdf_bs[int(0.975*cdf_bs.shape[0])])"
   ]
  },
  {
   "cell_type": "code",
   "execution_count": 8,
   "metadata": {},
   "outputs": [
    {
     "data": {
      "text/plain": [
       "[<matplotlib.lines.Line2D at 0x7fb9eeb2aed0>]"
      ]
     },
     "execution_count": 8,
     "metadata": {},
     "output_type": "execute_result"
    },
    {
     "data": {
      "image/png": "[encoded data removed]",
      "text/plain": [
       "<matplotlib.figure.Figure at 0x7fba35eb0f90>"
      ]
     },
     "metadata": {},
     "output_type": "display_data"
    }
   ],
   "source": [
    "fig = plt.figure()\n",
    "ax = fig.add_subplot(111)\n",
    "\n",
    "ax.fill_between(yeast_bin_edges[1:], yeast_low, yeast_high, edgecolor='none', facecolor='orange', alpha=0.3)\n",
    "\n",
    "search_distances = np.linspace(0, 8000)\n",
    "pfoodstep = 2200\n",
    "cdf_model = scipy.stats.expon.cdf(search_distances, scale=pfoodstep)\n",
    "plt.plot(search_distances, cdf_model, color='orange', linewidth=2)"
   ]
  },
  {
   "cell_type": "markdown",
   "metadata": {},
   "source": [
    "# FIFI"
   ]
  },
  {
   "cell_type": "code",
   "execution_count": 13,
   "metadata": {},
   "outputs": [
    {
     "data": {
      "image/png": "[encoded data removed]",
      "text/plain": [
       "<matplotlib.figure.Figure at 0x7fb9b23a2f10>"
      ]
     },
     "metadata": {},
     "output_type": "display_data"
    },
    {
     "data": {
      "image/png": "[encoded data removed]",
      "text/plain": [
       "<matplotlib.figure.Figure at 0x7fb9b232f550>"
      ]
     },
     "metadata": {},
     "output_type": "display_data"
    },
    {
     "data": {
      "image/png": "[encoded data removed]",
      "text/plain": [
       "<matplotlib.figure.Figure at 0x7fb99d11fad0>"
      ]
     },
     "metadata": {},
     "output_type": "display_data"
    },
    {
     "data": {
      "image/png": "[encoded data removed]",
      "text/plain": [
       "<matplotlib.figure.Figure at 0x7fb9b2360e90>"
      ]
     },
     "metadata": {},
     "output_type": "display_data"
    },
    {
     "data": {
      "image/png": "[encoded data removed]",
      "text/plain": [
       "<matplotlib.figure.Figure at 0x7fb9b2743510>"
      ]
     },
     "metadata": {},
     "output_type": "display_data"
    },
    {
     "data": {
      "image/png": "[encoded data removed]",
      "text/plain": [
       "<matplotlib.figure.Figure at 0x7fb9b24d9450>"
      ]
     },
     "metadata": {},
     "output_type": "display_data"
    },
    {
     "data": {
      "image/png": "[encoded data removed]",
      "text/plain": [
       "<matplotlib.figure.Figure at 0x7fb99d039250>"
      ]
     },
     "metadata": {},
     "output_type": "display_data"
    },
    {
     "data": {
      "image/png": "[encoded data removed]",
      "text/plain": [
       "<matplotlib.figure.Figure at 0x7fb99ce65210>"
      ]
     },
     "metadata": {},
     "output_type": "display_data"
    },
    {
     "data": {
      "image/png": "[encoded data removed]",
      "text/plain": [
       "<matplotlib.figure.Figure at 0x7fb99cbbb250>"
      ]
     },
     "metadata": {},
     "output_type": "display_data"
    },
    {
     "data": {
      "image/png": "[encoded data removed]",
      "text/plain": [
       "<matplotlib.figure.Figure at 0x7fb99c9a27d0>"
      ]
     },
     "metadata": {},
     "output_type": "display_data"
    },
    {
     "data": {
      "image/png": "[encoded data removed]",
      "text/plain": [
       "<matplotlib.figure.Figure at 0x7fb99c90ef90>"
      ]
     },
     "metadata": {},
     "output_type": "display_data"
    },
    {
     "data": {
      "image/png": "[encoded data removed]",
      "text/plain": [
       "<matplotlib.figure.Figure at 0x7fb99c8a0790>"
      ]
     },
     "metadata": {},
     "output_type": "display_data"
    },
    {
     "data": {
      "image/png": "[encoded data removed]",
      "text/plain": [
       "<matplotlib.figure.Figure at 0x7fb99c810a10>"
      ]
     },
     "metadata": {},
     "output_type": "display_data"
    },
    {
     "data": {
      "image/png": "[encoded data removed]",
      "text/plain": [
       "<matplotlib.figure.Figure at 0x7fb99c79d550>"
      ]
     },
     "metadata": {},
     "output_type": "display_data"
    },
    {
     "data": {
      "image/png": "[encoded data removed]",
      "text/plain": [
       "<matplotlib.figure.Figure at 0x7fb99c502d90>"
      ]
     },
     "metadata": {},
     "output_type": "display_data"
    }
   ],
   "source": [
    "fififig = 'figures/foraging_fig_4_revision_v2.svg'\n",
    "layout = fifi.svg_to_axes.FigureLayout(fififig, autogenlayers=True, \n",
    "                                       make_mplfigures=True, hide_layers=[])\n",
    "\n",
    "ax = layout.axes[('irene', 'irene')]\n",
    "\n",
    "# light yeast\n",
    "ax.fill_between(yeast_bin_edges[1:], yeast_low, yeast_high, edgecolor='none', facecolor='orange', alpha=0.3)\n",
    "search_distances = np.linspace(0, 8000)\n",
    "pfoodstep = 2200\n",
    "cdf_model = scipy.stats.expon.cdf(search_distances, scale=pfoodstep)\n",
    "ax.plot(search_distances, cdf_model, color='orange', linewidth=2)\n",
    "\n",
    "# dark yeast\n",
    "ax.fill_between(dark_bin_edges[1:], dark_low, dark_high, edgecolor='none', facecolor='red', alpha=0.3)\n",
    "search_distances = np.linspace(0, 8000)\n",
    "pfoodstep = 1000\n",
    "cdf_model = scipy.stats.expon.cdf(search_distances, scale=pfoodstep)\n",
    "ax.plot(search_distances, cdf_model, color='red', linewidth=2)\n",
    "\n",
    "\n",
    "fifi.mpl_functions.adjust_spines(ax, ['left', 'bottom'], \n",
    "                                 xticks=np.linspace(0, 8000, 5),\n",
    "                                 yticks=[0., 0.5, 1],\n",
    "                                 linewidth=0.5, tick_length=2.5, \n",
    "                                 spine_locations={'left': 2.5, 'bottom': 3.5})\n",
    "\n",
    "ax.set_xticklabels(['$0$','$2000$','$4000$','$6000$','$8000$',])\n",
    "ax.set_yticklabels(['$0$','$0.5$','$1$',])\n",
    "\n",
    "fifi.mpl_functions.set_fontsize(ax.figure, 8)\n",
    "layout.append_figure_to_layer(layout.figures['irene'], 'irene', cleartarget=True)\n",
    "layout.write_svg(fififig)"
   ]
  },
  {
   "cell_type": "code",
   "execution_count": null,
   "metadata": {},
   "outputs": [],
   "source": []
  },
  {
   "cell_type": "code",
   "execution_count": null,
   "metadata": {},
   "outputs": [],
   "source": []
  },
  {
   "cell_type": "code",
   "execution_count": null,
   "metadata": {},
   "outputs": [],
   "source": []
  }
 ],
 "metadata": {
  "kernelspec": {
   "display_name": "Python 2",
   "language": "python",
   "name": "python2"
  },
  "language_info": {
   "codemirror_mode": {
    "name": "ipython",
    "version": 2
   },
   "file_extension": ".py",
   "mimetype": "text/x-python",
   "name": "python",
   "nbconvert_exporter": "python",
   "pygments_lexer": "ipython2",
   "version": "2.7.12"
  }
 },
 "nbformat": 4,
 "nbformat_minor": 2
}
