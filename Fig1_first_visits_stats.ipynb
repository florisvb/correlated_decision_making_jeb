{
 "cells": [
  {
   "cell_type": "code",
   "execution_count": 1,
   "metadata": {},
   "outputs": [
    {
     "name": "stderr",
     "output_type": "stream",
     "text": [
      "/home/caveman/.local/lib/python2.7/site-packages/pandas/core/computation/__init__.py:18: UserWarning: The installed version of numexpr 2.4.3 is not supported in pandas and will be not be used\n",
      "The minimum supported version is 2.4.6\n",
      "\n",
      "  ver=ver, min_ver=_MIN_NUMEXPR_VERSION), UserWarning)\n"
     ]
    },
    {
     "name": "stdout",
     "output_type": "stream",
     "text": [
      "1.5.1\n",
      "recommended version: 1.1.1 or greater\n"
     ]
    },
    {
     "name": "stderr",
     "output_type": "stream",
     "text": [
      "/home/caveman/.local/lib/python2.7/site-packages/statsmodels/compat/pandas.py:56: FutureWarning: The pandas.core.datetools module is deprecated and will be removed in a future version. Please use the pandas.tseries module instead.\n",
      "  from pandas.core import datetools\n"
     ]
    }
   ],
   "source": [
    "import numpy as np\n",
    "import matplotlib.pyplot as plt\n",
    "plt.rc('text', usetex=True)\n",
    "import pickle\n",
    "import os\n",
    "import time\n",
    "import datetime\n",
    "from matplotlib import patches\n",
    "import multi_tracker_analysis as mta\n",
    "import scipy.stats\n",
    "import figurefirst as fifi\n",
    "import pandas\n",
    "import copy\n",
    "import matplotlib.patches as mpatches\n",
    "\n",
    "from numpy import random, histogram2d, diff\n",
    "import matplotlib.pyplot as plt\n",
    "from scipy.interpolate import interp2d\n",
    "from scipy.interpolate import interp1d\n",
    "\n",
    "import statsmodels.api as sm\n",
    "import statsmodels.formula.api as smf\n",
    "import load_data\n",
    "import flystat"
   ]
  },
  {
   "cell_type": "markdown",
   "metadata": {},
   "source": [
    "### Are the first visits longer?"
   ]
  },
  {
   "cell_type": "code",
   "execution_count": 60,
   "metadata": {},
   "outputs": [],
   "source": [
    "only_flies_that_approached_odor = True\n",
    "\n",
    "df = load_data.load_data()\n",
    "if only_flies_that_approached_odor:\n",
    "    df = df.query(\"approached_odor == 1\")\n"
   ]
  },
  {
   "cell_type": "code",
   "execution_count": 61,
   "metadata": {},
   "outputs": [],
   "source": [
    "distance_travelled_first_visits = []\n",
    "for flid in df.flid.unique():\n",
    "    dfq = df.query('flid == ' + str(flid))\n",
    "    if len(dfq) > 1:\n",
    "        distance_travelled_first_visits.append(dfq.distance_travelled.values[0])"
   ]
  },
  {
   "cell_type": "code",
   "execution_count": 62,
   "metadata": {},
   "outputs": [],
   "source": [
    "null_dist = []\n",
    "\n",
    "for i in range(1000):\n",
    "    distance_travelled_subsequent_visits = []\n",
    "    for flid in df.flid.unique():\n",
    "        dfq = df.query('flid == ' + str(flid))\n",
    "        if len(dfq) > 1:\n",
    "            distance_travelled_subsequent_visits.append( np.random.choice(dfq.distance_travelled.values[0:]) )\n",
    "    null_dist.append(np.mean(distance_travelled_subsequent_visits))"
   ]
  },
  {
   "cell_type": "code",
   "execution_count": 63,
   "metadata": {},
   "outputs": [],
   "source": [
    "true = np.mean(distance_travelled_first_visits)"
   ]
  },
  {
   "cell_type": "code",
   "execution_count": 64,
   "metadata": {},
   "outputs": [
    {
     "data": {
      "text/plain": [
       "<matplotlib.collections.LineCollection at 0x7f4b2853bf10>"
      ]
     },
     "execution_count": 64,
     "metadata": {},
     "output_type": "execute_result"
    },
    {
     "data": {
      "image/png": "[encoded data removed]",
      "text/plain": [
       "<matplotlib.figure.Figure at 0x7f4b284f1210>"
      ]
     },
     "metadata": {},
     "output_type": "display_data"
    }
   ],
   "source": [
    "plt.hist(null_dist)\n",
    "plt.vlines(true, 0, 200)"
   ]
  },
  {
   "cell_type": "code",
   "execution_count": 65,
   "metadata": {},
   "outputs": [],
   "source": [
    "null_dist = np.sort(null_dist)"
   ]
  },
  {
   "cell_type": "code",
   "execution_count": 66,
   "metadata": {},
   "outputs": [
    {
     "name": "stdout",
     "output_type": "stream",
     "text": [
      "one-tailed p-value:\n",
      "0.005\n"
     ]
    }
   ],
   "source": [
    "ix = np.argmin( np.abs(null_dist-true) )\n",
    "print('one-tailed p-value:')\n",
    "print((1000 - ix)/1000.)"
   ]
  },
  {
   "cell_type": "code",
   "execution_count": 70,
   "metadata": {},
   "outputs": [
    {
     "data": {
      "image/png": "[encoded data removed]",
      "text/plain": [
       "<matplotlib.figure.Figure at 0x7f4ad5f7c650>"
      ]
     },
     "metadata": {},
     "output_type": "display_data"
    },
    {
     "data": {
      "image/png": "[encoded data removed]",
      "text/plain": [
       "<matplotlib.figure.Figure at 0x7f4bc4cc5cd0>"
      ]
     },
     "metadata": {},
     "output_type": "display_data"
    },
    {
     "data": {
      "image/png": "[encoded data removed]",
      "text/plain": [
       "<matplotlib.figure.Figure at 0x7f4b28a3d310>"
      ]
     },
     "metadata": {},
     "output_type": "display_data"
    },
    {
     "data": {
      "image/png": "[encoded data removed]",
      "text/plain": [
       "<matplotlib.figure.Figure at 0x7f4ad4b270d0>"
      ]
     },
     "metadata": {},
     "output_type": "display_data"
    }
   ],
   "source": [
    "fififig = 'figures/foraging_fig_1.svg'\n",
    "layout = fifi.svg_to_axes.FigureLayout(fififig, autogenlayers=True, \n",
    "                                       make_mplfigures=True, hide_layers=[])\n",
    "ax = layout.axes[('bootstrapped_approached', 'bootstrapped_approached')]\n",
    "\n",
    "v,b,p = ax.hist(null_dist, edgecolor='none', facecolor='black')\n",
    "ax.vlines(true, 0, np.max(v), color='red', linewidths=2)\n",
    "\n",
    "fifi.mpl_functions.adjust_spines(ax, ['bottom'], \n",
    "                                 xticks = [600, 1200, 1800],\n",
    "                                 linewidth=0.5, tick_length=2.5, \n",
    "                                 spine_locations={'left': 2.5, 'bottom': 2.5})\n",
    "#ax.set_xticklabels([]) #['$0$', '$0.5$', '$1$'])\n",
    "ax.minorticks_off()\n",
    "\n",
    "#######\n",
    "\n",
    "fifi.mpl_functions.set_fontsize(ax.figure, 8)\n",
    "layout.append_figure_to_layer(layout.figures['bootstrapped_approached'], 'bootstrapped_approached', cleartarget=True)\n",
    "layout.write_svg(fififig)"
   ]
  },
  {
   "cell_type": "markdown",
   "metadata": {},
   "source": [
    "### All trajectories"
   ]
  },
  {
   "cell_type": "code",
   "execution_count": 71,
   "metadata": {},
   "outputs": [],
   "source": [
    "only_flies_that_approached_odor = False\n",
    "\n",
    "df = load_data.load_data()\n",
    "if only_flies_that_approached_odor:\n",
    "    df = df.query(\"approached_odor == 1\")\n"
   ]
  },
  {
   "cell_type": "code",
   "execution_count": 72,
   "metadata": {},
   "outputs": [],
   "source": [
    "distance_travelled_first_visits = []\n",
    "for flid in df.flid.unique():\n",
    "    dfq = df.query('flid == ' + str(flid))\n",
    "    if len(dfq) > 1:\n",
    "        distance_travelled_first_visits.append(dfq.distance_travelled.values[0])"
   ]
  },
  {
   "cell_type": "code",
   "execution_count": 73,
   "metadata": {},
   "outputs": [],
   "source": [
    "null_dist = []\n",
    "\n",
    "for i in range(1000):\n",
    "    distance_travelled_subsequent_visits = []\n",
    "    for flid in df.flid.unique():\n",
    "        dfq = df.query('flid == ' + str(flid))\n",
    "        if len(dfq) > 1:\n",
    "            distance_travelled_subsequent_visits.append( np.random.choice(dfq.distance_travelled.values[0:]) )\n",
    "    null_dist.append(np.mean(distance_travelled_subsequent_visits))"
   ]
  },
  {
   "cell_type": "code",
   "execution_count": 74,
   "metadata": {},
   "outputs": [],
   "source": [
    "true = np.mean(distance_travelled_first_visits)"
   ]
  },
  {
   "cell_type": "code",
   "execution_count": 75,
   "metadata": {},
   "outputs": [
    {
     "data": {
      "text/plain": [
       "<matplotlib.collections.LineCollection at 0x7f4ad4b4a510>"
      ]
     },
     "execution_count": 75,
     "metadata": {},
     "output_type": "execute_result"
    },
    {
     "data": {
      "image/png": "[encoded data removed]",
      "text/plain": [
       "<matplotlib.figure.Figure at 0x7f4b29bfa910>"
      ]
     },
     "metadata": {},
     "output_type": "display_data"
    }
   ],
   "source": [
    "plt.hist(null_dist)\n",
    "plt.vlines(true, 0, 200)"
   ]
  },
  {
   "cell_type": "code",
   "execution_count": 76,
   "metadata": {},
   "outputs": [],
   "source": [
    "null_dist = np.sort(null_dist)"
   ]
  },
  {
   "cell_type": "code",
   "execution_count": 77,
   "metadata": {},
   "outputs": [
    {
     "name": "stdout",
     "output_type": "stream",
     "text": [
      "one-tailed p-value:\n",
      "0.081\n"
     ]
    }
   ],
   "source": [
    "ix = np.argmin( np.abs(null_dist-true) )\n",
    "print('one-tailed p-value:')\n",
    "print((1000 - ix)/1000.)"
   ]
  },
  {
   "cell_type": "code",
   "execution_count": 79,
   "metadata": {},
   "outputs": [
    {
     "data": {
      "image/png": "[encoded data removed]",
      "text/plain": [
       "<matplotlib.figure.Figure at 0x7f4b294d8a10>"
      ]
     },
     "metadata": {},
     "output_type": "display_data"
    },
    {
     "data": {
      "image/png": "[encoded data removed]",
      "text/plain": [
       "<matplotlib.figure.Figure at 0x7f4b28c302d0>"
      ]
     },
     "metadata": {},
     "output_type": "display_data"
    },
    {
     "data": {
      "image/png": "[encoded data removed]",
      "text/plain": [
       "<matplotlib.figure.Figure at 0x7f4ad59ef150>"
      ]
     },
     "metadata": {},
     "output_type": "display_data"
    },
    {
     "data": {
      "image/png": "[encoded data removed]",
      "text/plain": [
       "<matplotlib.figure.Figure at 0x7f4ad633d210>"
      ]
     },
     "metadata": {},
     "output_type": "display_data"
    }
   ],
   "source": [
    "fififig = 'figures/foraging_fig_1.svg'\n",
    "layout = fifi.svg_to_axes.FigureLayout(fififig, autogenlayers=True, \n",
    "                                       make_mplfigures=True, hide_layers=[])\n",
    "ax = layout.axes[('bootstrapped_all', 'bootstrapped_all')]\n",
    "\n",
    "v,b,p = ax.hist(null_dist, edgecolor='none', facecolor='gray')\n",
    "ax.vlines(true, 0, np.max(v), color='red', linewidths=2)\n",
    "\n",
    "fifi.mpl_functions.adjust_spines(ax, ['bottom'], \n",
    "                                 xticks = [600, 1200, 1800],\n",
    "                                 linewidth=0.5, tick_length=2.5, \n",
    "                                 spine_locations={'left': 2.5, 'bottom': 2.5})\n",
    "#ax.set_xticklabels([]) #['$0$', '$0.5$', '$1$'])\n",
    "ax.minorticks_off()\n",
    "\n",
    "#######\n",
    "\n",
    "fifi.mpl_functions.set_fontsize(ax.figure, 8)\n",
    "layout.append_figure_to_layer(layout.figures['bootstrapped_all'], 'bootstrapped_all', cleartarget=True)\n",
    "layout.write_svg(fififig)"
   ]
  },
  {
   "cell_type": "code",
   "execution_count": null,
   "metadata": {},
   "outputs": [],
   "source": []
  },
  {
   "cell_type": "code",
   "execution_count": null,
   "metadata": {},
   "outputs": [],
   "source": []
  },
  {
   "cell_type": "code",
   "execution_count": null,
   "metadata": {},
   "outputs": [],
   "source": []
  },
  {
   "cell_type": "code",
   "execution_count": null,
   "metadata": {},
   "outputs": [],
   "source": []
  },
  {
   "cell_type": "code",
   "execution_count": 3,
   "metadata": {},
   "outputs": [],
   "source": [
    "def compare_first_visit_and_subsequent_visits_for_fly(log_df, flid, plot=False, \n",
    "                                                      nth_visit=\"first_approach\", ax=None,\n",
    "                                                      only_flies_that_approached_odor=True,\n",
    "                                                      facecolor='black'):\n",
    "    flid_1 = log_df.query(\"flid == \" + str(flid))\n",
    "    if only_flies_that_approached_odor:\n",
    "        flid_1 = flid_1.query(\"approached_odor == 1\")\n",
    "    if len(flid_1) < 1:\n",
    "        return np.nan\n",
    "    \n",
    "    if nth_visit == 'random':\n",
    "        nth_visit = np.random.choice(flid_1.nth_visit.values)\n",
    "\n",
    "    if nth_visit == 'first_approach':\n",
    "        nth_visit = flid_1.nth_visit.values[0]\n",
    "    \n",
    "    m = flystat.resampling.bootstrap_medians_from_data(flid_1.distance_travelled.values, use='mean', iterations=1000)\n",
    "    m = np.log(m)\n",
    "    #m = flystat.resampling.bootstrap_medians_from_data(flid_1.query(\"nth_visit != \" + str(nth_visit)).log_distance_travelled.values, use='mean', iterations=1000)\n",
    "    first_visit = flid_1.query(\"nth_visit == \" + str(nth_visit)).log_distance_travelled.values[0]\n",
    "    \n",
    "    \n",
    "    \n",
    "    # check if pval < 0.05, one-tailed\n",
    "    m = np.sort(m)\n",
    "    idx = np.argmin( np.abs(m-first_visit) )\n",
    "    \n",
    "    \n",
    "    if plot:\n",
    "        if ax is None:\n",
    "            fig = plt.figure()\n",
    "            ax = fig.add_subplot(111)\n",
    "        v, b, p = ax.hist(m, edgecolor='none', facecolor=facecolor)\n",
    "        \n",
    "        if idx > (len(m) - 0.05*len(m)):\n",
    "            color='red'\n",
    "        else:\n",
    "            color='teal'\n",
    "        ax.vlines(first_visit, 0, np.max(v), color=color, linewidths=2)\n",
    "    \n",
    "    \n",
    "    if idx > (len(m) - 0.05*len(m)):\n",
    "        return True\n",
    "    else:\n",
    "        return False"
   ]
  },
  {
   "cell_type": "markdown",
   "metadata": {},
   "source": [
    "### Flies that approached the odor"
   ]
  },
  {
   "cell_type": "code",
   "execution_count": 4,
   "metadata": {},
   "outputs": [
    {
     "name": "stderr",
     "output_type": "stream",
     "text": [
      "load_data.py:70: RuntimeWarning: divide by zero encountered in log\n",
      "  log_df['log_' + col] = np.log(df[col])\n",
      "load_data.py:70: RuntimeWarning: invalid value encountered in log\n",
      "  log_df['log_' + col] = np.log(df[col])\n"
     ]
    },
    {
     "name": "stdout",
     "output_type": "stream",
     "text": [
      "('dropping flids: ', array([10]))\n"
     ]
    },
    {
     "data": {
      "image/png": "[encoded data removed]",
      "text/plain": [
       "<matplotlib.figure.Figure at 0x7f4d9ae902d0>"
      ]
     },
     "metadata": {},
     "output_type": "display_data"
    }
   ],
   "source": [
    "only_flies_that_approached_odor = True\n",
    "\n",
    "log_df = load_data.load_data()\n",
    "if only_flies_that_approached_odor:\n",
    "    log_df = log_df.query(\"approached_odor == 1\")\n",
    "    \n",
    "# drop flids with only one data point\n",
    "r = (log_df.groupby(\"flid\").count()==1).query(\"all_trajec_ids == True\")\n",
    "flids_with_too_little_data = r.index.values\n",
    "print(\"dropping flids: \", flids_with_too_little_data)\n",
    "log_df = log_df[~log_df['flid'].isin(flids_with_too_little_data)]\n",
    "\n",
    "fig = plt.figure(figsize=(8,2))\n",
    "fig.subplots_adjust(wspace=0.5, hspace=0.3)\n",
    "for i in range(len(log_df.flid.unique())):\n",
    "    ax = fig.add_subplot(2,8,i+1)\n",
    "    compare_first_visit_and_subsequent_visits_for_fly(log_df, log_df.flid.unique()[i], plot=True, \n",
    "                                                      ax=ax, \n",
    "                                                      only_flies_that_approached_odor=only_flies_that_approached_odor)\n",
    "    if i==8:\n",
    "        ax.set_ylabel(\"Count\")\n",
    "        ax.set_xlabel(\"Distance travelled (mm)\")\n",
    "        \n",
    "    ax.set_xticks(np.log([100, 1000, 10000]))\n",
    "    ax.set_xticklabels(['$10^2$', '$10^3$', '$10^4$'])\n",
    "    \n",
    "fifi.mpl_functions.set_fontsize(ax, 5)\n",
    "fig.savefig('first_visit_stats_approached_odor.png', dpi=300)"
   ]
  },
  {
   "cell_type": "code",
   "execution_count": 11,
   "metadata": {},
   "outputs": [
    {
     "data": {
      "image/png": "[encoded data removed]",
      "text/plain": [
       "<matplotlib.figure.Figure at 0x7f4cbde41050>"
      ]
     },
     "metadata": {},
     "output_type": "display_data"
    },
    {
     "data": {
      "image/png": "[encoded data removed]",
      "text/plain": [
       "<matplotlib.figure.Figure at 0x7f4cfeb13710>"
      ]
     },
     "metadata": {},
     "output_type": "display_data"
    },
    {
     "data": {
      "image/png": "[encoded data removed]",
      "text/plain": [
       "<matplotlib.figure.Figure at 0x7f4cfeb19110>"
      ]
     },
     "metadata": {},
     "output_type": "display_data"
    },
    {
     "data": {
      "image/png": "[encoded data removed]",
      "text/plain": [
       "<matplotlib.figure.Figure at 0x7f4cbdce0690>"
      ]
     },
     "metadata": {},
     "output_type": "display_data"
    }
   ],
   "source": []
  },
  {
   "cell_type": "markdown",
   "metadata": {},
   "source": [
    "### All flies"
   ]
  },
  {
   "cell_type": "code",
   "execution_count": 12,
   "metadata": {},
   "outputs": [
    {
     "name": "stdout",
     "output_type": "stream",
     "text": [
      "('dropping flids: ', array([], dtype=int64))\n"
     ]
    },
    {
     "data": {
      "image/png": "[encoded data removed]",
      "text/plain": [
       "<matplotlib.figure.Figure at 0x7f4d9aede9d0>"
      ]
     },
     "metadata": {},
     "output_type": "display_data"
    }
   ],
   "source": [
    "only_flies_that_approached_odor = False\n",
    "\n",
    "log_df = load_data.load_data()\n",
    "if only_flies_that_approached_odor:\n",
    "    log_df = log_df.query(\"approached_odor == 1\")\n",
    "    \n",
    "# drop flids with only one data point\n",
    "r = (log_df.groupby(\"flid\").count()==1).query(\"all_trajec_ids == True\")\n",
    "flids_with_too_little_data = r.index.values\n",
    "print(\"dropping flids: \", flids_with_too_little_data)\n",
    "log_df = log_df[~log_df['flid'].isin(flids_with_too_little_data)]\n",
    "\n",
    "fig = plt.figure(figsize=(8,2))\n",
    "fig.subplots_adjust(wspace=0.5, hspace=0.3)\n",
    "for i in range(len(log_df.flid.unique())):\n",
    "    ax = fig.add_subplot(2,8,i+1)\n",
    "    compare_first_visit_and_subsequent_visits_for_fly(log_df, log_df.flid.unique()[i], plot=True, \n",
    "                                                      ax=ax, \n",
    "                                                      facecolor='gray',\n",
    "                                                      only_flies_that_approached_odor=only_flies_that_approached_odor)\n",
    "    if i==8:\n",
    "        ax.set_ylabel(\"Count\")\n",
    "        ax.set_xlabel(\"Distance travelled (mm)\")\n",
    "        \n",
    "    ax.set_xticks(np.log([100, 1000, 10000]))\n",
    "    ax.set_xticklabels(['$10^2$', '$10^3$', '$10^4$'])\n",
    "    \n",
    "fifi.mpl_functions.set_fontsize(ax, 5)\n",
    "fig.savefig('first_visit_stats_all_flies.png', dpi=300)"
   ]
  },
  {
   "cell_type": "code",
   "execution_count": null,
   "metadata": {},
   "outputs": [],
   "source": []
  },
  {
   "cell_type": "code",
   "execution_count": null,
   "metadata": {},
   "outputs": [],
   "source": []
  },
  {
   "cell_type": "code",
   "execution_count": null,
   "metadata": {},
   "outputs": [],
   "source": []
  }
 ],
 "metadata": {
  "kernelspec": {
   "display_name": "Python 2",
   "language": "python",
   "name": "python2"
  },
  "language_info": {
   "codemirror_mode": {
    "name": "ipython",
    "version": 2
   },
   "file_extension": ".py",
   "mimetype": "text/x-python",
   "name": "python",
   "nbconvert_exporter": "python",
   "pygments_lexer": "ipython2",
   "version": "2.7.12"
  }
 },
 "nbformat": 4,
 "nbformat_minor": 2
}
